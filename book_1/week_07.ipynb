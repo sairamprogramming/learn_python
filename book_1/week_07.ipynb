{
 "cells": [
  {
   "cell_type": "markdown",
   "metadata": {},
   "source": [
    "# Creating & Instantiating a Class"
   ]
  },
  {
   "cell_type": "code",
   "execution_count": 1,
   "metadata": {},
   "outputs": [],
   "source": [
    "# creating your first class\n",
    "class Car():\n",
    "    pass"
   ]
  },
  {
   "cell_type": "code",
   "execution_count": 2,
   "metadata": {},
   "outputs": [
    {
     "name": "stdout",
     "output_type": "stream",
     "text": [
      "<__main__.Car object at 0x7f5cec1c2b70>\n"
     ]
    }
   ],
   "source": [
    "# instantiating an object from a class\n",
    "ford = Car()  # creates an instance of the Car class and stores into the \n",
    "# variable ford\n",
    "print(ford)"
   ]
  },
  {
   "cell_type": "code",
   "execution_count": 3,
   "metadata": {},
   "outputs": [
    {
     "name": "stdout",
     "output_type": "stream",
     "text": [
      "-9223363284553189081\n",
      "8752301586724\n"
     ]
    }
   ],
   "source": [
    "# instantiating multiple objects from the same class.\n",
    "ford = Car()\n",
    "subaru = Car()  # creates another object from the Car class.\n",
    "\n",
    "# hash() outputs a numerical representation of the location in memory for\n",
    "# the variable.\n",
    "print(hash(ford))\n",
    "print(hash(subaru))"
   ]
  },
  {
   "cell_type": "markdown",
   "metadata": {},
   "source": [
    "## Monday Exercises"
   ]
  },
  {
   "cell_type": "code",
   "execution_count": 4,
   "metadata": {},
   "outputs": [
    {
     "name": "stdout",
     "output_type": "stream",
     "text": [
      "<__main__.Animals object at 0x7f5cdd3b6a58>\n",
      "<__main__.Animals object at 0x7f5cdd1b0eb8>\n"
     ]
    }
   ],
   "source": [
    "# Animals\n",
    "\n",
    "class Animals():\n",
    "    pass\n",
    "\n",
    "lion = Animals()\n",
    "tiger = Animals()\n",
    "\n",
    "print(lion)\n",
    "print(tiger)"
   ]
  },
  {
   "cell_type": "code",
   "execution_count": 5,
   "metadata": {},
   "outputs": [],
   "source": [
    "# Problem-Solving\n",
    "\n",
    "# Forgot to put the () in class definition.\n",
    "\n",
    "class Bus():\n",
    "    pass\n",
    "school_bus = Bus()"
   ]
  },
  {
   "cell_type": "markdown",
   "metadata": {},
   "source": [
    "# Attributes"
   ]
  },
  {
   "cell_type": "code",
   "execution_count": 6,
   "metadata": {},
   "outputs": [
    {
     "name": "stdout",
     "output_type": "stream",
     "text": [
      "red\n"
     ]
    }
   ],
   "source": [
    "# how to define a class attribute\n",
    "class Car():\n",
    "    sound = 'beep'  # all car objects will have this sound attribute and \n",
    "                    # it's value.\n",
    "    color = 'red'   # all car objects will have this color attribute and \n",
    "                    # it's value.\n",
    "        \n",
    "ford = Car()\n",
    "print(ford.color)  # known as 'dot syntax'"
   ]
  },
  {
   "cell_type": "code",
   "execution_count": 7,
   "metadata": {},
   "outputs": [
    {
     "name": "stdout",
     "output_type": "stream",
     "text": [
      "beep\n",
      "honk\n"
     ]
    }
   ],
   "source": [
    "# changing the value of an attribute.\n",
    "print(ford.sound)  # will output 'beep'\n",
    "ford.sound = 'honk'  # from now on the value of fods sound is honk,\n",
    "                     # this does not affect the other instances.\n",
    "print(ford.sound)"
   ]
  },
  {
   "cell_type": "code",
   "execution_count": 8,
   "metadata": {},
   "outputs": [
    {
     "name": "stdout",
     "output_type": "stream",
     "text": [
      "Blue\n"
     ]
    }
   ],
   "source": [
    "# using the init method to give instances personalized attributes upon\n",
    "# creation.\n",
    "\n",
    "class Car():\n",
    "    def __init__(self, color):\n",
    "        self.color = color # sets the attribute color to the value passed in\n",
    "\n",
    "ford = Car(\"Blue\")\n",
    "print(ford.color)"
   ]
  },
  {
   "cell_type": "code",
   "execution_count": 9,
   "metadata": {},
   "outputs": [
    {
     "name": "stdout",
     "output_type": "stream",
     "text": [
      "blue 2016\n",
      "red 2018\n"
     ]
    }
   ],
   "source": [
    "# defining different values for multiple instances\n",
    "class Car():\n",
    "    def __init__(self, color, year):\n",
    "        self.color = color # sets the attribute color to the value passed in\n",
    "        self.year = year # sets the attribute year to the value passed in.\n",
    "    \n",
    "ford = Car(\"blue\", 2016)  # creates a car object with the color blue and \n",
    "                          # year 2016.\n",
    "    \n",
    "subaru = Car(\"red\", 2018) # creates a car object with the color red and \n",
    "                          # year 2018.\n",
    "    \n",
    "print(ford.color, ford.year)\n",
    "print(subaru.color, subaru.year)"
   ]
  },
  {
   "cell_type": "code",
   "execution_count": 11,
   "metadata": {},
   "outputs": [
    {
     "name": "stdout",
     "output_type": "stream",
     "text": [
      "beep\n",
      "beep blue\n"
     ]
    }
   ],
   "source": [
    "# using and accessing global class attributes.\n",
    "class Car():\n",
    "    sound = \"beep\"  # global attribute, accessible through the class iteself\n",
    "    def __init__(self, color):\n",
    "        self.color = color  # instance specific attribute, not accessible\n",
    "                            # through the class itself.\n",
    "            \n",
    "print(Car.sound)\n",
    "# print(Car.color) won't work, as color is only available to instances of\n",
    "# the Car class, not the class itself.\n",
    "\n",
    "ford = Car(\"blue\")\n",
    "print(ford.sound, ford.color)  # color will work as this is an instance"
   ]
  },
  {
   "cell_type": "markdown",
   "metadata": {},
   "source": [
    "## Tuesday Exercises"
   ]
  },
  {
   "cell_type": "code",
   "execution_count": 12,
   "metadata": {},
   "outputs": [
    {
     "name": "stdout",
     "output_type": "stream",
     "text": [
      "Canine\n",
      "Sammi Husky Canine\n",
      "Casey Chocolate Lab Canine\n"
     ]
    }
   ],
   "source": [
    "# Dogs\n",
    "\n",
    "class Dog():\n",
    "    species = \"Canine\"\n",
    "    \n",
    "    def __init__(self, name, breed):\n",
    "        self.name = name\n",
    "        self.breed = breed\n",
    "        \n",
    "dog1 = Dog('Sammi', 'Husky')\n",
    "dog2 = Dog('Casey', 'Chocolate Lab')\n",
    "\n",
    "print(Dog.species)\n",
    "print(dog1.name, dog1.breed, dog1.species)\n",
    "print(dog2.name, dog2.breed, dog2.species)"
   ]
  },
  {
   "cell_type": "code",
   "execution_count": 13,
   "metadata": {},
   "outputs": [
    {
     "name": "stdin",
     "output_type": "stream",
     "text": [
      "What is your name?  Sai\n"
     ]
    },
    {
     "name": "stdout",
     "output_type": "stream",
     "text": [
      "Sai\n"
     ]
    }
   ],
   "source": [
    "# User Input\n",
    "\n",
    "class Person():\n",
    "    def __init__(self, name):\n",
    "        self.name = name\n",
    "\n",
    "name = input(\"What is your name? \")\n",
    "\n",
    "person1 = Person(name)\n",
    "print(person1.name)"
   ]
  },
  {
   "cell_type": "markdown",
   "metadata": {},
   "source": [
    "# Methods"
   ]
  },
  {
   "cell_type": "code",
   "execution_count": 14,
   "metadata": {},
   "outputs": [
    {
     "name": "stdout",
     "output_type": "stream",
     "text": [
      "bark\n"
     ]
    }
   ],
   "source": [
    "# defining and callin our first class method\n",
    "class Dog():\n",
    "    def makeSound(self):\n",
    "        print(\"bark\")\n",
    "\n",
    "sam = Dog()\n",
    "sam.makeSound()"
   ]
  },
  {
   "cell_type": "code",
   "execution_count": 15,
   "metadata": {},
   "outputs": [
    {
     "name": "stdout",
     "output_type": "stream",
     "text": [
      "bark\n"
     ]
    }
   ],
   "source": [
    "# using the self keyword to access attributes within class methods\n",
    "class Dog():\n",
    "    sound = \"bark\"\n",
    "    def makeSound(self):\n",
    "        print(self.sound) # self required to access attributes defined in \n",
    "                          # the class.\n",
    "            \n",
    "sam = Dog()\n",
    "sam.makeSound()"
   ]
  },
  {
   "cell_type": "code",
   "execution_count": 16,
   "metadata": {},
   "outputs": [
    {
     "name": "stdout",
     "output_type": "stream",
     "text": [
      "I am a dog.\n",
      "bark\n"
     ]
    }
   ],
   "source": [
    "# understanding which methods are accessible via the class iteself and\n",
    "# class instances.\n",
    "\n",
    "class Dog():\n",
    "    sound = \"bark\"\n",
    "    def makeSound(self):\n",
    "        print(self.sound)\n",
    "    def printInfo():\n",
    "        print(\"I am a dog.\")\n",
    "        \n",
    "Dog.printInfo()  # able to run .printInfo() method becase it does not \n",
    "                 # include self parameter.\n",
    "\n",
    "# Dog.makeSound() # This will produce an error, self is in reference to \n",
    "# instances only.\n",
    "\n",
    "sam = Dog() \n",
    "sam.makeSound() # able to access, self can refrence the instance of sam\n",
    "\n",
    "# sam.printInfo() # will produce error, instances require the self\n",
    "# parameter to access methods."
   ]
  },
  {
   "cell_type": "code",
   "execution_count": 17,
   "metadata": {},
   "outputs": [
    {
     "name": "stdout",
     "output_type": "stream",
     "text": [
      "6\n"
     ]
    }
   ],
   "source": [
    "# writing methods that accept parameters.\n",
    "class Dog():\n",
    "    def showAge(self, age):\n",
    "        print(age) # does not need self, age is referencing the parameter\n",
    "                   # not an attribute.\n",
    "            \n",
    "sam = Dog()\n",
    "sam.showAge(6) # passing the integer 6 as an arguemtn to showAge method."
   ]
  },
  {
   "cell_type": "code",
   "execution_count": 18,
   "metadata": {},
   "outputs": [
    {
     "name": "stdout",
     "output_type": "stream",
     "text": [
      "Sammi\n"
     ]
    }
   ],
   "source": [
    "# using methods to set or return attribute values, proper programming\n",
    "# practice.\n",
    "\n",
    "class Dog():\n",
    "    name = ' '  # would normally use init method to declare, this is for\n",
    "                # testing purposes.\n",
    "    \n",
    "    def setName(self, new_name):\n",
    "        self.name = new_name # declares the new value for name attriburte.\n",
    "        \n",
    "    def getName(self):\n",
    "        return self.name # returns the value of the name attribute\n",
    "    \n",
    "sam = Dog()\n",
    "sam.setName(\"Sammi\")\n",
    "print(sam.getName()) # prints the returned value of self.name"
   ]
  },
  {
   "cell_type": "code",
   "execution_count": 20,
   "metadata": {},
   "outputs": [
    {
     "name": "stdout",
     "output_type": "stream",
     "text": [
      "6\n",
      "5\n"
     ]
    }
   ],
   "source": [
    "# incrementing/decrementing attribute values with methods, best programming\n",
    "# practice.\n",
    "\n",
    "class Dog():\n",
    "    age = 5\n",
    "    def happyBirthday(self):\n",
    "        self.age += 1\n",
    "        \n",
    "sam = Dog()\n",
    "sam.happyBirthday() # calls method ot increment value by one.\n",
    "print(sam.age) # better practice use getters, this is for testing purposes.\n",
    "print(Dog.age)"
   ]
  },
  {
   "cell_type": "code",
   "execution_count": 21,
   "metadata": {},
   "outputs": [
    {
     "name": "stdout",
     "output_type": "stream",
     "text": [
      "Puppy!\n"
     ]
    }
   ],
   "source": [
    "# calling a class method from another method.\n",
    "\n",
    "class Dog():\n",
    "    age = 6\n",
    "    def getAge(self):\n",
    "        return self.age\n",
    "    \n",
    "    def printInfo(self):\n",
    "        if self.getAge() < 10: # need self to call other method from an \n",
    "                               # instance\n",
    "            print(\"Puppy!\")\n",
    "            \n",
    "sam = Dog()\n",
    "sam.printInfo()"
   ]
  },
  {
   "cell_type": "code",
   "execution_count": 22,
   "metadata": {},
   "outputs": [
    {
     "name": "stdout",
     "output_type": "stream",
     "text": [
      "This is a dog class\n"
     ]
    }
   ],
   "source": [
    "# using magic methods\n",
    "class Dog():\n",
    "    def __str__(self):\n",
    "        return \"This is a dog class\"\n",
    "\n",
    "sam = Dog()\n",
    "print(sam) # will print the return of the string magic method"
   ]
  },
  {
   "cell_type": "markdown",
   "metadata": {},
   "source": [
    "## Wednesday Exercises"
   ]
  },
  {
   "cell_type": "code",
   "execution_count": 23,
   "metadata": {},
   "outputs": [
    {
     "name": "stdout",
     "output_type": "stream",
     "text": [
      "feline\n"
     ]
    }
   ],
   "source": [
    "# Animals\n",
    "\n",
    "class Animals():\n",
    "    species = ' '\n",
    "    \n",
    "    def setSpecies(self, new_species):\n",
    "        self.species = new_species\n",
    "    \n",
    "    def getSpecies(self):\n",
    "        return self.species\n",
    "    \n",
    "lion = Animals()\n",
    "lion.setSpecies('feline')\n",
    "print(lion.getSpecies())"
   ]
  },
  {
   "cell_type": "code",
   "execution_count": 29,
   "metadata": {},
   "outputs": [
    {
     "name": "stdout",
     "output_type": "stream",
     "text": [
      "Sai\n",
      "0\n"
     ]
    },
    {
     "name": "stdin",
     "output_type": "stream",
     "text": [
      "What is your age?  64\n"
     ]
    },
    {
     "name": "stdout",
     "output_type": "stream",
     "text": [
      "64\n"
     ]
    }
   ],
   "source": [
    "# User Input\n",
    "\n",
    "class Person():\n",
    "    def __init__(self, name):\n",
    "        self.name = name\n",
    "        self.age = 0\n",
    "        \n",
    "    def setAge(self):\n",
    "        new_age = int(input(\"What is your age? \"))\n",
    "        self.age = new_age\n",
    "    \n",
    "    def getAge(self):\n",
    "        return self.age\n",
    "\n",
    "person1 = Person('Sai')\n",
    "\n",
    "print(person1.name)\n",
    "\n",
    "print(person1.age)\n",
    "\n",
    "person1.setAge()\n",
    "\n",
    "print(person1.getAge())"
   ]
  },
  {
   "cell_type": "markdown",
   "metadata": {},
   "source": [
    "# Inheritance"
   ]
  },
  {
   "cell_type": "code",
   "execution_count": 30,
   "metadata": {},
   "outputs": [
    {
     "name": "stdout",
     "output_type": "stream",
     "text": [
      "roar\n"
     ]
    }
   ],
   "source": [
    "# inherting a class and accessing the inherited method\n",
    "class Animal():\n",
    "    def makeSound(self):\n",
    "        print(\"roar\")\n",
    "        \n",
    "class Dog(Animal):\n",
    "    species = 'Canine'\n",
    "    \n",
    "sam = Dog()\n",
    "sam.makeSound() # accessible through inhertance\n",
    "lion = Animal()\n",
    "# lion.species not accessible, inhertance does not work backwards"
   ]
  },
  {
   "cell_type": "code",
   "execution_count": 31,
   "metadata": {},
   "outputs": [
    {
     "name": "stdout",
     "output_type": "stream",
     "text": [
      "Canine\n"
     ]
    }
   ],
   "source": [
    "# using the super() method to declare inherieted attributes\n",
    "class Animal():\n",
    "    def __init__(self, species):\n",
    "        self.species = species\n",
    "        \n",
    "class Dog(Animal):\n",
    "    def __init__(self, species, name):\n",
    "        self.name = name\n",
    "        super().__init__(species) # using super to declare the species\n",
    "                                  # attribute defined in Animal\n",
    "    \n",
    "sam = Dog(\"Canine\", \"Sammi\")\n",
    "print(sam.species)"
   ]
  },
  {
   "cell_type": "code",
   "execution_count": 32,
   "metadata": {},
   "outputs": [
    {
     "name": "stdout",
     "output_type": "stream",
     "text": [
      "bark\n",
      "roar\n"
     ]
    }
   ],
   "source": [
    "# overriding methods defined in the subclass\n",
    "class Animal():\n",
    "    def makeSound(self):\n",
    "        print(\"roar\")\n",
    "        \n",
    "class Dog(Animal):\n",
    "    def makeSound(self):\n",
    "        print(\"bark\")\n",
    "        \n",
    "sam, lion = Dog(), Animal() # declaring multiple variables on a single line\n",
    "sam.makeSound() # overriding will call the .makesound() method in Dog\n",
    "lion.makeSound() # no overriding occurs as Animal does not inherit anything."
   ]
  },
  {
   "cell_type": "code",
   "execution_count": 34,
   "metadata": {},
   "outputs": [
    {
     "name": "stdout",
     "output_type": "stream",
     "text": [
      "9.8 Ford\n"
     ]
    }
   ],
   "source": [
    "# how to inherit multiple classes\n",
    "class Physics():\n",
    "    gravity = 9.8\n",
    "    \n",
    "class Automobile():\n",
    "    def __init__(self, make, model, year):\n",
    "        self.make, self.model, self.year = make, model, year\n",
    "        # declaring all attributes on one line.\n",
    "        \n",
    "class Ford(Physics, Automobile):\n",
    "    def __init__(self, model, year):\n",
    "        Automobile.__init__(self, \"Ford\", model, year)\n",
    "        # super does not work with multiple inheritance.\n",
    "        \n",
    "truck = Ford(\"F-150\", 2018)\n",
    "print(truck.gravity, truck.make) # output both attributes"
   ]
  },
  {
   "cell_type": "code",
   "execution_count": 36,
   "metadata": {},
   "outputs": [
    {
     "name": "stdout",
     "output_type": "stream",
     "text": [
      "Hello, my name is Ram and I'm on the bad guys.\n",
      "Hello, my name is Sai and I'm on the good guys.\n"
     ]
    }
   ],
   "source": [
    "# Good Guys/ Bad Guys\n",
    "\n",
    "class Characters():\n",
    "    def __init__(self, name, team, height, weight):\n",
    "        self.name = name\n",
    "        self.team = team\n",
    "        self.height = height\n",
    "        self.weight = weight\n",
    "        \n",
    "    def sayHello(self):\n",
    "        return \"Hello, my name is \" + self.name + \" and I'm on the \" + self.team + \" guys.\"\n",
    "    \n",
    "class GoodPlayers(Characters):\n",
    "    def __init__(self, name, height, weight):\n",
    "        Characters.__init__(self, name, \"good\", height, weight)\n",
    "        \n",
    "class BadPlayers(Characters):\n",
    "    def __init__(self, name, height, weight):\n",
    "        Characters.__init__(self, name, \"bad\", height, weight)\n",
    "        \n",
    "bad_player = BadPlayers(\"Ram\", 182, 120)\n",
    "print(bad_player.sayHello())\n",
    "\n",
    "good_player = GoodPlayers(\"Sai\", 183, 120)\n",
    "print(good_player.sayHello())"
   ]
  },
  {
   "cell_type": "markdown",
   "metadata": {},
   "source": [
    "# Friday Project: Creating Blackjack"
   ]
  },
  {
   "cell_type": "code",
   "execution_count": 37,
   "metadata": {},
   "outputs": [],
   "source": [
    "# importing necessary functions\n",
    "from random import randint  # allows us to get a random number\n",
    "from IPython.display import clear_output"
   ]
  },
  {
   "cell_type": "code",
   "execution_count": 44,
   "metadata": {},
   "outputs": [
    {
     "name": "stdin",
     "output_type": "stream",
     "text": [
      "What is your name?  sai\n"
     ]
    },
    {
     "name": "stdout",
     "output_type": "stream",
     "text": [
      "\n",
      "sai\n",
      "============\n",
      "7 of Diamonds\n",
      "\n",
      "Dealer\n",
      "============\n",
      "- of -\n",
      "\n",
      "sai\n",
      "============\n",
      "7 of Diamonds\n",
      "Q of Clubs\n",
      "\n",
      "Dealer\n",
      "============\n",
      "- of -\n",
      "Q of Hearts\n"
     ]
    }
   ],
   "source": [
    "# create the blackjack class, which will hold all game methods and attribues\n",
    "class Blackjack():\n",
    "    def __init__(self):\n",
    "        self.deck = []  # set to an empty list\n",
    "        self.suits = (\"Spades\", \"Hearts\", \"Diamonds\", \"Clubs\")\n",
    "        self.values = (2, 3, 4, 5, 6, 7, 8, 9, 10, \"J\", \"Q\", \"K\", \"A\")\n",
    "        \n",
    "    # create a method that creaes a deck of 52 cards, each card should be a\n",
    "    # tuple with a value and suit.\n",
    "    def makeDeck(self):\n",
    "        for suit in self.suits:\n",
    "            for value in self.values:\n",
    "                self.deck.append((value, suit))\n",
    "                \n",
    "    # method to pop a card from deck using a random index value\n",
    "    def pullCard(self):\n",
    "        return self.deck.pop(randint(0, len(self.deck) - 1))\n",
    "    \n",
    "# create a class for the dealer and player objects\n",
    "class Player():\n",
    "    def __init__(self, name):\n",
    "        self.name = name\n",
    "        self.hand = []\n",
    "     # take in a tuple and append it to the hand.\n",
    "    def addCard(self, card):\n",
    "        self.hand.append(card)\n",
    "        \n",
    "    # if not dealer's turn the only show one of his cards, otherwise show all\n",
    "    def showHand(self, dealer_start = True):\n",
    "        print(\"\\n{}\".format(self.name))\n",
    "        print(\"============\")\n",
    "        for i in range(len(self.hand)):\n",
    "            if self.name == \"Dealer\" and i == 0 and dealer_start:\n",
    "                print(\"- of -\") # hide first card\n",
    "            else:\n",
    "                card = self.hand[i]\n",
    "                print(\"{} of {}\".format(card[0], card[1]))\n",
    "                \n",
    "game = Blackjack()\n",
    "game.makeDeck()\n",
    "name = input(\"What is your name? \")\n",
    "player = Player(name)\n",
    "dealer = Player(\"Dealer\")\n",
    "for i in range(2):\n",
    "    player.addCard(game.pullCard())\n",
    "    dealer.addCard(game.pullCard())\n",
    "    player.showHand()\n",
    "    dealer.showHand()"
   ]
  },
  {
   "cell_type": "code",
   "execution_count": null,
   "metadata": {},
   "outputs": [],
   "source": []
  }
 ],
 "metadata": {
  "kernelspec": {
   "display_name": "Python 3",
   "language": "python",
   "name": "python3"
  },
  "language_info": {
   "codemirror_mode": {
    "name": "ipython",
    "version": 3
   },
   "file_extension": ".py",
   "mimetype": "text/x-python",
   "name": "python",
   "nbconvert_exporter": "python",
   "pygments_lexer": "ipython3",
   "version": "3.6.9"
  }
 },
 "nbformat": 4,
 "nbformat_minor": 4
}
