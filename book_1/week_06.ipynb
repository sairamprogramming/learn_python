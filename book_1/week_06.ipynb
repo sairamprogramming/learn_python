{
 "cells": [
  {
   "cell_type": "markdown",
   "metadata": {},
   "source": [
    "# Dictionaries"
   ]
  },
  {
   "cell_type": "code",
   "execution_count": 2,
   "metadata": {},
   "outputs": [
    {
     "name": "stdout",
     "output_type": "stream",
     "text": [
      "{'name': 'Morty', 'age': 26}\n"
     ]
    }
   ],
   "source": [
    "# declaring a dictionary variable\n",
    "empty = {}  # empty dictionary\n",
    "person = {\"name\": 'John Smith'}  # dictionary with one key/value pair\n",
    "\n",
    "customer = {\n",
    "    \"name\":\"Morty\",\n",
    "    \"age\": 26\n",
    "}   # dictionary with two key/value pairs.\n",
    "print(customer)"
   ]
  },
  {
   "cell_type": "code",
   "execution_count": 4,
   "metadata": {},
   "outputs": [
    {
     "name": "stdout",
     "output_type": "stream",
     "text": [
      "John\n"
     ]
    }
   ],
   "source": [
    "# accessing dictionary informations through keys.\n",
    "person = {\"name\": \"John\"}\n",
    "print(person[\"name\"])  # access information through the key"
   ]
  },
  {
   "cell_type": "code",
   "execution_count": 7,
   "metadata": {},
   "outputs": [
    {
     "name": "stdout",
     "output_type": "stream",
     "text": [
      "John\n",
      "Age is not available.\n"
     ]
    }
   ],
   "source": [
    "# using the get method to access dictionary information.\n",
    "person = {\"name\": \"John\"}\n",
    "print(person.get(\"name\"))  # retrives value of name key as before.\n",
    "print(person.get(\"age\", \"Age is not available.\"))  # get is a secure.\n",
    "# way to retrive information"
   ]
  },
  {
   "cell_type": "code",
   "execution_count": 8,
   "metadata": {},
   "outputs": [
    {
     "name": "stdout",
     "output_type": "stream",
     "text": [
      "baseball\n"
     ]
    }
   ],
   "source": [
    "# storing a list within a dictionary and accessing it.\n",
    "data = {\"sports\":[\"baseball\", \"football\", \"hockey\", \"soccer\"]}\n",
    "print(data[\"sports\"][0])  # first access the key, then the index."
   ]
  },
  {
   "cell_type": "code",
   "execution_count": 10,
   "metadata": {},
   "outputs": [
    {
     "name": "stdout",
     "output_type": "stream",
     "text": [
      "{'name': 'Kristen'}\n",
      "Kristen\n"
     ]
    }
   ],
   "source": [
    "# storing a dictionary within a list and accessing it.\n",
    "data = [\"John\", \"Dennis\", {\"name\":\"Kristen\"}]\n",
    "print(data[2])   # the dictionary is in index 2.\n",
    "print(data[2][\"name\"])  # first access the index, then access the key."
   ]
  },
  {
   "cell_type": "code",
   "execution_count": 11,
   "metadata": {},
   "outputs": [
    {
     "name": "stdout",
     "output_type": "stream",
     "text": [
      "{'2018': 108, '2017': 93}\n",
      "108\n"
     ]
    }
   ],
   "source": [
    "# storing a dictionary within a dictionary and accessing it.\n",
    "data = {\n",
    "    \"teams\": \"Boston Red Sox\",\n",
    "    \"wins\": {\"2018\": 108, \"2017\": 93}\n",
    "}\n",
    "\n",
    "print(data[\"wins\"])  # will output the dictionary within the 'wins' key.\n",
    "print(data[\"wins\"][\"2018\"]) # first access the 'wins' key, then the next key"
   ]
  },
  {
   "cell_type": "markdown",
   "metadata": {},
   "source": [
    "## Monday Exercises"
   ]
  },
  {
   "cell_type": "code",
   "execution_count": 13,
   "metadata": {},
   "outputs": [
    {
     "name": "stdin",
     "output_type": "stream",
     "text": [
      "What is your name?  Sai\n",
      "What is your age?  31\n"
     ]
    },
    {
     "name": "stdout",
     "output_type": "stream",
     "text": [
      "{'name': 'Sai', 'age': 31}\n"
     ]
    }
   ],
   "source": [
    "# User Input\n",
    "\n",
    "person = {}  # initalizing to empty dictionary.\n",
    "\n",
    "# Getting data and storing in the dictionary.\n",
    "name = input(\"What is your name? \")\n",
    "person[\"name\"] = name\n",
    "age = int(input(\"What is your age? \"))\n",
    "person[\"age\"] = age\n",
    "\n",
    "# Printing the dictionary\n",
    "print(person)"
   ]
  },
  {
   "cell_type": "code",
   "execution_count": 14,
   "metadata": {},
   "outputs": [
    {
     "name": "stdout",
     "output_type": "stream",
     "text": [
      "cheese\n",
      "sausage\n",
      "peppers\n"
     ]
    }
   ],
   "source": [
    "# Acessing Ingredients\n",
    "\n",
    "pizza = {\n",
    "    'ingredients': ['cheese', 'sausage', 'peppers']\n",
    "}\n",
    "\n",
    "# Acessing all the items within the list.\n",
    "print(pizza['ingredients'][0])\n",
    "print(pizza['ingredients'][1])\n",
    "print(pizza['ingredients'][2])"
   ]
  },
  {
   "cell_type": "markdown",
   "metadata": {},
   "source": [
    "# Working with Dictionaries"
   ]
  },
  {
   "cell_type": "code",
   "execution_count": 15,
   "metadata": {},
   "outputs": [
    {
     "name": "stdout",
     "output_type": "stream",
     "text": [
      "Year: 2018\t Color: Blue\n"
     ]
    }
   ],
   "source": [
    "# adding new key/value pairs to a dictionary.\n",
    "car = {'year':2018}\n",
    "\n",
    "car[\"color\"] = 'Blue'  # Adding new key/value pair.\n",
    "print(\"Year: {}\\t Color: {}\".format(car[\"year\"], car[\"color\"]))"
   ]
  },
  {
   "cell_type": "code",
   "execution_count": 16,
   "metadata": {},
   "outputs": [
    {
     "name": "stdout",
     "output_type": "stream",
     "text": [
      "Year: 2018\t Color: Red\n"
     ]
    }
   ],
   "source": [
    "# updating a value for a key/value pair that already exists\n",
    "car = {\"year\": 2018, \"color\": \"Blue\"}\n",
    "\n",
    "car[\"color\"] = \"Red\"  # updaing the value in 'color' key.\n",
    "print(\"Year: {}\\t Color: {}\".format(car[\"year\"], car[\"color\"]))"
   ]
  },
  {
   "cell_type": "code",
   "execution_count": 17,
   "metadata": {},
   "outputs": [
    {
     "name": "stdout",
     "output_type": "stream",
     "text": [
      "{}\n"
     ]
    }
   ],
   "source": [
    "# deleting a key/value pair from a dictionary.\n",
    "car = {\"year\": 2018}\n",
    "try:\n",
    "    del car[\"year\"]\n",
    "    print(car)\n",
    "except:\n",
    "    print(\"That key does not exist\")"
   ]
  },
  {
   "cell_type": "code",
   "execution_count": 18,
   "metadata": {},
   "outputs": [
    {
     "name": "stdout",
     "output_type": "stream",
     "text": [
      "name\n",
      "John\n",
      "age\n",
      "26\n"
     ]
    }
   ],
   "source": [
    "# looping over a dictionary via the keys.\n",
    "person = {\"name\": \"John\", \"age\": 26}\n",
    "\n",
    "for key in person.keys():\n",
    "    print(key)\n",
    "    print(person[key])  # will output the value of the current key."
   ]
  },
  {
   "cell_type": "code",
   "execution_count": 19,
   "metadata": {},
   "outputs": [
    {
     "name": "stdout",
     "output_type": "stream",
     "text": [
      "John\n",
      "26\n"
     ]
    }
   ],
   "source": [
    "# looping over a dictionary via the values\n",
    "person = {\"name\": \"John\", \"age\": 26}\n",
    "\n",
    "for value in person.values():\n",
    "    print(value)"
   ]
  },
  {
   "cell_type": "code",
   "execution_count": 20,
   "metadata": {},
   "outputs": [
    {
     "name": "stdout",
     "output_type": "stream",
     "text": [
      "name: John\n",
      "age: 26\n"
     ]
    }
   ],
   "source": [
    "# looping over a dictionary via the key/value pair.\n",
    "person = {'name': 'John', 'age': 26}\n",
    "\n",
    "for key, value in person.items():\n",
    "    print(\"{}: {}\".format(key, value))"
   ]
  },
  {
   "cell_type": "markdown",
   "metadata": {},
   "source": [
    "## Tuesday Exercises"
   ]
  },
  {
   "cell_type": "code",
   "execution_count": 21,
   "metadata": {},
   "outputs": [
    {
     "name": "stdin",
     "output_type": "stream",
     "text": [
      "What is your name?  Sai\n",
      "What is your address?  Alwal\n",
      "What is you phone number?  999999\n"
     ]
    },
    {
     "name": "stdout",
     "output_type": "stream",
     "text": [
      "name: Sai\n",
      "address: Alwal\n",
      "phno: 999999\n"
     ]
    }
   ],
   "source": [
    "# User Input\n",
    "\n",
    "person = {}  # empty dictionary\n",
    "\n",
    "name = input(\"What is your name? \")\n",
    "person[\"name\"] = name\n",
    "\n",
    "address = input(\"What is your address? \")\n",
    "person[\"address\"] = address\n",
    "\n",
    "number = input(\"What is you phone number? \")\n",
    "person[\"phno\"] = number\n",
    "\n",
    "for k,v in person.items():\n",
    "    print('{}: {}'.format(k, v))"
   ]
  },
  {
   "cell_type": "code",
   "execution_count": 22,
   "metadata": {},
   "outputs": [
    {
     "name": "stdout",
     "output_type": "stream",
     "text": [
      "{'name': 'John Smith'}\n"
     ]
    }
   ],
   "source": [
    "# Problem-Solving\n",
    "\n",
    "# Must use semi-colon(:) instead of comma(,).\n",
    "\n",
    "person = {'name': 'John Smith'}\n",
    "print(person)"
   ]
  },
  {
   "cell_type": "markdown",
   "metadata": {},
   "source": [
    "# Tuples, Sets, Frozensets."
   ]
  },
  {
   "cell_type": "code",
   "execution_count": 24,
   "metadata": {},
   "outputs": [
    {
     "name": "stdout",
     "output_type": "stream",
     "text": [
      "<class 'tuple'> <class 'tuple'>\n"
     ]
    }
   ],
   "source": [
    "# declaring a tuple\n",
    "t1 = (\"hello\", 2, 'hello')  # with parentheses.\n",
    "t2 = True, 1  # without praentheses.\n",
    "print(type(t1), type(t2))  # both are tuples.\n",
    "# t1[0] = 1  # will crash as tuples are immutable."
   ]
  },
  {
   "cell_type": "code",
   "execution_count": 25,
   "metadata": {},
   "outputs": [
    {
     "name": "stdout",
     "output_type": "stream",
     "text": [
      "<class 'set'> <class 'set'>\n",
      "{2, 3, 5}\n"
     ]
    }
   ],
   "source": [
    "# declaring a set\n",
    "s1 = set([1, 2, 3, 1])  # uses the ket keyword and square brackets (list).\n",
    "s2 = {4, 4, 5}  # uses curly brackets, like dictionary.\n",
    "print(type(s1), type(s2))  # both are sets.\n",
    "s1.add(5)  # using the add method to add new items to a set.\n",
    "s1.remove(1)  # using the remove method to get rid of the value 1\n",
    "print(s1)"
   ]
  },
  {
   "cell_type": "code",
   "execution_count": 26,
   "metadata": {},
   "outputs": [
    {
     "name": "stdout",
     "output_type": "stream",
     "text": [
      "<class 'frozenset'>\n"
     ]
    }
   ],
   "source": [
    "# declaring a frozenset.\n",
    "fset = frozenset([1, 2, 3, 4])\n",
    "print(type(fset))"
   ]
  },
  {
   "cell_type": "markdown",
   "metadata": {},
   "source": [
    "## Wednesday Exercises"
   ]
  },
  {
   "cell_type": "code",
   "execution_count": 27,
   "metadata": {},
   "outputs": [
    {
     "name": "stdin",
     "output_type": "stream",
     "text": [
      "Enter a bank account number: (0 to exit):  123\n",
      "Enter a bank account number: (0 to exit):  321\n",
      "Enter a bank account number: (0 to exit):  432\n",
      "Enter a bank account number: (0 to exit):  0\n"
     ]
    },
    {
     "name": "stdout",
     "output_type": "stream",
     "text": [
      "frozenset({432, 321, 123})\n"
     ]
    }
   ],
   "source": [
    "# User Input\n",
    "\n",
    "bank_accounts = []\n",
    "\n",
    "while True:\n",
    "    bank_acc_no = int(input(\"Enter a bank account number: (0 to exit): \"))\n",
    "    if bank_acc_no == 0:\n",
    "        break\n",
    "    bank_accounts.append(bank_acc_no)\n",
    "    \n",
    "bank_accounts = frozenset(bank_accounts)\n",
    "\n",
    "print(bank_accounts)"
   ]
  },
  {
   "cell_type": "code",
   "execution_count": 28,
   "metadata": {},
   "outputs": [
    {
     "name": "stdout",
     "output_type": "stream",
     "text": [
      "[10, 3, 4, 7]\n"
     ]
    }
   ],
   "source": [
    "# Conversion\n",
    "\n",
    "nums = [3, 4, 3, 7, 10]\n",
    "nums = list(set(nums))\n",
    "print(nums)"
   ]
  },
  {
   "cell_type": "markdown",
   "metadata": {},
   "source": [
    "# Reading & Writing Files."
   ]
  },
  {
   "cell_type": "code",
   "execution_count": 29,
   "metadata": {},
   "outputs": [],
   "source": [
    "# opening/ creating and writing to a text file.\n",
    "f = open('test.txt', 'w+')  # openfile in writing and reading mode.\n",
    "f.write(\"this is a test\")\n",
    "f.close()"
   ]
  },
  {
   "cell_type": "code",
   "execution_count": 30,
   "metadata": {},
   "outputs": [
    {
     "name": "stdout",
     "output_type": "stream",
     "text": [
      "this is a test\n"
     ]
    }
   ],
   "source": [
    "# reading froma a text file.\n",
    "f = open('test.txt', 'r')\n",
    "data = f.read()\n",
    "f.close()\n",
    "print(data)"
   ]
  },
  {
   "cell_type": "code",
   "execution_count": 31,
   "metadata": {},
   "outputs": [],
   "source": [
    "# opening/creating and writing to a csv file.\n",
    "import csv\n",
    "with open('test.csv', mode='w', newline=\"\") as f:\n",
    "    writer = csv.writer(f, delimiter=',')\n",
    "    writer.writerow(['Name', 'City'])\n",
    "    writer.writerow(['Craig Lou', 'Taiwan'])"
   ]
  },
  {
   "cell_type": "code",
   "execution_count": 32,
   "metadata": {},
   "outputs": [
    {
     "name": "stdout",
     "output_type": "stream",
     "text": [
      "['Name', 'City']\n",
      "['Craig Lou', 'Taiwan']\n"
     ]
    }
   ],
   "source": [
    "# reading from csv files.\n",
    "with open(\"test.csv\", mode='r') as f:\n",
    "    reader = csv.reader(f, delimiter=\",\")\n",
    "    for row in reader:\n",
    "        print(row)"
   ]
  },
  {
   "cell_type": "markdown",
   "metadata": {},
   "source": [
    "## Thursday Exercises"
   ]
  },
  {
   "cell_type": "code",
   "execution_count": 34,
   "metadata": {},
   "outputs": [
    {
     "name": "stdin",
     "output_type": "stream",
     "text": [
      "Enter your favourite number:  43\n"
     ]
    }
   ],
   "source": [
    "# User Input\n",
    "\n",
    "fav_num = int(input(\"Enter your favourite number: \"))\n",
    "\n",
    "with open(\"fav_num.txt\", mode='w+') as f:\n",
    "    f.write(str(fav_num))"
   ]
  },
  {
   "cell_type": "code",
   "execution_count": 35,
   "metadata": {},
   "outputs": [
    {
     "name": "stdout",
     "output_type": "stream",
     "text": [
      "43\n"
     ]
    }
   ],
   "source": [
    "# Checking if the number is present in the file above.\n",
    "f = open('fav_num.txt', 'r')\n",
    "print(f.read())\n",
    "f.close()"
   ]
  },
  {
   "cell_type": "code",
   "execution_count": 36,
   "metadata": {},
   "outputs": [],
   "source": [
    "# Data Dumping\n",
    "\n",
    "data = {\n",
    "    'name': ['Dave', 'Dennis', 'Peter', 'Jess'],\n",
    "    'language': ['Python', 'C', 'Java', 'Python']\n",
    "}"
   ]
  },
  {
   "cell_type": "code",
   "execution_count": 37,
   "metadata": {},
   "outputs": [],
   "source": [
    "import csv\n",
    "with open(\"dump.csv\", mode='w', newline='') as f:\n",
    "    writer = csv.writer(f, delimiter=',') \n",
    "    writer.writerow(data.keys())\n",
    "    \n",
    "    for i in range(4):\n",
    "        writer.writerow([data['name'][i], data['language'][i]])"
   ]
  },
  {
   "cell_type": "code",
   "execution_count": 38,
   "metadata": {},
   "outputs": [
    {
     "name": "stdout",
     "output_type": "stream",
     "text": [
      "['name', 'language']\n",
      "['Dave', 'Python']\n",
      "['Dennis', 'C']\n",
      "['Peter', 'Java']\n",
      "['Jess', 'Python']\n"
     ]
    }
   ],
   "source": [
    "# Checking if written correctly.\n",
    "with open(\"dump.csv\", mode='r') as f:\n",
    "    reader = csv.reader(f, delimiter=',')\n",
    "    for row in reader:\n",
    "        print(row)"
   ]
  },
  {
   "cell_type": "markdown",
   "metadata": {},
   "source": [
    "# Friday Project: Creating a User Database with CSV Files"
   ]
  },
  {
   "cell_type": "code",
   "execution_count": 39,
   "metadata": {},
   "outputs": [],
   "source": [
    "# import all necessary packages to be used\n",
    "import csv\n",
    "from IPython.display import clear_output"
   ]
  },
  {
   "cell_type": "code",
   "execution_count": 40,
   "metadata": {},
   "outputs": [],
   "source": [
    "# handle user registration and writing to csv\n",
    "def registerUser():\n",
    "    with open(\"users.csv\", mode='a', newline='') as f:\n",
    "        writer = csv.writer(f, delimiter=',')\n",
    "        print(\"To register, please enter your info:\")\n",
    "        email = input('E-mail: ')\n",
    "        password = input('Password: ')\n",
    "        password2 = input(\"Re-type password: \")\n",
    "        clear_output()\n",
    "        if password == password2:\n",
    "            writer.writerow([email, password])\n",
    "            print(\"You are not registered!\")\n",
    "        else:\n",
    "            print(\"Something went wrong. Try again.\")"
   ]
  },
  {
   "cell_type": "code",
   "execution_count": 41,
   "metadata": {},
   "outputs": [],
   "source": [
    "# ask for user infor and eturn true to login or false if incorrect info\n",
    "def loginUser():\n",
    "    print(\"To login, please enter your info:\")\n",
    "    email = input('E-mail: ')\n",
    "    password = input(\"Password: \")\n",
    "    clear_output()\n",
    "    with open(\"users.csv\", mode='r') as f:\n",
    "        reader = csv.reader(f, delimiter=',')\n",
    "        for row in reader:\n",
    "            if row == [email, password]:\n",
    "                print(\"You are noe logged in!\")\n",
    "                return True\n",
    "    print(\"Someting went wrong, try again.\")\n",
    "    return False"
   ]
  },
  {
   "cell_type": "code",
   "execution_count": 43,
   "metadata": {},
   "outputs": [
    {
     "name": "stdout",
     "output_type": "stream",
     "text": [
      "Thanks for using our software!\n"
     ]
    }
   ],
   "source": [
    "# Creating the main loop\n",
    "# variables for main loop.\n",
    "active = True\n",
    "logged_in = False\n",
    "\n",
    "# main loop\n",
    "while active:\n",
    "    if logged_in:\n",
    "        print(\"1. Logout\\n2.Quit\")\n",
    "    else:\n",
    "        print(\"1. Login\\n2. Register\\n3. Quit\")\n",
    "    choice = input(\"What would you like to do? \").lower()\n",
    "    clear_output()\n",
    "    if choice == 'register' and logged_in == False:\n",
    "        registerUser()\n",
    "    elif choice == 'login' and logged_in == False:\n",
    "        logged_in = loginUser()\n",
    "    elif choice == \"quit\":\n",
    "        active = False\n",
    "        print(\"Thanks for using our software!\")\n",
    "    elif choice == \"logout\" and logged_in == True:\n",
    "        logged_in = False\n",
    "        print(\"You are now logged out.\")\n",
    "    else:\n",
    "        print(\"Sorry, please try again!\")"
   ]
  },
  {
   "cell_type": "code",
   "execution_count": null,
   "metadata": {},
   "outputs": [],
   "source": []
  }
 ],
 "metadata": {
  "kernelspec": {
   "display_name": "Python 3",
   "language": "python",
   "name": "python3"
  },
  "language_info": {
   "codemirror_mode": {
    "name": "ipython",
    "version": 3
   },
   "file_extension": ".py",
   "mimetype": "text/x-python",
   "name": "python",
   "nbconvert_exporter": "python",
   "pygments_lexer": "ipython3",
   "version": "3.6.9"
  }
 },
 "nbformat": 4,
 "nbformat_minor": 4
}
