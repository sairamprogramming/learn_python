{
 "cells": [
  {
   "cell_type": "markdown",
   "metadata": {},
   "source": [
    "# Comments & Basic Data Types"
   ]
  },
  {
   "cell_type": "code",
   "execution_count": 1,
   "metadata": {},
   "outputs": [],
   "source": [
    "# this is a comment"
   ]
  },
  {
   "cell_type": "code",
   "execution_count": 2,
   "metadata": {},
   "outputs": [
    {
     "name": "stdout",
     "output_type": "stream",
     "text": [
      "Hello\n"
     ]
    }
   ],
   "source": [
    "print(\"Hello\")   # this is also a comment"
   ]
  },
  {
   "cell_type": "code",
   "execution_count": 3,
   "metadata": {},
   "outputs": [
    {
     "name": "stdout",
     "output_type": "stream",
     "text": [
      "Hello\n"
     ]
    }
   ],
   "source": [
    "\"\"\"\n",
    "    This is a multi-line comment\n",
    "\"\"\"\n",
    "\n",
    "print(\"Hello\")   # this is also a comment"
   ]
  },
  {
   "cell_type": "code",
   "execution_count": 4,
   "metadata": {},
   "outputs": [
    {
     "name": "stdout",
     "output_type": "stream",
     "text": [
      "2\n",
      "10\n"
     ]
    }
   ],
   "source": [
    "# the following are all integers\n",
    "print(2)\n",
    "print(10)"
   ]
  },
  {
   "cell_type": "code",
   "execution_count": 5,
   "metadata": {},
   "outputs": [
    {
     "name": "stdout",
     "output_type": "stream",
     "text": [
      "10.953\n",
      "8.0\n"
     ]
    }
   ],
   "source": [
    "# the following are all floats\n",
    "print(10.953)\n",
    "print(8.0)   # even this number is a float"
   ]
  },
  {
   "cell_type": "code",
   "execution_count": 6,
   "metadata": {},
   "outputs": [
    {
     "name": "stdout",
     "output_type": "stream",
     "text": [
      "True\n",
      "False\n"
     ]
    }
   ],
   "source": [
    "# the following are booleans\n",
    "print(True)\n",
    "print(False)"
   ]
  },
  {
   "cell_type": "code",
   "execution_count": 7,
   "metadata": {},
   "outputs": [
    {
     "name": "stdout",
     "output_type": "stream",
     "text": [
      "\n",
      "There's a snake in my boot!\n",
      "True\n"
     ]
    }
   ],
   "source": [
    "# the following are strings\n",
    "print(\"\")\n",
    "print(\"There's a snake in my boot!\")\n",
    "print('True')"
   ]
  },
  {
   "cell_type": "markdown",
   "metadata": {},
   "source": [
    "## Monday Exercises"
   ]
  },
  {
   "cell_type": "code",
   "execution_count": 8,
   "metadata": {},
   "outputs": [
    {
     "name": "stdout",
     "output_type": "stream",
     "text": [
      "My name is sai ram\n",
      "10 type is <class 'int'>\n",
      "5.5 type is <class 'float'>\n",
      "'I am string' type is <class 'str'>\n",
      "True type is <class 'bool'>\n"
     ]
    }
   ],
   "source": [
    "print(\"My name is sai ram\")   # Printing out my name.\n",
    "\n",
    "# Type checking.\n",
    "print(\"{} type is {}\".format(10, type(10)))\n",
    "print(\"{} type is {}\".format(5.5, type(5.5)))\n",
    "print(\"{} type is {}\".format(\"'I am string'\", type(\"'I am string'\")))\n",
    "print(\"{} type is {}\".format(True, type(True)))"
   ]
  },
  {
   "cell_type": "markdown",
   "metadata": {},
   "source": [
    "# Variables"
   ]
  },
  {
   "cell_type": "code",
   "execution_count": 9,
   "metadata": {},
   "outputs": [
    {
     "name": "stdout",
     "output_type": "stream",
     "text": [
      "5 8.4\n"
     ]
    }
   ],
   "source": [
    "num1 = 5  # storing an integer into a variable\n",
    "num2 = 8.4  # storing a float into a variable\n",
    "print(num1, num2)  # you can print multiple itmes using commas"
   ]
  },
  {
   "cell_type": "code",
   "execution_count": 10,
   "metadata": {},
   "outputs": [
    {
     "name": "stdout",
     "output_type": "stream",
     "text": [
      "True\n"
     ]
    }
   ],
   "source": [
    "# storing a boolen into variable\n",
    "switch = True\n",
    "print(switch)"
   ]
  },
  {
   "cell_type": "code",
   "execution_count": 11,
   "metadata": {},
   "outputs": [
    {
     "name": "stdout",
     "output_type": "stream",
     "text": [
      "Sai Ram 9\n"
     ]
    }
   ],
   "source": [
    "# storing string into a variable\n",
    "name = 'Sai Ram'\n",
    "fav_number = '9'\n",
    "print(name, fav_number)  # will print 9 next to name"
   ]
  },
  {
   "cell_type": "code",
   "execution_count": 12,
   "metadata": {},
   "outputs": [
    {
     "name": "stdout",
     "output_type": "stream",
     "text": [
      "13.4\n"
     ]
    }
   ],
   "source": [
    "# using two variable to create another variable\n",
    "result = num1 + num2\n",
    "print(result)"
   ]
  },
  {
   "cell_type": "code",
   "execution_count": 13,
   "metadata": {},
   "outputs": [
    {
     "name": "stdout",
     "output_type": "stream",
     "text": [
      "14.4\n",
      "72.0\n"
     ]
    }
   ],
   "source": [
    "# adding, deleting, multiplying, dividing from a variable\n",
    "result += 1  # same as sayign result = result + 1\n",
    "print(result)\n",
    "result *= num1  # same as saying result = result * num1\n",
    "print(result)"
   ]
  },
  {
   "cell_type": "code",
   "execution_count": 14,
   "metadata": {},
   "outputs": [
    {
     "name": "stdout",
     "output_type": "stream",
     "text": [
      "Sai\n",
      "Ram\n"
     ]
    }
   ],
   "source": [
    "# defining a variable and overwrting it's value\n",
    "name = 'Sai'\n",
    "print(name)\n",
    "name = 'Ram'\n",
    "print(name)"
   ]
  },
  {
   "cell_type": "markdown",
   "metadata": {},
   "source": [
    "## Tuesday Exercises"
   ]
  },
  {
   "cell_type": "code",
   "execution_count": 15,
   "metadata": {},
   "outputs": [
    {
     "name": "stdout",
     "output_type": "stream",
     "text": [
      "3 * 10 = 30\n",
      "Area of 245.54 x 13.66 is 3354.0764\n"
     ]
    }
   ],
   "source": [
    "# Variable Output\n",
    "x = 3\n",
    "y = 10\n",
    "result = x * y\n",
    "print(\"{} * {} = {}\".format(x, y, result))\n",
    "\n",
    "# Area Calculation\n",
    "length = 245.54\n",
    "width = 13.66\n",
    "area = length * width\n",
    "print(\"Area of {} x {} is {}\".format(length, width, area))"
   ]
  },
  {
   "cell_type": "markdown",
   "metadata": {},
   "source": [
    "# Working with strings"
   ]
  },
  {
   "cell_type": "code",
   "execution_count": 16,
   "metadata": {},
   "outputs": [
    {
     "name": "stdout",
     "output_type": "stream",
     "text": [
      "Sai Ram\n"
     ]
    }
   ],
   "source": [
    "# using the addition operator without variables\n",
    "name = \"Sai\" + \" \" + \"Ram\"\n",
    "print(name)"
   ]
  },
  {
   "cell_type": "code",
   "execution_count": 17,
   "metadata": {},
   "outputs": [
    {
     "name": "stdout",
     "output_type": "stream",
     "text": [
      "Sai Ram\n"
     ]
    }
   ],
   "source": [
    "# using the addition operator with variables\n",
    "first_name = \"Sai\"\n",
    "last_name = \"Ram\"\n",
    "full_name = first_name + \" \" + last_name\n",
    "print(full_name)"
   ]
  },
  {
   "cell_type": "code",
   "execution_count": 18,
   "metadata": {},
   "outputs": [
    {
     "name": "stdout",
     "output_type": "stream",
     "text": [
      "Hello Sai\n",
      "Hello Sai, you are 31 years old!\n"
     ]
    }
   ],
   "source": [
    "# injecting variables using the format method\n",
    "name = \"Sai\"\n",
    "print(\"Hello {}\".format(name))\n",
    "print(\"Hello {}, you are {} years old!\".format(name, 31))"
   ]
  },
  {
   "cell_type": "code",
   "execution_count": 19,
   "metadata": {},
   "outputs": [
    {
     "name": "stdout",
     "output_type": "stream",
     "text": [
      "Hello Sai\n"
     ]
    }
   ],
   "source": [
    "# using the new f strings\n",
    "name = \"Sai\"\n",
    "print(f\"Hello {name}\")"
   ]
  },
  {
   "cell_type": "code",
   "execution_count": 20,
   "metadata": {},
   "outputs": [
    {
     "name": "stdout",
     "output_type": "stream",
     "text": [
      "Hello, Sai\n"
     ]
    }
   ],
   "source": [
    "# one major difference between version 2 & 3\n",
    "# is that version 2 does not have .format method,\n",
    "# uses % sign instead of .format()\n",
    "name = \"Sai\"\n",
    "print('Hello, %s' % name)"
   ]
  },
  {
   "cell_type": "code",
   "execution_count": 21,
   "metadata": {},
   "outputs": [
    {
     "name": "stdout",
     "output_type": "stream",
     "text": [
      "Hello, Sai Ram\n"
     ]
    }
   ],
   "source": [
    "# python 2 multiple variable formatting \n",
    "first_name = \"Sai\"\n",
    "last_name = \"Ram\"\n",
    "print(\"Hello, %s %s\" % (first_name, last_name))  # surround the variable in\n",
    "# parenthesis"
   ]
  },
  {
   "cell_type": "code",
   "execution_count": 22,
   "metadata": {},
   "outputs": [
    {
     "name": "stdout",
     "output_type": "stream",
     "text": [
      "H\n",
      "e\n",
      "o\n"
     ]
    }
   ],
   "source": [
    "# Using the indexes to print each element\n",
    "word = 'Hello'\n",
    "print(word[0])  # will output 'H'\n",
    "print(word[1])  # will output 'e'\n",
    "print(word[-1]) # will output 'o'"
   ]
  },
  {
   "cell_type": "code",
   "execution_count": 23,
   "metadata": {},
   "outputs": [
    {
     "name": "stdout",
     "output_type": "stream",
     "text": [
      "He\n",
      "Hlo\n"
     ]
    }
   ],
   "source": [
    "# String Slicing\n",
    "print(word[0:2])  # will output 'He'\n",
    "\n",
    "print(word[0:5:2]) # will output 'Hlo'"
   ]
  },
  {
   "cell_type": "markdown",
   "metadata": {},
   "source": [
    "## Wednesday Exercises"
   ]
  },
  {
   "cell_type": "code",
   "execution_count": 24,
   "metadata": {},
   "outputs": [
    {
     "name": "stdout",
     "output_type": "stream",
     "text": [
      "23 4.5 False Sai\n",
      "Sai's favorite sport is golf\n",
      "Sai is working on python programming\n"
     ]
    }
   ],
   "source": [
    "# Variable Injection\n",
    "print(\"{} {} {} {}\".format(23, 4.5, False, \"Sai\"))\n",
    "\n",
    "# Fill in the blanks\n",
    "print(\"{}'s favorite sport is {}\".format('Sai', \"golf\"))\n",
    "print(\"{} is working on {} programming\".format(\"Sai\", \"python\"))"
   ]
  },
  {
   "cell_type": "markdown",
   "metadata": {},
   "source": [
    "# Manipulating Strings"
   ]
  },
  {
   "cell_type": "code",
   "execution_count": 25,
   "metadata": {},
   "outputs": [
    {
     "name": "stdout",
     "output_type": "stream",
     "text": [
      "Sai Ram\n"
     ]
    }
   ],
   "source": [
    "# using the title method to captilize a string\n",
    "name = \"sai ram\"\n",
    "print(name.title())"
   ]
  },
  {
   "cell_type": "code",
   "execution_count": 2,
   "metadata": {},
   "outputs": [
    {
     "name": "stdout",
     "output_type": "stream",
     "text": [
      "sai ram\n",
      "SAI RAM\n"
     ]
    }
   ],
   "source": [
    "# using lower and upper method on a string\n",
    "print(name.lower())\n",
    "print(name.upper())"
   ]
  },
  {
   "cell_type": "code",
   "execution_count": 3,
   "metadata": {},
   "outputs": [
    {
     "name": "stdout",
     "output_type": "stream",
     "text": [
      "Hello there.\n"
     ]
    }
   ],
   "source": [
    "# replacing an exclamation point with a period\n",
    "words = \"Hello there!\"\n",
    "print(words.replace(\"!\", \".\"))"
   ]
  },
  {
   "cell_type": "code",
   "execution_count": 4,
   "metadata": {},
   "outputs": [
    {
     "name": "stdout",
     "output_type": "stream",
     "text": [
      "5\n"
     ]
    }
   ],
   "source": [
    "# finding the starting index of our searched term\n",
    "s = \"Look over that way\"\n",
    "print(s.find(\"over\"))"
   ]
  },
  {
   "cell_type": "code",
   "execution_count": 5,
   "metadata": {},
   "outputs": [
    {
     "name": "stdout",
     "output_type": "stream",
     "text": [
      "sai\n"
     ]
    }
   ],
   "source": [
    "# removing white space with strip\n",
    "name = \"  sai  \"\n",
    "print(name.strip())"
   ]
  },
  {
   "cell_type": "code",
   "execution_count": 6,
   "metadata": {},
   "outputs": [
    {
     "name": "stdout",
     "output_type": "stream",
     "text": [
      "sai  \n",
      "  sai\n"
     ]
    }
   ],
   "source": [
    "# using lstrip and rstrip methods on a string\n",
    "print(name.lstrip())\n",
    "print(name.rstrip())"
   ]
  },
  {
   "cell_type": "code",
   "execution_count": 7,
   "metadata": {},
   "outputs": [
    {
     "name": "stdout",
     "output_type": "stream",
     "text": [
      "['These', 'words', 'are', 'separated', 'by', 'spaces']\n"
     ]
    }
   ],
   "source": [
    "# converting a string into a list of words\n",
    "s = \"These words are separated by spaces\"\n",
    "print(s.split())"
   ]
  },
  {
   "cell_type": "markdown",
   "metadata": {},
   "source": [
    "## Thursday Exercises"
   ]
  },
  {
   "cell_type": "code",
   "execution_count": 9,
   "metadata": {},
   "outputs": [
    {
     "name": "stdout",
     "output_type": "stream",
     "text": [
      "UPPERCASE\n",
      "Sai Ram\n"
     ]
    }
   ],
   "source": [
    "# Uppercasing \n",
    "print(\"uppercase\".upper())\n",
    "\n",
    "# Strip Symbols\n",
    "print(\"$$Sai Ram\".strip('$'))"
   ]
  },
  {
   "cell_type": "markdown",
   "metadata": {},
   "source": [
    "# Friday Project: Printing Receipts"
   ]
  },
  {
   "cell_type": "code",
   "execution_count": 28,
   "metadata": {},
   "outputs": [
    {
     "name": "stdout",
     "output_type": "stream",
     "text": [
      "**************************************************\n",
      "\t\tCoding Temple, Inc.\n",
      "\t\t283 Franklin St.\n",
      "\t\tBoston, MA\n",
      "==================================================\n",
      "\tProduct Name\tProduct Price\n",
      "\tBooks\t\t$49.95\n",
      "\tComputer\t$579.99\n",
      "\tMonitor\t\t$124.89\n",
      "==================================================\n",
      "\t\t\tTotal\n",
      "\t\t\t$754.83\n",
      "==================================================\n",
      "\n",
      "\tThanks for shoping with us today!\n",
      "\n",
      "**************************************************\n"
     ]
    }
   ],
   "source": [
    "# create a produc tand price for three items\n",
    "p1_name , p1_price = \"Books\", 49.95\n",
    "p2_name , p2_price = \"Computer\", 579.99\n",
    "p3_name , p3_price = \"Monitor\", 124.89\n",
    "\n",
    "# create a company name and information\n",
    "company_name = \"coding temple, inc.\"\n",
    "company_address = \"283 Franklin St.\"\n",
    "company_city = \"Boston, MA\"\n",
    "\n",
    "# delcare ending message\n",
    "message = \"Thanks for shoping with us today!\"\n",
    "\n",
    "# create a top border\n",
    "print(\"*\" * 50)\n",
    "\n",
    "# print company information first, using format\n",
    "print(\"\\t\\t{}\".format(company_name.title()))\n",
    "print(\"\\t\\t{}\".format(company_address))\n",
    "print(\"\\t\\t{}\".format(company_city))\n",
    "\n",
    "# print a line between sections\n",
    "print('=' * 50)\n",
    "\n",
    "# print out header for section of items\n",
    "print(\"\\tProduct Name\\tProduct Price\")\n",
    "\n",
    "# Print out header for section of items\n",
    "print(\"\\t{}\\t\\t${}\".format(p1_name.title(), p1_price))\n",
    "print(\"\\t{}\\t${}\".format(p2_name.title(), p2_price))\n",
    "print(\"\\t{}\\t\\t${}\".format(p3_name.title(), p3_price))\n",
    "\n",
    "# print a line between sections\n",
    "print('=' * 50)\n",
    "\n",
    "# Print out header for section of total\n",
    "print(\"\\t\\t\\tTotal\")\n",
    "\n",
    "# calculate total price and print out\n",
    "total = p1_price + p2_price + p3_price\n",
    "print(\"\\t\\t\\t${}\".format(total))\n",
    "\n",
    "# print a line between sections\n",
    "print('=' * 50)\n",
    "\n",
    "# output thank you message \n",
    "print(\"\\n\\t{}\\n\".format(message))\n",
    "\n",
    "# create a bottom border\n",
    "print(\"*\" * 50)"
   ]
  },
  {
   "cell_type": "markdown",
   "metadata": {},
   "source": [
    "## Weekly Challenges"
   ]
  },
  {
   "cell_type": "code",
   "execution_count": 1,
   "metadata": {},
   "outputs": [
    {
     "name": "stdout",
     "output_type": "stream",
     "text": [
      "Without reversing Hello\n",
      "With reversing olleH\n"
     ]
    }
   ],
   "source": [
    "# Reverse\n",
    "given_str = 'Hello'\n",
    "print(\"Without reversing {}\".format(given_str))\n",
    "print(\"With reversing {}\".format(given_str[::-1]))"
   ]
  },
  {
   "cell_type": "code",
   "execution_count": 2,
   "metadata": {},
   "outputs": [],
   "source": [
    "# Researching Methods"
   ]
  },
  {
   "cell_type": "code",
   "execution_count": 3,
   "metadata": {},
   "outputs": [],
   "source": [
    "# Side Borders"
   ]
  },
  {
   "cell_type": "code",
   "execution_count": 25,
   "metadata": {},
   "outputs": [
    {
     "name": "stdout",
     "output_type": "stream",
     "text": [
      "**************************************************\n",
      "*\t\tCoding Temple, Inc.\t\t*\n",
      "*\t\t283 Franklin St.\t\t*\n",
      "*\t\tBoston, MA\t\t\t*\n",
      "==================================================\n",
      "*\tProduct Name\tProduct Price\t\t*\n",
      "*\tBooks\t\t$49.95\t\t\t*\n",
      "*\tComputer\t$579.99\t\t\t*\n",
      "*\tMonitor\t\t$124.89\t\t\t*\n",
      "==================================================\n",
      "*\t\t\tTotal\t\t\t*\n",
      "*\t\t\t$754.83\t\t\t*\n",
      "==================================================\n",
      "*\t\t\t\t\t\t*\n",
      "*\tThanks for shoping with us today!\t*\n",
      "*\t\t\t\t\t\t*\n",
      "**************************************************\n"
     ]
    }
   ],
   "source": [
    "# create a produc tand price for three items\n",
    "p1_name , p1_price = \"Books\", 49.95\n",
    "p2_name , p2_price = \"Computer\", 579.99\n",
    "p3_name , p3_price = \"Monitor\", 124.89\n",
    "\n",
    "# create a company name and information\n",
    "company_name = \"coding temple, inc.\"\n",
    "company_address = \"283 Franklin St.\"\n",
    "company_city = \"Boston, MA\"\n",
    "\n",
    "# delcare ending message\n",
    "message = \"Thanks for shoping with us today!\"\n",
    "\n",
    "# create a top border\n",
    "print(\"*\" * 50)\n",
    "\n",
    "# print company information first, using format\n",
    "print(\"*\\t\\t{}\\t\\t*\".format(company_name.title()))\n",
    "print(\"*\\t\\t{}\\t\\t*\".format(company_address))\n",
    "print(\"*\\t\\t{}\\t\\t\\t*\".format(company_city))\n",
    "\n",
    "# print a line between sections\n",
    "print('=' * 50)\n",
    "\n",
    "# print out header for section of items\n",
    "print(\"*\\tProduct Name\\tProduct Price\\t\\t*\")\n",
    "\n",
    "# Print out header for section of items\n",
    "print(\"*\\t{}\\t\\t${}\\t\\t\\t*\".format(p1_name.title(), p1_price))\n",
    "print(\"*\\t{}\\t${}\\t\\t\\t*\".format(p2_name.title(), p2_price))\n",
    "print(\"*\\t{}\\t\\t${}\\t\\t\\t*\".format(p3_name.title(), p3_price))\n",
    "\n",
    "# print a line between sections\n",
    "print('=' * 50)\n",
    "\n",
    "# Print out header for section of total\n",
    "print(\"*\\t\\t\\tTotal\\t\\t\\t*\")\n",
    "\n",
    "# calculate total price and print out\n",
    "total = p1_price + p2_price + p3_price\n",
    "print(\"*\\t\\t\\t${}\\t\\t\\t*\".format(total))\n",
    "\n",
    "# print a line between sections\n",
    "print('=' * 50)\n",
    "\n",
    "# output thank you message \n",
    "print(\"*\\t\\t\\t\\t\\t\\t*\\n*\\t{}\\t*\\n*\\t\\t\\t\\t\\t\\t*\".format(message))\n",
    "\n",
    "# create a bottom border\n",
    "print(\"*\" * 50)"
   ]
  },
  {
   "cell_type": "code",
   "execution_count": null,
   "metadata": {},
   "outputs": [],
   "source": []
  }
 ],
 "metadata": {
  "kernelspec": {
   "display_name": "Python 3",
   "language": "python",
   "name": "python3"
  },
  "language_info": {
   "codemirror_mode": {
    "name": "ipython",
    "version": 3
   },
   "file_extension": ".py",
   "mimetype": "text/x-python",
   "name": "python",
   "nbconvert_exporter": "python",
   "pygments_lexer": "ipython3",
   "version": "3.6.9"
  }
 },
 "nbformat": 4,
 "nbformat_minor": 4
}
