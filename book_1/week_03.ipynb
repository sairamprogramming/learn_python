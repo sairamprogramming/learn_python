{
 "cells": [
  {
   "cell_type": "markdown",
   "metadata": {},
   "source": [
    "# User Input & Type Converting"
   ]
  },
  {
   "cell_type": "code",
   "execution_count": 1,
   "metadata": {},
   "outputs": [
    {
     "name": "stdin",
     "output_type": "stream",
     "text": [
      "What is your name?  Sai\n"
     ]
    },
    {
     "name": "stdout",
     "output_type": "stream",
     "text": [
      "Sai\n"
     ]
    }
   ],
   "source": [
    "# accepting and outputting user input\n",
    "print(input(\"What is your name? \"))"
   ]
  },
  {
   "cell_type": "code",
   "execution_count": 2,
   "metadata": {},
   "outputs": [
    {
     "name": "stdin",
     "output_type": "stream",
     "text": [
      "What is your name?  sai\n"
     ]
    },
    {
     "name": "stdout",
     "output_type": "stream",
     "text": [
      "Hello sai\n"
     ]
    }
   ],
   "source": [
    "# saving what the user inputs\n",
    "ans = input(\"What is your name? \")\n",
    "print(\"Hello {}\".format(ans))"
   ]
  },
  {
   "cell_type": "code",
   "execution_count": 3,
   "metadata": {},
   "outputs": [
    {
     "name": "stdout",
     "output_type": "stream",
     "text": [
      "<class 'int'>\n"
     ]
    }
   ],
   "source": [
    "# how to check the data type of a variable\n",
    "num = 5\n",
    "print(type(num))"
   ]
  },
  {
   "cell_type": "code",
   "execution_count": 4,
   "metadata": {},
   "outputs": [
    {
     "name": "stdout",
     "output_type": "stream",
     "text": [
      "<class 'int'>\n"
     ]
    }
   ],
   "source": [
    "# converting a variable from one data type to another\n",
    "num = \"9\"\n",
    "num = int(num)   # re-declaring num to store as an integer\n",
    "print(type(num)) # checking type to make sure conversion worked"
   ]
  },
  {
   "cell_type": "code",
   "execution_count": 5,
   "metadata": {},
   "outputs": [
    {
     "name": "stdin",
     "output_type": "stream",
     "text": [
      "Type a number to add:  12\n"
     ]
    },
    {
     "name": "stdout",
     "output_type": "stream",
     "text": [
      "<class 'str'>\n",
      "100 + 12 = 112\n"
     ]
    }
   ],
   "source": [
    "# working with user input to perform calculations\n",
    "ans = input(\"Type a number to add: \")\n",
    "print(type(ans))   # default type is string, must convert\n",
    "result = 100 + int(ans)\n",
    "print(\"100 + {} = {}\".format(ans, result))"
   ]
  },
  {
   "cell_type": "code",
   "execution_count": 6,
   "metadata": {},
   "outputs": [
    {
     "name": "stdin",
     "output_type": "stream",
     "text": [
      "Type a number to add:  21\n"
     ]
    },
    {
     "name": "stdout",
     "output_type": "stream",
     "text": [
      "100 + 21.0 = 121.0\n",
      "The program did not break!\n"
     ]
    }
   ],
   "source": [
    "# using the try and except blocks, use tab to indent where necessary\n",
    "try:\n",
    "    ans = float(input(\"Type a number to add: \"))\n",
    "    print(\"100 + {} = {}\".format(ans, 100 + ans))\n",
    "except:\n",
    "    print(\"You did not put in a valid number!\")\n",
    "# without try.except print statement would not get hit if error occurs\n",
    "print(\"The program did not break!\")"
   ]
  },
  {
   "cell_type": "markdown",
   "metadata": {},
   "source": [
    "## Monday Exercises"
   ]
  },
  {
   "cell_type": "code",
   "execution_count": 7,
   "metadata": {},
   "outputs": [
    {
     "name": "stdout",
     "output_type": "stream",
     "text": [
      "True\n"
     ]
    },
    {
     "name": "stdin",
     "output_type": "stream",
     "text": [
      "Enter first number:  12\n",
      "Enter second number:  34\n"
     ]
    },
    {
     "name": "stdout",
     "output_type": "stream",
     "text": [
      "12 + 34 = 46\n"
     ]
    },
    {
     "name": "stdin",
     "output_type": "stream",
     "text": [
      "Enter the year in which car was made:  1999\n",
      "Enter make of car:  Maruthi\n",
      "Enter the model of the car:  Alto\n",
      "Enter color of the car:  Silver\n"
     ]
    },
    {
     "name": "stdout",
     "output_type": "stream",
     "text": [
      "1999 Silver Maruthi Alto\n"
     ]
    }
   ],
   "source": [
    "# Converting\n",
    "sample_str = \"Hello\"\n",
    "bool_sample_str = bool(sample_str)\n",
    "print(bool_sample_str)\n",
    "\n",
    "# Sum of Inputs\n",
    "try:\n",
    "    x = int(input(\"Enter first number: \"))\n",
    "    y = int(input(\"Enter second number: \"))\n",
    "    print(\"{} + {} = {}\".format(x, y, x + y))\n",
    "except:\n",
    "    print(\"Enter valid integer inputs!!!\")\n",
    "\n",
    "# Car information\n",
    "year = input(\"Enter the year in which car was made: \")\n",
    "make = input(\"Enter make of car: \")\n",
    "model = input(\"Enter the model of the car: \")\n",
    "color = input(\"Enter color of the car: \")\n",
    "print(\"{} {} {} {}\".format(year, color, make, model))"
   ]
  },
  {
   "cell_type": "markdown",
   "metadata": {},
   "source": [
    "# If statements"
   ]
  },
  {
   "cell_type": "code",
   "execution_count": 8,
   "metadata": {},
   "outputs": [
    {
     "name": "stdout",
     "output_type": "stream",
     "text": [
      "x is less than y\n"
     ]
    }
   ],
   "source": [
    "# using an if statement to only run code if condtion is met\n",
    "x, y = 5, 10\n",
    "if x < y:\n",
    "    print(\"x is less than y\")"
   ]
  },
  {
   "cell_type": "code",
   "execution_count": 9,
   "metadata": {},
   "outputs": [
    {
     "name": "stdin",
     "output_type": "stream",
     "text": [
      "What is 5 + 5?  10\n"
     ]
    },
    {
     "name": "stdout",
     "output_type": "stream",
     "text": [
      "You got it right!\n"
     ]
    }
   ],
   "source": [
    "# checking user input\n",
    "ans = int(input(\"What is 5 + 5? \"))\n",
    "if ans == 10:\n",
    "    print(\"You got it right!\")"
   ]
  },
  {
   "cell_type": "code",
   "execution_count": 10,
   "metadata": {},
   "outputs": [
    {
     "name": "stdout",
     "output_type": "stream",
     "text": [
      "Both statements were true\n"
     ]
    }
   ],
   "source": [
    "# using the keyword 'and' in an 'if statement'\n",
    "x, y, z = 5, 10, 5\n",
    "if x < y and x == z:\n",
    "    print(\"Both statements were true\")"
   ]
  },
  {
   "cell_type": "code",
   "execution_count": 11,
   "metadata": {},
   "outputs": [
    {
     "name": "stdout",
     "output_type": "stream",
     "text": [
      "One or both statements were true\n"
     ]
    }
   ],
   "source": [
    "# using the keyword 'or' in an 'if statement'\n",
    "x, y, z = 5, 10, 5\n",
    "if x < y or x != z:\n",
    "    print(\"One or both statements were true\")"
   ]
  },
  {
   "cell_type": "code",
   "execution_count": 12,
   "metadata": {},
   "outputs": [
    {
     "name": "stdout",
     "output_type": "stream",
     "text": [
      "Flag is False\n"
     ]
    }
   ],
   "source": [
    "# using the keyword 'not' within an 'if statement'\n",
    "flag = False\n",
    "if not flag:   # same as saying if not true\n",
    "    print(\"Flag is False\")"
   ]
  },
  {
   "cell_type": "code",
   "execution_count": 13,
   "metadata": {},
   "outputs": [
    {
     "name": "stdout",
     "output_type": "stream",
     "text": [
      "Baseball contains the character b.\n"
     ]
    }
   ],
   "source": [
    "# using the keyword 'in' within an 'if statement'\n",
    "word = \"Baseball\"\n",
    "if \"b\" in word:\n",
    "    print(\"{} contains the character b.\".format(word))"
   ]
  },
  {
   "cell_type": "code",
   "execution_count": 14,
   "metadata": {},
   "outputs": [
    {
     "name": "stdout",
     "output_type": "stream",
     "text": [
      "Baseball does not conatin the character x.\n"
     ]
    }
   ],
   "source": [
    "# using the keyword 'not in' with in an 'if statement'\n",
    "word = 'Baseball'\n",
    "if 'x' not in word:\n",
    "    print(\"{} does not conatin the character x.\".format(word))"
   ]
  },
  {
   "cell_type": "markdown",
   "metadata": {},
   "source": [
    "## Tuesday Exercises"
   ]
  },
  {
   "cell_type": "code",
   "execution_count": 15,
   "metadata": {},
   "outputs": [
    {
     "name": "stdin",
     "output_type": "stream",
     "text": [
      "Enter a word:  saes\n"
     ]
    },
    {
     "name": "stdout",
     "output_type": "stream",
     "text": [
      "saes conatins es.\n"
     ]
    }
   ],
   "source": [
    "# Checking Inclusion - Part 1\n",
    "word = input(\"Enter a word: \")\n",
    "if 'es' in word:\n",
    "    print(\"{} conatins es.\".format(word))"
   ]
  },
  {
   "cell_type": "code",
   "execution_count": 17,
   "metadata": {},
   "outputs": [
    {
     "name": "stdin",
     "output_type": "stream",
     "text": [
      "Enter a word:  randoming\n"
     ]
    },
    {
     "name": "stdout",
     "output_type": "stream",
     "text": [
      "randoming ends with ing.\n"
     ]
    }
   ],
   "source": [
    "# Checking Inclusion - Part 2\n",
    "word = input(\"Enter a word: \")\n",
    "if len(word) > 3 and word[-3:] == 'ing':\n",
    "    print(\"{} ends with ing.\".format(word))"
   ]
  },
  {
   "cell_type": "code",
   "execution_count": 19,
   "metadata": {},
   "outputs": [
    {
     "name": "stdin",
     "output_type": "stream",
     "text": [
      "Enter a word:  Sai\n",
      "Enter another word:  sai\n"
     ]
    },
    {
     "name": "stdout",
     "output_type": "stream",
     "text": [
      "Sai and sai are the same words\n"
     ]
    }
   ],
   "source": [
    "# Checking Equality\n",
    "word1 = input(\"Enter a word: \")\n",
    "word2 = input(\"Enter another word: \")\n",
    "if word1.lower() == word2.lower():\n",
    "    print(\"{} and {} are the same words\".format(word1, word2))"
   ]
  },
  {
   "cell_type": "code",
   "execution_count": 20,
   "metadata": {},
   "outputs": [
    {
     "name": "stdin",
     "output_type": "stream",
     "text": [
      "Enter an integer:  2\n"
     ]
    },
    {
     "name": "stdout",
     "output_type": "stream",
     "text": [
      "2 ** 2 = 4\n"
     ]
    }
   ],
   "source": [
    "# Returning Exponents\n",
    "try:\n",
    "    number = int(input(\"Enter an integer: \"))\n",
    "    if number < 10:\n",
    "        print(\"{} ** 2 = {}\".format(number, number ** 2))\n",
    "except:\n",
    "    print(\"Enter valid integers!!!\")"
   ]
  },
  {
   "cell_type": "markdown",
   "metadata": {},
   "source": [
    "# Elif Statements"
   ]
  },
  {
   "cell_type": "code",
   "execution_count": 31,
   "metadata": {},
   "outputs": [
    {
     "name": "stdout",
     "output_type": "stream",
     "text": [
      "x is lesses\n"
     ]
    }
   ],
   "source": [
    "# using the elif conditional statement\n",
    "x, y = 5, 10\n",
    "if x > y:\n",
    "    print(\"x is greater\")\n",
    "elif x < y:\n",
    "    print(\"x is lesses\")"
   ]
  },
  {
   "cell_type": "code",
   "execution_count": 32,
   "metadata": {},
   "outputs": [
    {
     "name": "stdout",
     "output_type": "stream",
     "text": [
      "equal\n"
     ]
    }
   ],
   "source": [
    "# checking more than one elif conditional statement\n",
    "x, y = 5, 10\n",
    "if x > y:\n",
    "    print(\"x is greater\")   # checking if 15 is less than 10\n",
    "elif (x + 10) < y:\n",
    "    print(\"x is less\")      # checking if 10 is equal to 10\n",
    "elif (x + 5) == y:\n",
    "    print(\"equal\")"
   ]
  },
  {
   "cell_type": "code",
   "execution_count": 33,
   "metadata": {},
   "outputs": [
    {
     "name": "stdout",
     "output_type": "stream",
     "text": [
      "x is equal to z\n"
     ]
    }
   ],
   "source": [
    "# writing multiple conditionals within each other-multiple block levels\n",
    "x, y, z = 5, 10, 5\n",
    "if x > y:\n",
    "    print(\"greater\")\n",
    "elif x <= y:\n",
    "    if x == z:\n",
    "        print(\"x is equal to z\")   # resulting output\n",
    "    elif x != z:\n",
    "        print(\"x is not equal to z\") # won't get hit"
   ]
  },
  {
   "cell_type": "code",
   "execution_count": 34,
   "metadata": {},
   "outputs": [
    {
     "name": "stdout",
     "output_type": "stream",
     "text": [
      "x is less\n",
      "x is equal\n"
     ]
    }
   ],
   "source": [
    "# testing output of tw if satemetns ina  row that are both true\n",
    "x, y, z = 5, 10, 5\n",
    "if x < y:\n",
    "    print(\"x is less\")\n",
    "if x == z:\n",
    "    print(\"x is equal\")"
   ]
  },
  {
   "cell_type": "code",
   "execution_count": 35,
   "metadata": {},
   "outputs": [
    {
     "name": "stdout",
     "output_type": "stream",
     "text": [
      "x is less\n"
     ]
    }
   ],
   "source": [
    "# testing output of an inf and elif statement that are both true\n",
    "x, y, z = 5, 10 ,5\n",
    "if x < y:\n",
    "    print(\"x is less\")\n",
    "elif x == z:\n",
    "    print(\"x is equal to z\")"
   ]
  },
  {
   "cell_type": "markdown",
   "metadata": {},
   "source": [
    "## Wednesday Exercise"
   ]
  },
  {
   "cell_type": "code",
   "execution_count": 40,
   "metadata": {},
   "outputs": [
    {
     "name": "stdin",
     "output_type": "stream",
     "text": [
      "Enter a number:  112\n"
     ]
    },
    {
     "name": "stdout",
     "output_type": "stream",
     "text": [
      "112 is greater than 100\n"
     ]
    }
   ],
   "source": [
    "# Higer/Lower\n",
    "try:\n",
    "    number = int(input(\"Enter a number: \"))\n",
    "    if number > 100:\n",
    "        print(\"{} is greater than 100\".format(number))\n",
    "    elif number < 100:\n",
    "        print(\"{} is lesser than 100\".format(number))\n",
    "except:\n",
    "    print(\"Enter valid integer inputs!!!\")"
   ]
  },
  {
   "cell_type": "code",
   "execution_count": 41,
   "metadata": {},
   "outputs": [
    {
     "name": "stdout",
     "output_type": "stream",
     "text": [
      "lower\n"
     ]
    }
   ],
   "source": [
    "# Find the solution\n",
    "x, y = 5, 10\n",
    "if x > y:\n",
    "    print(\"greater\")\n",
    "elif x < y:\n",
    "    print(\"lower\")"
   ]
  },
  {
   "cell_type": "markdown",
   "metadata": {},
   "source": [
    "# Else Statements"
   ]
  },
  {
   "cell_type": "code",
   "execution_count": 42,
   "metadata": {},
   "outputs": [
    {
     "name": "stdout",
     "output_type": "stream",
     "text": [
      "Hello Sai!\n"
     ]
    }
   ],
   "source": [
    "# using an else statement\n",
    "name = \"Sai\"\n",
    "if name == \"Jacob\":\n",
    "    print(\"Hello jacob!\")\n",
    "else:\n",
    "    print(\"Hello {}!\".format(name))"
   ]
  },
  {
   "cell_type": "code",
   "execution_count": 43,
   "metadata": {},
   "outputs": [
    {
     "name": "stdout",
     "output_type": "stream",
     "text": [
      "Name starts with a S\n"
     ]
    }
   ],
   "source": [
    "# writing a full conditional statement with if, elif, else\n",
    "name = \"Sai\"\n",
    "if name[0] == \"A\":\n",
    "    print(\"Name starts with an A\")\n",
    "elif name[0] == \"B\":\n",
    "    print(\"Name starts with a B\")\n",
    "elif name[0] == 'S':\n",
    "    print(\"Name starts with a S\")\n",
    "else:   # convering all other possibilites\n",
    "    print(\"Name starts with a {}\".format(name[0]))"
   ]
  },
  {
   "cell_type": "markdown",
   "metadata": {},
   "source": [
    "## Thurday Exercises"
   ]
  },
  {
   "cell_type": "code",
   "execution_count": 44,
   "metadata": {},
   "outputs": [
    {
     "name": "stdout",
     "output_type": "stream",
     "text": [
      "Hello Sai\n"
     ]
    }
   ],
   "source": [
    "# Fix the errors\n",
    "name = \"Sai\"\n",
    "if name == \"Jack\":\n",
    "    print(\"Hello Jack\")\n",
    "elif name == \"Sai\":\n",
    "    print(\"Hello Sai\")\n",
    "else:\n",
    "    print(\"Hello {}\".format(name))"
   ]
  },
  {
   "cell_type": "code",
   "execution_count": 48,
   "metadata": {},
   "outputs": [
    {
     "name": "stdin",
     "output_type": "stream",
     "text": [
      "Enter time:  1100\n"
     ]
    },
    {
     "name": "stdout",
     "output_type": "stream",
     "text": [
      "Good Morning\n"
     ]
    }
   ],
   "source": [
    "# User Input\n",
    "try:\n",
    "    time = int(input(\"Enter time: \"))\n",
    "    if time < 1200:\n",
    "        print(\"Good Morning\")\n",
    "    elif time >= 1200 and time < 1700:\n",
    "        print(\"Good Afternoon\")\n",
    "    elif time >= 1700:\n",
    "        print(\"Good Evening\")\n",
    "except:\n",
    "    print(\"Enter valid inputs for time.\")"
   ]
  },
  {
   "cell_type": "markdown",
   "metadata": {},
   "source": [
    "# Friday Project: Creating a calculator"
   ]
  },
  {
   "cell_type": "code",
   "execution_count": 57,
   "metadata": {},
   "outputs": [
    {
     "name": "stdin",
     "output_type": "stream",
     "text": [
      "Would you like to add/subtract/multiply/divide? divide\n"
     ]
    },
    {
     "name": "stdout",
     "output_type": "stream",
     "text": [
      "You chose divide\n",
      "You choose divide\n",
      "Please kepp in mind that the order of numbers matter.\n"
     ]
    },
    {
     "name": "stdin",
     "output_type": "stream",
     "text": [
      "What is the first number?  34\n",
      "What is the second number?  4\n"
     ]
    },
    {
     "name": "stdout",
     "output_type": "stream",
     "text": [
      "First Number: 34\n",
      "Second Number: 4\n",
      "34.0 / 4.0 = 8.5\n"
     ]
    }
   ],
   "source": [
    "# step 1: ask user for calculation to be performed\n",
    "operation = input(\"Would you like to add/subtract/multiply/divide?\").lower()\n",
    "print(\"You chose {}\".format(operation))   # for testing purposes\n",
    "\n",
    "# step 2: ask for numbers, alert order matters for subtracting \n",
    "# and dividing.\n",
    "if operation == \"subtract\" or operation == \"divide\":\n",
    "    print(\"You choose {}\".format(operation))\n",
    "    print(\"Please kepp in mind that the order of numbers matter.\")\n",
    "num1 = input(\"What is the first number? \")\n",
    "num2 = input(\"What is the second number? \")\n",
    "print(\"First Number: {}\".format(num1))  # for testing purposes\n",
    "print(\"Second Number: {}\".format(num2)) # for testing purposes\n",
    "\n",
    "# step 3: setup try/exept for mathematical operation\n",
    "try:\n",
    "    # step 3a: immediately try to convert numbers input to floats\n",
    "    num1, num2 = float(num1), float(num2)\n",
    "    # step 3b: perfor operation and prin result\n",
    "    if operation == \"add\":\n",
    "        result = num1 + num2\n",
    "        print(\"{} + {} = {}\".format(num1, num2, result))\n",
    "    elif operation == \"subtract\":\n",
    "        result = num1 - num2\n",
    "        print(\"{} - {} = {}\".format(num1, num2, result))\n",
    "    elif operation == \"multiply\":\n",
    "        result = num1 * num2\n",
    "        print(\"{} * {} = {}\".format(num1, num2, result))\n",
    "    elif operation == \"divide\":\n",
    "        result = num1 / num2\n",
    "        print(\"{} / {} = {}\".format(num1, num2, result))\n",
    "    else:\n",
    "        # else will be hit if they didn't choose an option correctly\n",
    "        print(\"Sorry, but '{}' is not an option.\".format(operation))\n",
    "except:\n",
    "    # step 3c: print error\n",
    "    print(\"Error: Improper number used. PLease try again.\")"
   ]
  },
  {
   "cell_type": "markdown",
   "metadata": {},
   "source": [
    "## Weekly Challenges"
   ]
  },
  {
   "cell_type": "code",
   "execution_count": 1,
   "metadata": {},
   "outputs": [],
   "source": [
    "# Reversing Numbers"
   ]
  },
  {
   "cell_type": "code",
   "execution_count": 4,
   "metadata": {},
   "outputs": [
    {
     "name": "stdin",
     "output_type": "stream",
     "text": [
      "Would you like to add/subtract/multiply/divide? divide\n"
     ]
    },
    {
     "name": "stdout",
     "output_type": "stream",
     "text": [
      "You chose divide\n",
      "You choose divide\n",
      "Please kepp in mind that the order of numbers matter.\n"
     ]
    },
    {
     "name": "stdin",
     "output_type": "stream",
     "text": [
      "What is the first number?  3\n",
      "What is the second number?  6\n"
     ]
    },
    {
     "name": "stdout",
     "output_type": "stream",
     "text": [
      "First Number: 3\n",
      "Second Number: 6\n"
     ]
    },
    {
     "name": "stdin",
     "output_type": "stream",
     "text": [
      "Do you want to reverse the numbers(y/n):  n\n"
     ]
    },
    {
     "name": "stdout",
     "output_type": "stream",
     "text": [
      "3.0 / 6.0 = 0.5\n"
     ]
    }
   ],
   "source": [
    "# step 1: ask user for calculation to be performed\n",
    "operation = input(\"Would you like to add/subtract/multiply/divide?\").lower()\n",
    "print(\"You chose {}\".format(operation))   # for testing purposes\n",
    "\n",
    "# step 2: ask for numbers, alert order matters for subtracting \n",
    "# and dividing.\n",
    "if operation == \"subtract\" or operation == \"divide\":\n",
    "    print(\"You choose {}\".format(operation))\n",
    "    print(\"Please kepp in mind that the order of numbers matter.\")\n",
    "num1 = input(\"What is the first number? \")\n",
    "num2 = input(\"What is the second number? \")\n",
    "print(\"First Number: {}\".format(num1))  # for testing purposes\n",
    "print(\"Second Number: {}\".format(num2)) # for testing purposes\n",
    "\n",
    "# Reversing number if reqired.\n",
    "if num2 > num1 and (operation == 'subtract' or operation == 'divide'):\n",
    "    reverse = input(\"Do you want to reverse the numbers(y/n): \")\n",
    "    if reverse == 'y':\n",
    "        temp = num1\n",
    "        num1 = num2\n",
    "        num2 = temp \n",
    "        \n",
    "# step 3: setup try/exept for mathematical operation\n",
    "try:\n",
    "    # step 3a: immediately try to convert numbers input to floats\n",
    "    num1, num2 = float(num1), float(num2)\n",
    "    # step 3b: perfor operation and prin result\n",
    "    if operation == \"add\":\n",
    "        result = num1 + num2\n",
    "        print(\"{} + {} = {}\".format(num1, num2, result))\n",
    "    elif operation == \"subtract\":\n",
    "        result = num1 - num2\n",
    "        print(\"{} - {} = {}\".format(num1, num2, result))\n",
    "    elif operation == \"multiply\":\n",
    "        result = num1 * num2\n",
    "        print(\"{} * {} = {}\".format(num1, num2, result))\n",
    "    elif operation == \"divide\":\n",
    "        result = num1 / num2\n",
    "        print(\"{} / {} = {}\".format(num1, num2, result))\n",
    "    else:\n",
    "        # else will be hit if they didn't choose an option correctly\n",
    "        print(\"Sorry, but '{}' is not an option.\".format(operation))\n",
    "except:\n",
    "    # step 3c: print error\n",
    "    print(\"Error: Improper number used. PLease try again.\")"
   ]
  },
  {
   "cell_type": "code",
   "execution_count": 5,
   "metadata": {},
   "outputs": [],
   "source": [
    "# Age Group"
   ]
  },
  {
   "cell_type": "code",
   "execution_count": 11,
   "metadata": {},
   "outputs": [
    {
     "name": "stdin",
     "output_type": "stream",
     "text": [
      "Enter you age:  66\n"
     ]
    },
    {
     "name": "stdout",
     "output_type": "stream",
     "text": [
      "Senior\n"
     ]
    }
   ],
   "source": [
    "user_age = int(input(\"Enter you age: \"))\n",
    "if user_age >= 0 and user_age <= 12:\n",
    "    print(\"Kid\")\n",
    "elif user_age >= 13 and user_age <= 19:\n",
    "    print(\"Teenager\")\n",
    "elif user_age >= 20 and user_age <= 30:\n",
    "    print(\"Young Adult\")\n",
    "elif user_age >= 31 and user_age <= 65:\n",
    "    print(\"Adult\")\n",
    "elif user_age >= 65:\n",
    "    print(\"Senior\")\n",
    "else:\n",
    "    print(\"Please input valid age!\")"
   ]
  },
  {
   "cell_type": "code",
   "execution_count": 12,
   "metadata": {},
   "outputs": [],
   "source": [
    "# Text - Based RPG"
   ]
  },
  {
   "cell_type": "code",
   "execution_count": null,
   "metadata": {},
   "outputs": [],
   "source": []
  }
 ],
 "metadata": {
  "kernelspec": {
   "display_name": "Python 3",
   "language": "python",
   "name": "python3"
  },
  "language_info": {
   "codemirror_mode": {
    "name": "ipython",
    "version": 3
   },
   "file_extension": ".py",
   "mimetype": "text/x-python",
   "name": "python",
   "nbconvert_exporter": "python",
   "pygments_lexer": "ipython3",
   "version": "3.6.9"
  }
 },
 "nbformat": 4,
 "nbformat_minor": 4
}
