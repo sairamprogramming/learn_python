{
 "cells": [
  {
   "cell_type": "code",
   "execution_count": 1,
   "metadata": {},
   "outputs": [
    {
     "name": "stdin",
     "output_type": "stream",
     "text": [
      "Enter your first name:  sai\n"
     ]
    },
    {
     "name": "stdout",
     "output_type": "stream",
     "text": [
      "3\n"
     ]
    }
   ],
   "source": [
    "# 020\n",
    "\n",
    "first_name = input(\"Enter your first name: \")\n",
    "print(len(first_name))"
   ]
  },
  {
   "cell_type": "code",
   "execution_count": 2,
   "metadata": {},
   "outputs": [
    {
     "name": "stdin",
     "output_type": "stream",
     "text": [
      "Enter your first name:  Sai\n",
      "Enter you surname:  Ram\n"
     ]
    },
    {
     "name": "stdout",
     "output_type": "stream",
     "text": [
      "Sai Ram\n"
     ]
    }
   ],
   "source": [
    "# 021\n",
    "\n",
    "first_name = input(\"Enter your first name: \")\n",
    "surname = input(\"Enter you surname: \")\n",
    "print(first_name + \" \" + surname)"
   ]
  },
  {
   "cell_type": "code",
   "execution_count": 4,
   "metadata": {},
   "outputs": [
    {
     "name": "stdin",
     "output_type": "stream",
     "text": [
      "Enter your first name (lowercase):  sai\n",
      "Enter you surname (lowercase):  ram\n"
     ]
    },
    {
     "name": "stdout",
     "output_type": "stream",
     "text": [
      "Sai Ram\n"
     ]
    }
   ],
   "source": [
    "# 022\n",
    "\n",
    "first_name = input(\"Enter your first name (lowercase): \").capitalize()\n",
    "surname = input(\"Enter you surname (lowercase): \").capitalize()\n",
    "print(first_name + \" \" + surname)"
   ]
  },
  {
   "cell_type": "code",
   "execution_count": 5,
   "metadata": {},
   "outputs": [
    {
     "name": "stdin",
     "output_type": "stream",
     "text": [
      "Enter a starting rhyme:  hympty deumpty\n"
     ]
    },
    {
     "name": "stdout",
     "output_type": "stream",
     "text": [
      "Length: 14\n"
     ]
    },
    {
     "name": "stdin",
     "output_type": "stream",
     "text": [
      "Enter the starting index:  2\n",
      "Enter the last index:  5\n"
     ]
    },
    {
     "name": "stdout",
     "output_type": "stream",
     "text": [
      "mpt\n"
     ]
    }
   ],
   "source": [
    "# 023\n",
    "\n",
    "starting_rhyme = input(\"Enter a starting rhyme: \")\n",
    "print(\"Length:\", len(starting_rhyme))\n",
    "start_index = int(input(\"Enter the starting index: \"))\n",
    "end_index = int(input(\"Enter the last index: \"))\n",
    "print(starting_rhyme[start_index:end_index])"
   ]
  },
  {
   "cell_type": "code",
   "execution_count": 6,
   "metadata": {},
   "outputs": [
    {
     "name": "stdin",
     "output_type": "stream",
     "text": [
      "Enter a word:  sai\n"
     ]
    },
    {
     "name": "stdout",
     "output_type": "stream",
     "text": [
      "SAI\n"
     ]
    }
   ],
   "source": [
    "# 024\n",
    "\n",
    "word = input(\"Enter a word: \")\n",
    "print(word.upper())"
   ]
  },
  {
   "cell_type": "code",
   "execution_count": 8,
   "metadata": {},
   "outputs": [
    {
     "name": "stdin",
     "output_type": "stream",
     "text": [
      "Enter your first name:  myself\n"
     ]
    },
    {
     "name": "stdout",
     "output_type": "stream",
     "text": [
      "myself\n"
     ]
    }
   ],
   "source": [
    "# 025\n",
    "\n",
    "first_name = input(\"Enter your first name: \")\n",
    "if len(first_name) < 5:\n",
    "    surname = input(\"Enter your surname: \")\n",
    "    name = first_name + surname\n",
    "    print(name.upper())\n",
    "else:\n",
    "    print(first_name.lower())"
   ]
  },
  {
   "cell_type": "code",
   "execution_count": 12,
   "metadata": {},
   "outputs": [
    {
     "name": "stdin",
     "output_type": "stream",
     "text": [
      "Enter a word:  myself\n"
     ]
    },
    {
     "name": "stdout",
     "output_type": "stream",
     "text": [
      "yselfmay\n"
     ]
    }
   ],
   "source": [
    "# 026\n",
    "\n",
    "vowels = ['a', 'e', 'i', 'o', 'u']\n",
    "word = input(\"Enter a word: \")\n",
    "if word[0] not in vowels:\n",
    "    word = word[1:] + word[0] + 'ay'\n",
    "else:\n",
    "    word = word[1:] + word[0] + 'way'\n",
    "print(word)"
   ]
  },
  {
   "cell_type": "code",
   "execution_count": null,
   "metadata": {},
   "outputs": [],
   "source": []
  }
 ],
 "metadata": {
  "kernelspec": {
   "display_name": "Python 3",
   "language": "python",
   "name": "python3"
  },
  "language_info": {
   "codemirror_mode": {
    "name": "ipython",
    "version": 3
   },
   "file_extension": ".py",
   "mimetype": "text/x-python",
   "name": "python",
   "nbconvert_exporter": "python",
   "pygments_lexer": "ipython3",
   "version": "3.6.9"
  }
 },
 "nbformat": 4,
 "nbformat_minor": 4
}
