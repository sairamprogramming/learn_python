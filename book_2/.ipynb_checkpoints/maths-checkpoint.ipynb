{
 "cells": [
  {
   "cell_type": "code",
   "execution_count": 1,
   "metadata": {},
   "outputs": [
    {
     "name": "stdin",
     "output_type": "stream",
     "text": [
      "Enter a floating point number:  2.343535\n"
     ]
    },
    {
     "name": "stdout",
     "output_type": "stream",
     "text": [
      "4.68707\n"
     ]
    }
   ],
   "source": [
    "# 027\n",
    "\n",
    "num = float(input(\"Enter a floating point number: \"))\n",
    "print(num * 2)"
   ]
  },
  {
   "cell_type": "code",
   "execution_count": 2,
   "metadata": {},
   "outputs": [
    {
     "name": "stdin",
     "output_type": "stream",
     "text": [
      "Enter a floating point number:  2.3463636463\n"
     ]
    },
    {
     "name": "stdout",
     "output_type": "stream",
     "text": [
      "4.69\n"
     ]
    }
   ],
   "source": [
    "# 028\n",
    "\n",
    "num = float(input(\"Enter a floating point number: \"))\n",
    "result = round(num * 2, 2)\n",
    "print(result)"
   ]
  },
  {
   "cell_type": "code",
   "execution_count": 3,
   "metadata": {},
   "outputs": [
    {
     "name": "stdout",
     "output_type": "stream",
     "text": [
      "3.14159\n"
     ]
    }
   ],
   "source": [
    "# 030\n",
    "\n",
    "from math import pi\n",
    "print(round(pi, 5))"
   ]
  },
  {
   "cell_type": "code",
   "execution_count": 4,
   "metadata": {},
   "outputs": [
    {
     "name": "stdin",
     "output_type": "stream",
     "text": [
      "Enter radius of a circle:  23\n"
     ]
    },
    {
     "name": "stdout",
     "output_type": "stream",
     "text": [
      "1661.9025137490005\n"
     ]
    }
   ],
   "source": [
    "# 031\n",
    "\n",
    "from math import pi\n",
    "r = float(input(\"Enter radius of a circle: \"))\n",
    "area = pi * r * r\n",
    "print(area)"
   ]
  },
  {
   "cell_type": "code",
   "execution_count": 5,
   "metadata": {},
   "outputs": [
    {
     "name": "stdin",
     "output_type": "stream",
     "text": [
      "Enter radius of the cylinder:  3\n",
      "Enter height of the cylinder:  5\n"
     ]
    },
    {
     "name": "stdout",
     "output_type": "stream",
     "text": [
      "141.3716694115407\n"
     ]
    }
   ],
   "source": [
    "# 032\n",
    "\n",
    "from math import pi\n",
    "r = float(input(\"Enter radius of the cylinder: \"))\n",
    "h = float(input(\"Enter height of the cylinder: \"))\n",
    "volume =  (pi * r ** 2) * h\n",
    "print(volume)"
   ]
  },
  {
   "cell_type": "code",
   "execution_count": 6,
   "metadata": {},
   "outputs": [
    {
     "name": "stdin",
     "output_type": "stream",
     "text": [
      "Enter a number:  34\n",
      "Enter another number:  5\n"
     ]
    },
    {
     "name": "stdout",
     "output_type": "stream",
     "text": [
      "quotient: 6\n",
      "remainder: 4\n"
     ]
    }
   ],
   "source": [
    "# 033\n",
    "\n",
    "num1 = int(input(\"Enter a number: \"))\n",
    "num2 = int(input(\"Enter another number: \"))\n",
    "quotient = num1 // num2\n",
    "remainder = num1 % num2\n",
    "print(f\"quotient: {quotient}\")\n",
    "print(f\"remainder: {remainder}\")"
   ]
  },
  {
   "cell_type": "code",
   "execution_count": 11,
   "metadata": {},
   "outputs": [
    {
     "name": "stdout",
     "output_type": "stream",
     "text": [
      "\t1. Square\n",
      "\t2. Triangle\n"
     ]
    },
    {
     "name": "stdin",
     "output_type": "stream",
     "text": [
      "Enter a number:  2\n",
      "Enter base of triangle:  3\n",
      "Enter height of triangle:  2\n"
     ]
    },
    {
     "name": "stdout",
     "output_type": "stream",
     "text": [
      "Triangle area with base 3.0 and height 2.0 is 3.0\n"
     ]
    }
   ],
   "source": [
    "# 034\n",
    "\n",
    "print(\"\\t1. Square\")\n",
    "print(\"\\t2. Triangle\")\n",
    "\n",
    "choice = int(input(\"Enter a number: \"))\n",
    "\n",
    "if choice == 1:\n",
    "    length = float(input(\"Enter length of square: \"))\n",
    "    area = length ** 2\n",
    "    print(f\"Area of square with length {length} is {area}\")\n",
    "elif choice == 2:\n",
    "    base = float(input(\"Enter base of triangle: \"))\n",
    "    height = float(input(\"Enter height of triangle: \"))\n",
    "    area = 0.5 * base * height\n",
    "    print(f\"Triangle area with base {base} and height {height} is {area}\")\n",
    "else:\n",
    "    print(\"Error: Please input a valid choice!!!\")"
   ]
  }
 ],
 "metadata": {
  "kernelspec": {
   "display_name": "Python 3",
   "language": "python",
   "name": "python3"
  },
  "language_info": {
   "codemirror_mode": {
    "name": "ipython",
    "version": 3
   },
   "file_extension": ".py",
   "mimetype": "text/x-python",
   "name": "python",
   "nbconvert_exporter": "python",
   "pygments_lexer": "ipython3",
   "version": "3.6.9"
  }
 },
 "nbformat": 4,
 "nbformat_minor": 4
}
