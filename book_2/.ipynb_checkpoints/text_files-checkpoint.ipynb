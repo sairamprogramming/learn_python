{
 "cells": [
  {
   "cell_type": "code",
   "execution_count": 1,
   "metadata": {},
   "outputs": [],
   "source": [
    "# 105\n",
    "\n",
    "f = open('numbers.txt', 'w')\n",
    "f.write('1, 2, 3, 4, 5')\n",
    "f.close()"
   ]
  },
  {
   "cell_type": "code",
   "execution_count": 4,
   "metadata": {},
   "outputs": [
    {
     "name": "stdin",
     "output_type": "stream",
     "text": [
      "Enter a name:  Sai\n",
      "Enter a name:  Ram\n",
      "Enter a name:  Arya\n",
      "Enter a name:  Surya\n",
      "Enter a name:  Sanjit\n"
     ]
    }
   ],
   "source": [
    "# 106\n",
    "\n",
    "f = open('names.txt', 'w')\n",
    "for i in range(5):\n",
    "    name = input(\"Enter a name: \")\n",
    "    f.write(name + '\\n')\n",
    "f.close()"
   ]
  },
  {
   "cell_type": "code",
   "execution_count": 9,
   "metadata": {},
   "outputs": [
    {
     "name": "stdout",
     "output_type": "stream",
     "text": [
      "Sai\n",
      "Ram\n",
      "Arya\n",
      "Surya\n",
      "Sanjit\n",
      "Aman\n",
      "\n"
     ]
    }
   ],
   "source": [
    "# 107\n",
    "\n",
    "f = open('names.txt', 'r')\n",
    "data = f.read()\n",
    "print(data)\n",
    "f.close()"
   ]
  },
  {
   "cell_type": "code",
   "execution_count": 8,
   "metadata": {},
   "outputs": [
    {
     "name": "stdin",
     "output_type": "stream",
     "text": [
      "Enter a name to add to file:  Aman\n"
     ]
    }
   ],
   "source": [
    "# 108\n",
    "\n",
    "f = open('names.txt', 'a')\n",
    "name = input(\"Enter a name to add to file: \")\n",
    "f.write(name + '\\n')\n",
    "f.close()"
   ]
  },
  {
   "cell_type": "code",
   "execution_count": 17,
   "metadata": {},
   "outputs": [
    {
     "name": "stdout",
     "output_type": "stream",
     "text": [
      "1) Create a new file.\n",
      "2) Display the new file.\n",
      "3) Add a new item to the file.\n",
      "Make a selection 1, 2, 3:\n",
      "\n"
     ]
    },
    {
     "name": "stdin",
     "output_type": "stream",
     "text": [
      " 3\n",
      "Enter a school subject:  hindi\n"
     ]
    },
    {
     "name": "stdout",
     "output_type": "stream",
     "text": [
      "maths\n",
      "hindi\n",
      "\n"
     ]
    }
   ],
   "source": [
    "# 109\n",
    "\n",
    "# printing menu.\n",
    "print(\"1) Create a new file.\")\n",
    "print('2) Display the new file.')\n",
    "print('3) Add a new item to the file.')\n",
    "print('Make a selection 1, 2, 3:')\n",
    "print()\n",
    "\n",
    "# getting selection:\n",
    "choice = int(input())\n",
    "\n",
    "# Handling the choices.\n",
    "if choice == 1:\n",
    "    # Creating a new file.\n",
    "    f = open(\"Subjects.txt\", 'w')\n",
    "    s_subject = input(\"Enter a school subject: \")\n",
    "    f.write(s_subject + '\\n')\n",
    "    f.close()\n",
    "elif choice == 2:\n",
    "    f = open(\"Subjects.txt\", 'r')\n",
    "    data = f.read()\n",
    "    print(data)\n",
    "    f.close()\n",
    "elif choice == 3:\n",
    "    f = open('Subjects.txt', 'a')\n",
    "    s_subject = input(\"Enter a school subject: \")\n",
    "    f.write(s_subject + '\\n')\n",
    "    f.close()\n",
    "    with open('Subjects.txt', 'r') as f:\n",
    "        print(f.read())\n",
    "else:\n",
    "    raise ValueError(\"Entered Value is not valid!!!\")"
   ]
  },
  {
   "cell_type": "code",
   "execution_count": 21,
   "metadata": {},
   "outputs": [
    {
     "name": "stdin",
     "output_type": "stream",
     "text": [
      "Enter a name:  Sai\n"
     ]
    }
   ],
   "source": [
    "# 110\n",
    "\n",
    "with open('names.txt', 'r') as f:\n",
    "    data = f.read()\n",
    "data = data.split('\\n')[:-1]\n",
    "name = input(\"Enter a name: \")\n",
    "\n",
    "with open('names2.txt', 'w') as f:\n",
    "    for n in data:\n",
    "        if name != n:\n",
    "            f.write(n + '\\n')\n",
    "        "
   ]
  },
  {
   "cell_type": "code",
   "execution_count": null,
   "metadata": {},
   "outputs": [],
   "source": []
  }
 ],
 "metadata": {
  "kernelspec": {
   "display_name": "Python 3",
   "language": "python",
   "name": "python3"
  },
  "language_info": {
   "codemirror_mode": {
    "name": "ipython",
    "version": 3
   },
   "file_extension": ".py",
   "mimetype": "text/x-python",
   "name": "python",
   "nbconvert_exporter": "python",
   "pygments_lexer": "ipython3",
   "version": "3.6.9"
  }
 },
 "nbformat": 4,
 "nbformat_minor": 4
}
