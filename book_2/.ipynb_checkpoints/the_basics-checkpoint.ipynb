{
 "cells": [
  {
   "cell_type": "code",
   "execution_count": 2,
   "metadata": {},
   "outputs": [
    {
     "name": "stdin",
     "output_type": "stream",
     "text": [
      "Enter your first name:  sai\n"
     ]
    },
    {
     "name": "stdout",
     "output_type": "stream",
     "text": [
      "Hello sai!\n"
     ]
    }
   ],
   "source": [
    "# 001\n",
    "\n",
    "first_name = input(\"Enter your first name: \")\n",
    "print(f\"Hello {first_name}!\")"
   ]
  },
  {
   "cell_type": "code",
   "execution_count": 3,
   "metadata": {},
   "outputs": [
    {
     "name": "stdin",
     "output_type": "stream",
     "text": [
      "Enter your first name:  Sai\n",
      "Enter your surname:  Ram\n"
     ]
    },
    {
     "name": "stdout",
     "output_type": "stream",
     "text": [
      "Hello Sai Ram!\n"
     ]
    }
   ],
   "source": [
    "# 002 \n",
    "\n",
    "first_name = input(\"Enter your first name: \")\n",
    "surname = input(\"Enter your surname: \")\n",
    "print(f\"Hello {first_name} {surname}!\")"
   ]
  },
  {
   "cell_type": "code",
   "execution_count": 4,
   "metadata": {},
   "outputs": [
    {
     "name": "stdout",
     "output_type": "stream",
     "text": [
      "\"What do you call a bear with no teeth?\"\n",
      "\"A gummy bear!\n"
     ]
    }
   ],
   "source": [
    "# 003\n",
    "\n",
    "print('\"What do you call a bear with no teeth?\"\\n\"A gummy bear!')"
   ]
  },
  {
   "cell_type": "code",
   "execution_count": 5,
   "metadata": {},
   "outputs": [
    {
     "name": "stdin",
     "output_type": "stream",
     "text": [
      "Enter a number:  1\n",
      "Enter another number:  2\n"
     ]
    },
    {
     "name": "stdout",
     "output_type": "stream",
     "text": [
      "The total is 3\n"
     ]
    }
   ],
   "source": [
    "# 004\n",
    "\n",
    "num1 = int(input(\"Enter a number: \"))\n",
    "num2 = int(input(\"Enter another number: \"))\n",
    "total = num1 + num2\n",
    "print(\"The total is {}\".format(total))"
   ]
  },
  {
   "cell_type": "code",
   "execution_count": 6,
   "metadata": {},
   "outputs": [
    {
     "name": "stdin",
     "output_type": "stream",
     "text": [
      "Enter first number:  1\n",
      "Enter second number:  2\n",
      "Enter third number:  3\n"
     ]
    },
    {
     "name": "stdout",
     "output_type": "stream",
     "text": [
      "The answer is 9\n"
     ]
    }
   ],
   "source": [
    "# 005\n",
    "\n",
    "num1 = int(input(\"Enter first number: \"))\n",
    "num2 = int(input(\"Enter second number: \"))\n",
    "num3 = int(input(\"Enter third number: \"))\n",
    "result = (num1 + num2) * num3\n",
    "print(f\"The answer is {result}\")"
   ]
  },
  {
   "cell_type": "code",
   "execution_count": 7,
   "metadata": {},
   "outputs": [
    {
     "name": "stdin",
     "output_type": "stream",
     "text": [
      "Enter the total number of pizza slices:  10\n",
      "Enter the number of pizza slices eaten:  3\n"
     ]
    },
    {
     "name": "stdout",
     "output_type": "stream",
     "text": [
      "Number of pizza slices left is 7\n"
     ]
    }
   ],
   "source": [
    "# 006 \n",
    "\n",
    "pizza_slices_total = int(input(\"Enter the total number of pizza slices: \"))\n",
    "pizza_slices_eaten = int(input(\"Enter the number of pizza slices eaten: \"))\n",
    "slices_left = pizza_slices_total - pizza_slices_eaten\n",
    "print(\"Number of pizza slices left is {}\".format(slices_left))"
   ]
  },
  {
   "cell_type": "code",
   "execution_count": 8,
   "metadata": {},
   "outputs": [
    {
     "name": "stdin",
     "output_type": "stream",
     "text": [
      "Enter your name:  Sai\n",
      "Enter your age:  31\n"
     ]
    },
    {
     "name": "stdout",
     "output_type": "stream",
     "text": [
      "Sai next birthday you will be 32\n"
     ]
    }
   ],
   "source": [
    "# 007\n",
    "\n",
    "name = input(\"Enter your name: \")\n",
    "age = int(input(\"Enter your age: \"))\n",
    "age += 1\n",
    "print(f\"{name} next birthday you will be {age}\")"
   ]
  },
  {
   "cell_type": "code",
   "execution_count": 9,
   "metadata": {},
   "outputs": [
    {
     "name": "stdin",
     "output_type": "stream",
     "text": [
      "Enter the total bill for the dinner:  120\n",
      "Enter the number of people in the dinner:  5\n"
     ]
    },
    {
     "name": "stdout",
     "output_type": "stream",
     "text": [
      "Each person must pay 24.0\n"
     ]
    }
   ],
   "source": [
    "# 008\n",
    "\n",
    "total_bill = float(input(\"Enter the total bill for the dinner: \"))\n",
    "num_people = int(input(\"Enter the number of people in the dinner: \"))\n",
    "bill_per_person = total_bill / num_people\n",
    "print(\"Each person must pay {}\".format(bill_per_person))"
   ]
  },
  {
   "cell_type": "code",
   "execution_count": 10,
   "metadata": {},
   "outputs": [
    {
     "name": "stdin",
     "output_type": "stream",
     "text": [
      "Enter number of days:  3\n"
     ]
    },
    {
     "name": "stdout",
     "output_type": "stream",
     "text": [
      "3 in hours is 72\n",
      "3 in minutes is 4320\n",
      "3 in seconds is 259200\n"
     ]
    }
   ],
   "source": [
    "# 009\n",
    "\n",
    "days = int(input(\"Enter number of days: \"))\n",
    "print(f\"{days} in hours is {days * 24}\")\n",
    "print(f\"{days} in minutes is {days * 24 * 60}\")\n",
    "print(f\"{days} in seconds is {days * 24 * 60 * 60}\")"
   ]
  },
  {
   "cell_type": "code",
   "execution_count": 11,
   "metadata": {},
   "outputs": [
    {
     "name": "stdin",
     "output_type": "stream",
     "text": [
      "Enter weight in kilograms:  12\n"
     ]
    },
    {
     "name": "stdout",
     "output_type": "stream",
     "text": [
      "12.0 Kg is 26.448 pounds.\n"
     ]
    }
   ],
   "source": [
    "# 010\n",
    "\n",
    "kilo_to_pound = 2.204 # 1 kilogram is 2.204 pounds\n",
    "in_kilograms = float(input(\"Enter weight in kilograms: \"))\n",
    "in_pounds = in_kilograms * kilo_to_pound\n",
    "print(f\"{in_kilograms} Kg is {in_pounds} pounds.\")"
   ]
  },
  {
   "cell_type": "code",
   "execution_count": 12,
   "metadata": {},
   "outputs": [
    {
     "name": "stdin",
     "output_type": "stream",
     "text": [
      "Enter number greater than 100:  432\n",
      "Enter a number less than 10:  4\n"
     ]
    },
    {
     "name": "stdout",
     "output_type": "stream",
     "text": [
      "4 goes into 432, 108 times.\n"
     ]
    }
   ],
   "source": [
    "# 011\n",
    "\n",
    "big_number = int(input(\"Enter number greater than 100: \"))\n",
    "small_number = int(input(\"Enter a number less than 10: \"))\n",
    "answer = big_number // small_number\n",
    "print(f\"{small_number} goes into {big_number}, {answer} times.\")"
   ]
  },
  {
   "cell_type": "code",
   "execution_count": null,
   "metadata": {},
   "outputs": [],
   "source": []
  }
 ],
 "metadata": {
  "kernelspec": {
   "display_name": "Python 3",
   "language": "python",
   "name": "python3"
  },
  "language_info": {
   "codemirror_mode": {
    "name": "ipython",
    "version": 3
   },
   "file_extension": ".py",
   "mimetype": "text/x-python",
   "name": "python",
   "nbconvert_exporter": "python",
   "pygments_lexer": "ipython3",
   "version": "3.6.9"
  }
 },
 "nbformat": 4,
 "nbformat_minor": 4
}
