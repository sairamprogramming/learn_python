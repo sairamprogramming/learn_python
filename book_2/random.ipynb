{
 "cells": [
  {
   "cell_type": "code",
   "execution_count": 1,
   "metadata": {},
   "outputs": [],
   "source": [
    "import random"
   ]
  },
  {
   "cell_type": "code",
   "execution_count": 2,
   "metadata": {},
   "outputs": [
    {
     "name": "stdout",
     "output_type": "stream",
     "text": [
      "41\n"
     ]
    }
   ],
   "source": [
    "# 052\n",
    "\n",
    "print(random.randint(1, 100))"
   ]
  },
  {
   "cell_type": "code",
   "execution_count": 3,
   "metadata": {},
   "outputs": [
    {
     "name": "stdout",
     "output_type": "stream",
     "text": [
      "banana\n"
     ]
    }
   ],
   "source": [
    "# 053\n",
    "\n",
    "fruits = [\"apple\", \"banana\", \"grapes\", \"pears\", \"oranges\"]\n",
    "print(random.choice(fruits))"
   ]
  },
  {
   "cell_type": "code",
   "execution_count": 5,
   "metadata": {},
   "outputs": [
    {
     "name": "stdin",
     "output_type": "stream",
     "text": [
      "Enter h or t:  h\n"
     ]
    },
    {
     "name": "stdout",
     "output_type": "stream",
     "text": [
      "You win\n"
     ]
    }
   ],
   "source": [
    "# 054\n",
    "\n",
    "coin_toss = [\"h\", \"t\"]\n",
    "to_guess = random.choice(coin_toss)\n",
    "\n",
    "guessed = input(\"Enter h or t: \").lower()\n",
    "\n",
    "if guessed == to_guess:\n",
    "    print(\"You win\")\n",
    "else:\n",
    "    print('Bad luck')"
   ]
  },
  {
   "cell_type": "code",
   "execution_count": 12,
   "metadata": {},
   "outputs": [
    {
     "name": "stdin",
     "output_type": "stream",
     "text": [
      "Enter a number between 1 and 5 (inclusive):  1\n"
     ]
    },
    {
     "name": "stdout",
     "output_type": "stream",
     "text": [
      "Too Low\n"
     ]
    },
    {
     "name": "stdin",
     "output_type": "stream",
     "text": [
      "Enter a number between 1 and 5 (inclusive):  4\n"
     ]
    },
    {
     "name": "stdout",
     "output_type": "stream",
     "text": [
      "Correct\n"
     ]
    }
   ],
   "source": [
    "# 055\n",
    "\n",
    "to_guess = random.randint(1, 5)\n",
    "\n",
    "guessed = int(input(\"Enter a number between 1 and 5 (inclusive): \"))\n",
    "\n",
    "if guessed == to_guess:\n",
    "    print(\"Well Done\")\n",
    "else:\n",
    "    if guessed > to_guess:\n",
    "        print(\"Too high\")\n",
    "    else:\n",
    "        print(\"Too Low\")\n",
    "        \n",
    "    guessed = int(input(\"Enter a number between 1 and 5 (inclusive): \"))\n",
    "    if guessed == to_guess:\n",
    "        print(\"Correct\")\n",
    "    else:\n",
    "        print(\"You Lose\")"
   ]
  },
  {
   "cell_type": "code",
   "execution_count": 13,
   "metadata": {},
   "outputs": [
    {
     "name": "stdin",
     "output_type": "stream",
     "text": [
      "Enter a number between 1 and 10 (inclusive):  5\n",
      "Enter a number between 1 and 10 (inclusive):  3\n",
      "Enter a number between 1 and 10 (inclusive):  7\n",
      "Enter a number between 1 and 10 (inclusive):  2\n"
     ]
    },
    {
     "name": "stdout",
     "output_type": "stream",
     "text": [
      "2\n"
     ]
    }
   ],
   "source": [
    "# 056\n",
    "\n",
    "to_guess = random.randint(1, 10)\n",
    "\n",
    "guess = int(input(\"Enter a number between 1 and 10 (inclusive): \"))\n",
    "\n",
    "while guess != to_guess:\n",
    "    guess = int(input(\"Enter a number between 1 and 10 (inclusive): \"))\n",
    "\n",
    "print(guess)"
   ]
  },
  {
   "cell_type": "code",
   "execution_count": 14,
   "metadata": {},
   "outputs": [
    {
     "name": "stdin",
     "output_type": "stream",
     "text": [
      "Enter a number between 1 and 10 (inclusive):  5\n"
     ]
    },
    {
     "name": "stdout",
     "output_type": "stream",
     "text": [
      "Too low\n"
     ]
    },
    {
     "name": "stdin",
     "output_type": "stream",
     "text": [
      "Enter a number between 1 and 10 (inclusive):  3\n"
     ]
    },
    {
     "name": "stdout",
     "output_type": "stream",
     "text": [
      "Too low\n"
     ]
    },
    {
     "name": "stdin",
     "output_type": "stream",
     "text": [
      "Enter a number between 1 and 10 (inclusive):  2\n"
     ]
    },
    {
     "name": "stdout",
     "output_type": "stream",
     "text": [
      "Too low\n"
     ]
    },
    {
     "name": "stdin",
     "output_type": "stream",
     "text": [
      "Enter a number between 1 and 10 (inclusive):  1\n"
     ]
    },
    {
     "name": "stdout",
     "output_type": "stream",
     "text": [
      "Too low\n"
     ]
    },
    {
     "name": "stdin",
     "output_type": "stream",
     "text": [
      "Enter a number between 1 and 10 (inclusive):  7\n"
     ]
    },
    {
     "name": "stdout",
     "output_type": "stream",
     "text": [
      "Too high\n"
     ]
    },
    {
     "name": "stdin",
     "output_type": "stream",
     "text": [
      "Enter a number between 1 and 10 (inclusive):  6\n"
     ]
    },
    {
     "name": "stdout",
     "output_type": "stream",
     "text": [
      "6\n"
     ]
    }
   ],
   "source": [
    "# 057\n",
    "\n",
    "to_guess = random.randint(1, 10)\n",
    "\n",
    "guess = int(input(\"Enter a number between 1 and 10 (inclusive): \"))\n",
    "\n",
    "while guess != to_guess:\n",
    "    if guess > to_guess:\n",
    "        print(\"Too high\")\n",
    "    else:\n",
    "        print(\"Too low\")\n",
    "    guess = int(input(\"Enter a number between 1 and 10 (inclusive): \"))\n",
    "\n",
    "print(guess)"
   ]
  },
  {
   "cell_type": "code",
   "execution_count": 16,
   "metadata": {},
   "outputs": [
    {
     "name": "stdout",
     "output_type": "stream",
     "text": [
      "75 + 99 = ?\n"
     ]
    },
    {
     "name": "stdin",
     "output_type": "stream",
     "text": [
      "Enter the answer:  174\n"
     ]
    },
    {
     "name": "stdout",
     "output_type": "stream",
     "text": [
      "48 + 31 = ?\n"
     ]
    },
    {
     "name": "stdin",
     "output_type": "stream",
     "text": [
      "Enter the answer:  79\n"
     ]
    },
    {
     "name": "stdout",
     "output_type": "stream",
     "text": [
      "97 + 59 = ?\n"
     ]
    },
    {
     "name": "stdin",
     "output_type": "stream",
     "text": [
      "Enter the answer:  136\n"
     ]
    },
    {
     "name": "stdout",
     "output_type": "stream",
     "text": [
      "9 + 40 = ?\n"
     ]
    },
    {
     "name": "stdin",
     "output_type": "stream",
     "text": [
      "Enter the answer:  49\n"
     ]
    },
    {
     "name": "stdout",
     "output_type": "stream",
     "text": [
      "74 + 41 = ?\n"
     ]
    },
    {
     "name": "stdin",
     "output_type": "stream",
     "text": [
      "Enter the answer:  115\n"
     ]
    },
    {
     "name": "stdout",
     "output_type": "stream",
     "text": [
      "You got 4/5 correct.\n"
     ]
    }
   ],
   "source": [
    "# 058\n",
    "\n",
    "score = 0\n",
    "\n",
    "for unused in range(5):\n",
    "    num1 = random.randint(1, 100)\n",
    "    num2 = random.randint(1, 100)\n",
    "    print(f\"{num1} + {num2} = ?\")\n",
    "    answer = int(input(\"Enter the answer: \"))\n",
    "    if num1 + num2 == answer:\n",
    "        score += 1\n",
    "\n",
    "print(\"You got {}/5 correct.\".format(score))"
   ]
  },
  {
   "cell_type": "code",
   "execution_count": 22,
   "metadata": {},
   "outputs": [
    {
     "name": "stdin",
     "output_type": "stream",
     "text": [
      "Enter the color you guess:  blue\n"
     ]
    },
    {
     "name": "stdout",
     "output_type": "stream",
     "text": [
      "You are probably feeling YELLOW right now.\n"
     ]
    },
    {
     "name": "stdin",
     "output_type": "stream",
     "text": [
      "Enter the color you guess:  green\n"
     ]
    },
    {
     "name": "stdout",
     "output_type": "stream",
     "text": [
      "I bet you are YELLOW with envy.\n"
     ]
    },
    {
     "name": "stdin",
     "output_type": "stream",
     "text": [
      "Enter the color you guess:  blakc\n"
     ]
    },
    {
     "name": "stdout",
     "output_type": "stream",
     "text": [
      "I bet you are YELLOW with envy.\n"
     ]
    },
    {
     "name": "stdin",
     "output_type": "stream",
     "text": [
      "Enter the color you guess:  yellow\n"
     ]
    },
    {
     "name": "stdout",
     "output_type": "stream",
     "text": [
      "Well done\n"
     ]
    }
   ],
   "source": [
    "# 059\n",
    "\n",
    "colors = ['blue', 'green', 'red', 'yellow', 'black']\n",
    "\n",
    "to_guess = random.choice(colors)\n",
    "guess = input(\"Enter the color you guess: \")\n",
    "\n",
    "while to_guess.lower() != guess.lower():\n",
    "    if random.randint(1, 2) == 1:\n",
    "        print(\"I bet you are {} with envy.\".format(to_guess.upper()))\n",
    "    else:\n",
    "        print(\"You are probably feeling {} right now.\".format(to_guess.upper()))\n",
    "    guess = input(\"Enter the color you guess: \")\n",
    "\n",
    "print(\"Well done\")"
   ]
  },
  {
   "cell_type": "code",
   "execution_count": null,
   "metadata": {},
   "outputs": [],
   "source": []
  }
 ],
 "metadata": {
  "kernelspec": {
   "display_name": "Python 3",
   "language": "python",
   "name": "python3"
  },
  "language_info": {
   "codemirror_mode": {
    "name": "ipython",
    "version": 3
   },
   "file_extension": ".py",
   "mimetype": "text/x-python",
   "name": "python",
   "nbconvert_exporter": "python",
   "pygments_lexer": "ipython3",
   "version": "3.6.9"
  }
 },
 "nbformat": 4,
 "nbformat_minor": 4
}
