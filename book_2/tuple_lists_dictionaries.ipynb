{
 "cells": [
  {
   "cell_type": "code",
   "execution_count": 3,
   "metadata": {},
   "outputs": [
    {
     "name": "stdout",
     "output_type": "stream",
     "text": [
      "('india', 'china', 'us', 'uk', 'nz')\n"
     ]
    },
    {
     "name": "stdin",
     "output_type": "stream",
     "text": [
      "Enter country for which you want to find index:  us\n"
     ]
    },
    {
     "name": "stdout",
     "output_type": "stream",
     "text": [
      "2\n"
     ]
    }
   ],
   "source": [
    "# 069\n",
    "\n",
    "# Creating a tuple with 5 countires names.\n",
    "countries = ('india', 'china', 'us', 'uk', 'nz')\n",
    "print(countries)\n",
    "\n",
    "# Gettingt the name of a country and printing the index value of the \n",
    "# country.\n",
    "country = input(\"Enter country for which you want to find index: \")\n",
    "if country in countries:\n",
    "    print(countries.index(country))\n",
    "else:\n",
    "    print(\"Please enter valid inputs!!!\")"
   ]
  },
  {
   "cell_type": "code",
   "execution_count": 5,
   "metadata": {},
   "outputs": [
    {
     "name": "stdout",
     "output_type": "stream",
     "text": [
      "('india', 'china', 'us', 'uk', 'nz')\n"
     ]
    },
    {
     "name": "stdin",
     "output_type": "stream",
     "text": [
      "Enter the index of the country you want to see:  3\n"
     ]
    },
    {
     "name": "stdout",
     "output_type": "stream",
     "text": [
      "uk\n"
     ]
    }
   ],
   "source": [
    "# 070\n",
    "\n",
    "# Creating a tuple with 5 countires names.\n",
    "countries = ('india', 'china', 'us', 'uk', 'nz')\n",
    "print(countries)\n",
    "\n",
    "# Getting a index value and seeing the name of the country in the index.\n",
    "index = int(input(\"Enter the index of the country you want to see: \"))\n",
    "if index >= 0 and index < len(countries):\n",
    "    print(countries[index])\n",
    "else:\n",
    "    print(\"Please enter valid index only!!!\")"
   ]
  },
  {
   "cell_type": "code",
   "execution_count": 6,
   "metadata": {},
   "outputs": [
    {
     "name": "stdout",
     "output_type": "stream",
     "text": [
      "['tennis', 'football']\n"
     ]
    },
    {
     "name": "stdin",
     "output_type": "stream",
     "text": [
      "Enter your favourite sport:  soccer\n"
     ]
    },
    {
     "name": "stdout",
     "output_type": "stream",
     "text": [
      "['tennis', 'football', 'soccer']\n"
     ]
    }
   ],
   "source": [
    "# 071\n",
    "\n",
    "# creating a list with two entries\n",
    "sports = ['tennis', 'football']\n",
    "print(sports)\n",
    "\n",
    "# Getting another entry from the user and appending it to the list.\n",
    "fav_sport = input(\"Enter your favourite sport: \")\n",
    "sports.append(fav_sport)\n",
    "print(sports)"
   ]
  },
  {
   "cell_type": "code",
   "execution_count": 9,
   "metadata": {},
   "outputs": [
    {
     "name": "stdout",
     "output_type": "stream",
     "text": [
      "['maths', 'hindi', 'english', 'physics', 'chemistry']\n"
     ]
    },
    {
     "name": "stdin",
     "output_type": "stream",
     "text": [
      "Enter which subject you want to remove:  hindi\n"
     ]
    },
    {
     "name": "stdout",
     "output_type": "stream",
     "text": [
      "['maths', 'english', 'physics', 'chemistry']\n"
     ]
    }
   ],
   "source": [
    "# 072\n",
    "\n",
    "# Creating a list with 5 entries.\n",
    "subjects = ['maths', 'hindi', 'english', 'physics', 'chemistry']\n",
    "print(subjects)\n",
    "\n",
    "# Getting which entry to remove from the list and removing it.\n",
    "rm_subject = input(\"Enter which subject you want to remove: \")\n",
    "if rm_subject in subjects:\n",
    "    subjects.remove(rm_subject)\n",
    "    print(subjects)\n",
    "else:\n",
    "    print(\"Plese enter valid inputs!!!\")"
   ]
  },
  {
   "cell_type": "code",
   "execution_count": 12,
   "metadata": {},
   "outputs": [
    {
     "name": "stdin",
     "output_type": "stream",
     "text": [
      "Enter your favourite food:  cake\n",
      "Enter your favourite food:  bread\n",
      "Enter your favourite food:  puff\n",
      "Enter your favourite food:  cheese\n"
     ]
    },
    {
     "name": "stdout",
     "output_type": "stream",
     "text": [
      "{1: 'cake', 2: 'bread', 3: 'puff', 4: 'cheese'}\n"
     ]
    },
    {
     "name": "stdin",
     "output_type": "stream",
     "text": [
      "Give index of which food you want to remove:  5\n"
     ]
    },
    {
     "name": "stdout",
     "output_type": "stream",
     "text": [
      "Please enter a valid index!!!\n"
     ]
    }
   ],
   "source": [
    "# 073\n",
    "\n",
    "fav_foods = {}  # empty dictionary\n",
    "\n",
    "# Adding entries to the empty dictionary fav_foods\n",
    "for i in range(1,5):\n",
    "    food = input(\"Enter your favourite food: \")\n",
    "    fav_foods[i] = food\n",
    "print(fav_foods)\n",
    "\n",
    "# Removing a entry from the dictionary fav_foods.\n",
    "rm_index = int(input(\"Give index of which food you want to remove: \"))\n",
    "if rm_index in fav_foods.keys():\n",
    "    del fav_foods[rm_index]\n",
    "    print(fav_foods)\n",
    "else:\n",
    "    print(\"Please enter a valid index!!!\")"
   ]
  },
  {
   "cell_type": "code",
   "execution_count": 14,
   "metadata": {},
   "outputs": [
    {
     "name": "stdin",
     "output_type": "stream",
     "text": [
      "Enter index between 0 and 4 (inclusive):  3\n",
      "Enter index between 5 and 9 (inclusive):  7\n"
     ]
    },
    {
     "name": "stdout",
     "output_type": "stream",
     "text": [
      "['black', 'yellow', 'cream', 'orange']\n"
     ]
    }
   ],
   "source": [
    "# 074\n",
    "\n",
    "# Creating a list with 10 entries.\n",
    "colors = ['red','blue','green','black','yellow',\n",
    "         'cream','orange','pink','violet','purple']\n",
    "\n",
    "# Getting the start and end index for slicing\n",
    "start_index = int(input(\"Enter index between 0 and 4 (inclusive): \"))\n",
    "end_index = int(input(\"Enter index between 5 and 9 (inclusive): \"))\n",
    "\n",
    "# Implementing the list slicing.\n",
    "print(colors[start_index:end_index])"
   ]
  },
  {
   "cell_type": "code",
   "execution_count": 23,
   "metadata": {},
   "outputs": [
    {
     "name": "stdout",
     "output_type": "stream",
     "text": [
      "111\n",
      "222\n",
      "333\n",
      "444\n"
     ]
    },
    {
     "name": "stdin",
     "output_type": "stream",
     "text": [
      "Enter a three digit number:  333\n"
     ]
    },
    {
     "name": "stdout",
     "output_type": "stream",
     "text": [
      "Index of 333 is 2\n"
     ]
    }
   ],
   "source": [
    "# 075\n",
    "\n",
    "# Creating a list with 4 entries, in which each entry is a 3 digit integer.\n",
    "numbers = [111, 222, 333, 444]\n",
    "\n",
    "# Printing out the items in the list in a newline.\n",
    "for n in numbers:\n",
    "    print(n)\n",
    "    \n",
    "# Getting a three digit number form the user.\n",
    "u_num = int(input(\"Enter a three digit number: \"))\n",
    "\n",
    "# if user input in defined list return the index in the list it resides.\n",
    "# else print appropriate response.\n",
    "if u_num in numbers:\n",
    "    print(f\"Index of {u_num} is {numbers.index(u_num)}\")\n",
    "else:\n",
    "    print(\"That is not in the list.\")"
   ]
  },
  {
   "cell_type": "code",
   "execution_count": 17,
   "metadata": {},
   "outputs": [
    {
     "name": "stdin",
     "output_type": "stream",
     "text": [
      "Enter the name of the person you have invited:  sai\n",
      "Enter the name of the person you have invited:  ram\n",
      "Enter the name of the person you have invited:  arya\n",
      "Do you want to continue(yes/no)?  sanjit\n",
      "Enter the name of the person you have invited:  sanjit\n",
      "Do you want to continue(yes/no)?  no\n"
     ]
    },
    {
     "name": "stdout",
     "output_type": "stream",
     "text": [
      "The number of people invited to the part is 4\n"
     ]
    }
   ],
   "source": [
    "# 076\n",
    "\n",
    "invited = []  # empty list\n",
    "\n",
    "# Getting three people invited to the party and adding their name to the \n",
    "# list.\n",
    "for i in range(3):\n",
    "    name = input(\"Enter the name of the person you have invited: \")\n",
    "    invited.append(name)\n",
    "    \n",
    "# Checking if we want to add more names and appending to list if required..\n",
    "while True:\n",
    "    flag = input(\"Do you want to continue(yes/no)? \")\n",
    "    if flag == 'no':\n",
    "        break\n",
    "    name = input(\"Enter the name of the person you have invited: \")\n",
    "    invited.append(name)\n",
    "\n",
    "# printing the length of the list.\n",
    "print(\"The number of people invited to the part is {}\".format(len(invited)))"
   ]
  },
  {
   "cell_type": "code",
   "execution_count": 20,
   "metadata": {},
   "outputs": [
    {
     "name": "stdout",
     "output_type": "stream",
     "text": [
      "['sai', 'arya', 'sanjit']\n"
     ]
    },
    {
     "name": "stdin",
     "output_type": "stream",
     "text": [
      "Enter a name from the list:  sai\n"
     ]
    },
    {
     "name": "stdout",
     "output_type": "stream",
     "text": [
      "0\n",
      "Do you want sai to come to the party(yes/no)?\n"
     ]
    },
    {
     "name": "stdin",
     "output_type": "stream",
     "text": [
      " yes\n"
     ]
    }
   ],
   "source": [
    "# 077\n",
    "\n",
    "print(invited)\n",
    "\n",
    "# Getting a name from the user.\n",
    "name = input(\"Enter a name from the list: \")\n",
    "\n",
    "# checking if the person is invited to the party by seeing if name in list.\n",
    "# if name is in list then check to see if need to be uninvited and implemet\n",
    "# it.\n",
    "if name in invited:\n",
    "    print(invited.index(name))\n",
    "    print(\"Do you want {} to come to the party(yes/no)?\".format(name))\n",
    "    choice = input()\n",
    "    if choice == 'no':\n",
    "        invited.remove(name)"
   ]
  },
  {
   "cell_type": "code",
   "execution_count": 25,
   "metadata": {},
   "outputs": [
    {
     "name": "stdout",
     "output_type": "stream",
     "text": [
      "a\n",
      "b\n",
      "c\n",
      "d\n"
     ]
    },
    {
     "name": "stdin",
     "output_type": "stream",
     "text": [
      "Enter the name of the show:  e\n",
      "Enter the positon where you want to insert:  3\n"
     ]
    },
    {
     "name": "stdout",
     "output_type": "stream",
     "text": [
      "['a', 'b', 'c', 'e', 'd']\n"
     ]
    }
   ],
   "source": [
    "# 078\n",
    "\n",
    "# Creating a list with 4 entries\n",
    "tv_programs = ['a', 'b', 'c', 'd']\n",
    "\n",
    "# Printing the entries in a newline.\n",
    "for program in tv_programs:\n",
    "    print(program)\n",
    "    \n",
    "# inserting a new show in the required positon using .insert() method.\n",
    "show = input('Enter the name of the show: ')\n",
    "position = int(input(\"Enter the positon where you want to insert: \"))\n",
    "\n",
    "tv_programs.insert(position, show)\n",
    "print(tv_programs)"
   ]
  },
  {
   "cell_type": "code",
   "execution_count": 28,
   "metadata": {},
   "outputs": [
    {
     "name": "stdin",
     "output_type": "stream",
     "text": [
      "Enter a number:  1\n",
      "Enter a number:  2\n",
      "Enter a number:  3\n"
     ]
    },
    {
     "name": "stdout",
     "output_type": "stream",
     "text": [
      "[1, 2, 3]\n",
      "'Do you want the last number(yes/no)?\n"
     ]
    },
    {
     "name": "stdin",
     "output_type": "stream",
     "text": [
      " yes\n"
     ]
    },
    {
     "name": "stdout",
     "output_type": "stream",
     "text": [
      "[1, 2, 3]\n"
     ]
    }
   ],
   "source": [
    "# 079\n",
    "\n",
    "nums = []  # empty list\n",
    "\n",
    "# Adding 3 entries to the list.\n",
    "for unused in range(3):\n",
    "    number = int(input(\"Enter a number: \"))\n",
    "    nums.append(number)\n",
    "\n",
    "# Checking if we want to remove the last element in the list.\n",
    "print(nums)\n",
    "print(\"'Do you want the last number(yes/no)?\")\n",
    "choice = input()\n",
    "\n",
    "# if appropirate choice remove the last element from the list.\n",
    "if choice == 'no':\n",
    "    del nums[-1]\n",
    "\n",
    "print(nums)"
   ]
  },
  {
   "cell_type": "code",
   "execution_count": null,
   "metadata": {},
   "outputs": [],
   "source": []
  }
 ],
 "metadata": {
  "kernelspec": {
   "display_name": "Python 3",
   "language": "python",
   "name": "python3"
  },
  "language_info": {
   "codemirror_mode": {
    "name": "ipython",
    "version": 3
   },
   "file_extension": ".py",
   "mimetype": "text/x-python",
   "name": "python",
   "nbconvert_exporter": "python",
   "pygments_lexer": "ipython3",
   "version": "3.6.9"
  }
 },
 "nbformat": 4,
 "nbformat_minor": 4
}
