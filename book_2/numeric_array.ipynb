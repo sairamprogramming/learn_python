{
 "cells": [
  {
   "cell_type": "code",
   "execution_count": null,
   "metadata": {},
   "outputs": [],
   "source": [
    "from array import *"
   ]
  },
  {
   "cell_type": "code",
   "execution_count": null,
   "metadata": {},
   "outputs": [],
   "source": [
    "# 088\n",
    "\n",
    "nums = array('i', [3, 4, 1, 2, 5])\n",
    "print(nums)\n",
    "nums = sorted(nums)\n",
    "print(nums)\n",
    "nums.reverse()\n",
    "print(nums)"
   ]
  },
  {
   "cell_type": "code",
   "execution_count": null,
   "metadata": {},
   "outputs": [],
   "source": [
    "# 089\n",
    "\n",
    "import random\n",
    "num_arr = array('i', list())\n",
    "for unused in range(5):\n",
    "    num_arr.append(random.randint(1, 100))\n",
    "for number in num_arr:\n",
    "    print(number)"
   ]
  },
  {
   "cell_type": "code",
   "execution_count": null,
   "metadata": {},
   "outputs": [],
   "source": [
    "# 090\n",
    "\n",
    "count = 0\n",
    "num_arr = array('i', [])\n",
    "\n",
    "while count < 5:\n",
    "    number = int(input(\"Enter a number: \"))\n",
    "    if number >= 10 and number <= 20:\n",
    "        num_arr.append(number)\n",
    "        count += 1\n",
    "    else:\n",
    "        print(\"Outside the range.\")\n",
    "print(\"Thank you.\")\n",
    "\n",
    "for number in num_arr:\n",
    "    print(number)"
   ]
  },
  {
   "cell_type": "code",
   "execution_count": null,
   "metadata": {},
   "outputs": [],
   "source": [
    "# 091\n",
    "\n",
    "num_arr = array('i', [1, 2, 4, 2, 6])\n",
    "print(num_arr)\n",
    "\n",
    "number = int(input(\"Enter a number: \"))\n",
    "print(f\"{number} appears {num_arr.count(number)} times\")"
   ]
  },
  {
   "cell_type": "code",
   "execution_count": null,
   "metadata": {},
   "outputs": [],
   "source": [
    "# 092\n",
    "\n",
    "import random\n",
    "\n",
    "num_arr1 = array('i', [3, 2, 6])\n",
    "num_arr2 = array('i', [])\n",
    "\n",
    "for i in range(5):\n",
    "    num_arr2.append(random.randint(1, 100))\n",
    "    \n",
    "num_arr1.extend(num_arr2)\n",
    "num_arr1 = sorted(num_arr1)\n",
    "\n",
    "for number in num_arr1:\n",
    "    print(number)"
   ]
  },
  {
   "cell_type": "code",
   "execution_count": null,
   "metadata": {},
   "outputs": [],
   "source": [
    "# 093\n",
    "\n",
    "num_array = array('i', [])\n",
    "\n",
    "for i in range(5):\n",
    "    number = int(input(\"Enter a number: \"))\n",
    "    num_array.append(number)\n",
    "\n",
    "num_array = sorted(num_array)\n",
    "\n",
    "for number in num_array:\n",
    "    print(number)\n",
    "    \n",
    "getRid = int(input(\"Which number to remove?\\n\"))\n",
    "num_array.remove(getRid)\n",
    "print(num_array)"
   ]
  },
  {
   "cell_type": "code",
   "execution_count": 5,
   "metadata": {},
   "outputs": [
    {
     "name": "stdout",
     "output_type": "stream",
     "text": [
      "array('i', [3, 4, 5, 6, 7])\n"
     ]
    },
    {
     "name": "stdin",
     "output_type": "stream",
     "text": [
      "Enter a number:  4\n"
     ]
    },
    {
     "name": "stdout",
     "output_type": "stream",
     "text": [
      "1\n"
     ]
    }
   ],
   "source": [
    "# 094\n",
    "from array import *\n",
    "\n",
    "num_arr = array('i', [3, 4, 5, 6, 7])\n",
    "print(num_arr)\n",
    "\n",
    "while True:\n",
    "    try:\n",
    "        num = int(input(\"Enter a number: \"))\n",
    "        print(num_arr.index(num))\n",
    "        break\n",
    "    except ValueError:\n",
    "        continue"
   ]
  },
  {
   "cell_type": "code",
   "execution_count": 7,
   "metadata": {},
   "outputs": [
    {
     "name": "stdin",
     "output_type": "stream",
     "text": [
      "Enter a number between 2 and 5:  1\n"
     ]
    },
    {
     "name": "stdout",
     "output_type": "stream",
     "text": [
      "Error: Number is outside the appropriate range!!!\n"
     ]
    },
    {
     "name": "stdin",
     "output_type": "stream",
     "text": [
      "Enter a number between 2 and 5:  67\n"
     ]
    },
    {
     "name": "stdout",
     "output_type": "stream",
     "text": [
      "Error: Number is outside the appropriate range!!!\n"
     ]
    },
    {
     "name": "stdin",
     "output_type": "stream",
     "text": [
      "Enter a number between 2 and 5:  4\n"
     ]
    },
    {
     "name": "stdout",
     "output_type": "stream",
     "text": [
      "12.25\n",
      "8.25\n",
      "20.5\n",
      "14.75\n",
      "24.0\n"
     ]
    }
   ],
   "source": [
    "# 095\n",
    "\n",
    "import random\n",
    "\n",
    "num_arr = array('i', [])\n",
    "for i in range(5):\n",
    "    num_arr.append(random.randint(10, 100))\n",
    "    \n",
    "while True:\n",
    "    num = int(input(\"Enter a number between 2 and 5: \"))\n",
    "    if num >= 2 and num <= 5:\n",
    "        break\n",
    "    else:\n",
    "        print(\"Error: Number is outside the appropriate range!!!\")\n",
    "        \n",
    "for number in num_arr:\n",
    "    print(round(number / num, 2))"
   ]
  },
  {
   "cell_type": "code",
   "execution_count": null,
   "metadata": {},
   "outputs": [],
   "source": []
  }
 ],
 "metadata": {
  "kernelspec": {
   "display_name": "Python 3",
   "language": "python",
   "name": "python3"
  },
  "language_info": {
   "codemirror_mode": {
    "name": "ipython",
    "version": 3
   },
   "file_extension": ".py",
   "mimetype": "text/x-python",
   "name": "python",
   "nbconvert_exporter": "python",
   "pygments_lexer": "ipython3",
   "version": "3.6.9"
  }
 },
 "nbformat": 4,
 "nbformat_minor": 4
}
