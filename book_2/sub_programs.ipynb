{
 "cells": [
  {
   "cell_type": "code",
   "execution_count": 4,
   "metadata": {},
   "outputs": [
    {
     "name": "stdin",
     "output_type": "stream",
     "text": [
      "Enter a numnber:  5\n"
     ]
    },
    {
     "name": "stdout",
     "output_type": "stream",
     "text": [
      "1\n",
      "2\n",
      "3\n",
      "4\n",
      "5\n"
     ]
    }
   ],
   "source": [
    "# 118\n",
    "# This program is to build a simple counter using functions in python.\n",
    "\n",
    "# Getting the maximum value of the function.\n",
    "def getNum():\n",
    "    num = int(input(\"Enter a numnber: \"))\n",
    "    return num\n",
    "    \n",
    "# Creating a function to count from 1 to num.\n",
    "def counting(num):\n",
    "    for i in range(1,num+1):\n",
    "        print(i)\n",
    "        \n",
    "# main function to run test the code \n",
    "def main():\n",
    "    num = getNum()\n",
    "    counting(num)\n",
    "    \n",
    "# calling the main function.\n",
    "main()"
   ]
  },
  {
   "cell_type": "code",
   "execution_count": 7,
   "metadata": {},
   "outputs": [
    {
     "name": "stdin",
     "output_type": "stream",
     "text": [
      "Enter the higher bound:  10\n",
      "Enter the lower bound:  1\n"
     ]
    },
    {
     "name": "stdout",
     "output_type": "stream",
     "text": [
      "I am thinking of a number ...\n"
     ]
    },
    {
     "name": "stdin",
     "output_type": "stream",
     "text": [
      " 5\n"
     ]
    },
    {
     "name": "stdout",
     "output_type": "stream",
     "text": [
      "Too low\n",
      "I am thinking of a number ...\n"
     ]
    },
    {
     "name": "stdin",
     "output_type": "stream",
     "text": [
      " 7\n"
     ]
    },
    {
     "name": "stdout",
     "output_type": "stream",
     "text": [
      "Too low\n",
      "I am thinking of a number ...\n"
     ]
    },
    {
     "name": "stdin",
     "output_type": "stream",
     "text": [
      " 9\n"
     ]
    },
    {
     "name": "stdout",
     "output_type": "stream",
     "text": [
      "Too high\n",
      "I am thinking of a number ...\n"
     ]
    },
    {
     "name": "stdin",
     "output_type": "stream",
     "text": [
      " 8\n"
     ]
    },
    {
     "name": "stdout",
     "output_type": "stream",
     "text": [
      "Correct, you win\n"
     ]
    }
   ],
   "source": [
    "# 119\n",
    "# Guessing Game.\n",
    "\n",
    "# Getting the random number in this function.\n",
    "def get_number():\n",
    "    h_value = int(input(\"Enter the higher bound: \"))\n",
    "    l_value = int(input(\"Enter the lower bound: \"))\n",
    "    \n",
    "    from random import randint\n",
    "    comp_num = randint(l_value, h_value)\n",
    "    return comp_num\n",
    "\n",
    "# Getting the user input.\n",
    "def get_input():\n",
    "    print('I am thinking of a number ...')\n",
    "    num = int(input())\n",
    "    return num \n",
    "\n",
    "# Comparing the user input to the random number and giveing the appropriate\n",
    "# response.\n",
    "def check_value(choice, comp_num):\n",
    "    while True:\n",
    "        if choice == comp_num:\n",
    "            print(\"Correct, you win\")\n",
    "            break\n",
    "        elif choice < comp_num:\n",
    "            print(\"Too low\")\n",
    "        elif choice > comp_num:\n",
    "            print(\"Too high\")\n",
    "        choice = get_input()\n",
    "\n",
    "# main fucntion, also function which starts the game.\n",
    "def main():\n",
    "    comp_num = get_number()\n",
    "    choice = get_input()\n",
    "    check_value(choice, comp_num)\n",
    "    \n",
    "# calling the main function.\n",
    "main()"
   ]
  },
  {
   "cell_type": "code",
   "execution_count": 14,
   "metadata": {},
   "outputs": [
    {
     "name": "stdout",
     "output_type": "stream",
     "text": [
      "1) Addition\n",
      "2) Subtraction\n",
      "Enter 1 or 2\n"
     ]
    },
    {
     "name": "stdin",
     "output_type": "stream",
     "text": [
      "Enter your choice 3\n"
     ]
    },
    {
     "name": "stdout",
     "output_type": "stream",
     "text": [
      "Error: You have entered an incorrect choice.\n"
     ]
    }
   ],
   "source": [
    "# 120\n",
    "# Simple addition and subtraction quiz using functions in python.\n",
    "\n",
    "# Displaying the menu.\n",
    "def display_menu():\n",
    "    print(\"1) Addition\")\n",
    "    print(\"2) Subtraction\")\n",
    "    print(\"Enter 1 or 2\")\n",
    "    \n",
    "# Getting the choice from the user.\n",
    "def get_choice():\n",
    "    display_menu()\n",
    "    choice = int(input(\"Enter your choice\"))\n",
    "    \n",
    "    if choice == 1:\n",
    "        return True\n",
    "    elif choice == 2:\n",
    "        return False\n",
    "    raise ValueError(\"Invalid choice entered!!!\")\n",
    "    \n",
    "# Implementing the addition quiz block.\n",
    "def adding():\n",
    "    from random import randint\n",
    "    \n",
    "    num1 = randint(5, 20)\n",
    "    num2 = randint(5, 20)\n",
    "    result = num1 + num2 \n",
    "    \n",
    "    print(f\"{num1} + {num2} = ____\")\n",
    "    answer = int(input(\"Enter your answer: \"))\n",
    "    return answer, result\n",
    "\n",
    "# Implementing the subtraction quiz block.\n",
    "def subtracting():\n",
    "    from random import randint\n",
    "    \n",
    "    num1 = randint(25, 50)\n",
    "    num2 = randint(1, 25)\n",
    "    result = num1 - num2\n",
    "    \n",
    "    print(f\"{num1} - {num2} = _____\")\n",
    "    answer = int(input(\"Enter your answer: \"))\n",
    "    return answer, result\n",
    "\n",
    "# Checking if the answer given by the user is correct.\n",
    "def check_answer(answer, result):\n",
    "    if answer == result:\n",
    "        print(\"Correct\")\n",
    "    else:\n",
    "        print(\"Incorrect\")\n",
    "        \n",
    "# main function to run and test the program.\n",
    "def main():\n",
    "    try:\n",
    "        if get_choice():\n",
    "            ans, res = adding()\n",
    "        else:\n",
    "            ans, res = subtracting()\n",
    "            \n",
    "        check_answer(ans, res)\n",
    "    except ValueError:\n",
    "        print(\"Error: You have entered an incorrect choice.\")\n",
    "\n",
    "# calling the main function.\n",
    "main()"
   ]
  },
  {
   "cell_type": "code",
   "execution_count": null,
   "metadata": {},
   "outputs": [],
   "source": []
  }
 ],
 "metadata": {
  "kernelspec": {
   "display_name": "Python 3",
   "language": "python",
   "name": "python3"
  },
  "language_info": {
   "codemirror_mode": {
    "name": "ipython",
    "version": 3
   },
   "file_extension": ".py",
   "mimetype": "text/x-python",
   "name": "python",
   "nbconvert_exporter": "python",
   "pygments_lexer": "ipython3",
   "version": "3.6.9"
  }
 },
 "nbformat": 4,
 "nbformat_minor": 4
}
