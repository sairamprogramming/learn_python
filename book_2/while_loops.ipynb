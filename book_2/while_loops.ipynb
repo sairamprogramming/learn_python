{
 "cells": [
  {
   "cell_type": "code",
   "execution_count": 1,
   "metadata": {},
   "outputs": [
    {
     "name": "stdin",
     "output_type": "stream",
     "text": [
      "Enter a number:  12\n"
     ]
    },
    {
     "name": "stdout",
     "output_type": "stream",
     "text": [
      "The total is 12\n"
     ]
    },
    {
     "name": "stdin",
     "output_type": "stream",
     "text": [
      "Enter a number:  34\n"
     ]
    },
    {
     "name": "stdout",
     "output_type": "stream",
     "text": [
      "The total is 46\n"
     ]
    },
    {
     "name": "stdin",
     "output_type": "stream",
     "text": [
      "Enter a number:  6\n"
     ]
    },
    {
     "name": "stdout",
     "output_type": "stream",
     "text": [
      "The total is 52\n"
     ]
    }
   ],
   "source": [
    "# 045\n",
    "\n",
    "total = 0\n",
    "\n",
    "while total <= 50:\n",
    "    num = int(input(\"Enter a number: \"))\n",
    "    total += num\n",
    "    print(f\"The total is {total}\")"
   ]
  },
  {
   "cell_type": "code",
   "execution_count": 3,
   "metadata": {},
   "outputs": [
    {
     "name": "stdin",
     "output_type": "stream",
     "text": [
      "Enter a number:  2\n",
      "Enter a number:  4\n",
      "Enter a number:  2\n",
      "Enter a number:  1\n",
      "Enter a number:  6\n"
     ]
    },
    {
     "name": "stdout",
     "output_type": "stream",
     "text": [
      "The last number you entered was a 6\n"
     ]
    }
   ],
   "source": [
    "# 046\n",
    "\n",
    "num = int(input(\"Enter a number: \"))\n",
    "\n",
    "while num < 5:\n",
    "    num  = int(input(\"Enter a number: \"))\n",
    "    \n",
    "print(f\"The last number you entered was a {num}\")"
   ]
  },
  {
   "cell_type": "code",
   "execution_count": 1,
   "metadata": {},
   "outputs": [
    {
     "name": "stdin",
     "output_type": "stream",
     "text": [
      "Enter a number:  21\n",
      "Enter another number:  21\n",
      "Do you want to add another number (y/n):  y\n",
      "Enter another number:  23\n",
      "Do you want to add another number (y/n):  n\n"
     ]
    },
    {
     "name": "stdout",
     "output_type": "stream",
     "text": [
      "Total: 65\n"
     ]
    }
   ],
   "source": [
    "# 047\n",
    "\n",
    "total = 0\n",
    "\n",
    "num1 = int(input(\"Enter a number: \"))\n",
    "num2 = int(input(\"Enter another number: \"))\n",
    "total = num1 + num2\n",
    "\n",
    "while input(\"Do you want to add another number (y/n): \").lower() == 'y':\n",
    "    total += int(input(\"Enter another number: \"))\n",
    "    \n",
    "print(\"Total: {}\".format(total))"
   ]
  },
  {
   "cell_type": "code",
   "execution_count": 2,
   "metadata": {},
   "outputs": [
    {
     "name": "stdin",
     "output_type": "stream",
     "text": [
      "Who do you want to invite:  sai\n"
     ]
    },
    {
     "name": "stdout",
     "output_type": "stream",
     "text": [
      "sai has now been invited.\n"
     ]
    },
    {
     "name": "stdin",
     "output_type": "stream",
     "text": [
      "Do you want to invite someone else (y/n):  y\n",
      "Who do you want to invite:  ram\n"
     ]
    },
    {
     "name": "stdout",
     "output_type": "stream",
     "text": [
      "ram has now been invited.\n"
     ]
    },
    {
     "name": "stdin",
     "output_type": "stream",
     "text": [
      "Do you want to invite someone else (y/n):  n\n"
     ]
    },
    {
     "name": "stdout",
     "output_type": "stream",
     "text": [
      "Total number of people invited is 2\n"
     ]
    }
   ],
   "source": [
    "# 048\n",
    "\n",
    "invite_count = 0\n",
    "\n",
    "name = input(\"Who do you want to invite: \")\n",
    "print(f\"{name} has now been invited.\")\n",
    "invite_count += 1\n",
    "\n",
    "while input(\"Do you want to invite someone else (y/n): \").lower() == 'y':\n",
    "    name = input(\"Who do you want to invite: \")\n",
    "    print(f\"{name} has now been invited.\")\n",
    "    invite_count += 1\n",
    "    \n",
    "print(\"Total number of people invited is {}\".format(invite_count))"
   ]
  },
  {
   "cell_type": "code",
   "execution_count": 7,
   "metadata": {},
   "outputs": [
    {
     "name": "stdin",
     "output_type": "stream",
     "text": [
      "Enter a number:  21\n"
     ]
    },
    {
     "name": "stdout",
     "output_type": "stream",
     "text": [
      "Too Low\n"
     ]
    },
    {
     "name": "stdin",
     "output_type": "stream",
     "text": [
      "Enter another number:  55\n"
     ]
    },
    {
     "name": "stdout",
     "output_type": "stream",
     "text": [
      "Too high\n"
     ]
    },
    {
     "name": "stdin",
     "output_type": "stream",
     "text": [
      "Enter another number:  50\n"
     ]
    },
    {
     "name": "stdout",
     "output_type": "stream",
     "text": [
      "Well done, you took 2 attempts.\n"
     ]
    }
   ],
   "source": [
    "# 049\n",
    "\n",
    "attempts = 0\n",
    "compnum = 50\n",
    "num = int(input(\"Enter a number: \"))\n",
    "attempts += 1\n",
    "\n",
    "while num != compnum:\n",
    "    if num > compnum:\n",
    "        print(\"Too high\")\n",
    "    elif num < compnum:\n",
    "        print(\"Too Low\")\n",
    "        \n",
    "    num = int(input(\"Enter another number: \"))\n",
    "    attempts += 1\n",
    "    \n",
    "print(f\"Well done, you took {attempts - 1} attempts.\")    "
   ]
  },
  {
   "cell_type": "code",
   "execution_count": 8,
   "metadata": {},
   "outputs": [
    {
     "name": "stdin",
     "output_type": "stream",
     "text": [
      "Enter a number between 10 and 20:  3\n"
     ]
    },
    {
     "name": "stdout",
     "output_type": "stream",
     "text": [
      "Too low\n"
     ]
    },
    {
     "name": "stdin",
     "output_type": "stream",
     "text": [
      "Enter a number between 10 and 20:  45\n"
     ]
    },
    {
     "name": "stdout",
     "output_type": "stream",
     "text": [
      "Too high\n"
     ]
    },
    {
     "name": "stdin",
     "output_type": "stream",
     "text": [
      "Enter a number between 10 and 20:  13\n"
     ]
    },
    {
     "name": "stdout",
     "output_type": "stream",
     "text": [
      "Thank you\n"
     ]
    }
   ],
   "source": [
    "# 050\n",
    "\n",
    "num = int(input(\"Enter a number between 10 and 20: \"))\n",
    "\n",
    "while num < 10 or num > 20:\n",
    "    if num < 10:\n",
    "        print(\"Too low\")\n",
    "    elif num > 20:\n",
    "        print(\"Too high\")\n",
    "    num = int(input(\"Enter a number between 10 and 20: \"))\n",
    "\n",
    "print(\"Thank you\")"
   ]
  },
  {
   "cell_type": "code",
   "execution_count": 9,
   "metadata": {},
   "outputs": [
    {
     "name": "stdout",
     "output_type": "stream",
     "text": [
      "There are 10 green bottles hangling on the wall.\n",
      "10 green bottles hanging on the wall.\n",
      "And if 1 green bottle should accidentally fall,\n"
     ]
    },
    {
     "name": "stdin",
     "output_type": "stream",
     "text": [
      "How many green bottles will be hanging on the wall? 9\n"
     ]
    },
    {
     "name": "stdout",
     "output_type": "stream",
     "text": [
      "There will be 9 green bottles hanging on the wall.\n",
      "There are 9 green bottles hangling on the wall.\n",
      "9 green bottles hanging on the wall.\n",
      "And if 1 green bottle should accidentally fall,\n"
     ]
    },
    {
     "name": "stdin",
     "output_type": "stream",
     "text": [
      "How many green bottles will be hanging on the wall? 8\n"
     ]
    },
    {
     "name": "stdout",
     "output_type": "stream",
     "text": [
      "There will be 8 green bottles hanging on the wall.\n",
      "There are 8 green bottles hangling on the wall.\n",
      "8 green bottles hanging on the wall.\n",
      "And if 1 green bottle should accidentally fall,\n"
     ]
    },
    {
     "name": "stdin",
     "output_type": "stream",
     "text": [
      "How many green bottles will be hanging on the wall? 7\n"
     ]
    },
    {
     "name": "stdout",
     "output_type": "stream",
     "text": [
      "There will be 7 green bottles hanging on the wall.\n",
      "There are 7 green bottles hangling on the wall.\n",
      "7 green bottles hanging on the wall.\n",
      "And if 1 green bottle should accidentally fall,\n"
     ]
    },
    {
     "name": "stdin",
     "output_type": "stream",
     "text": [
      "How many green bottles will be hanging on the wall? 6\n"
     ]
    },
    {
     "name": "stdout",
     "output_type": "stream",
     "text": [
      "There will be 6 green bottles hanging on the wall.\n",
      "There are 6 green bottles hangling on the wall.\n",
      "6 green bottles hanging on the wall.\n",
      "And if 1 green bottle should accidentally fall,\n"
     ]
    },
    {
     "name": "stdin",
     "output_type": "stream",
     "text": [
      "How many green bottles will be hanging on the wall? 5\n"
     ]
    },
    {
     "name": "stdout",
     "output_type": "stream",
     "text": [
      "There will be 5 green bottles hanging on the wall.\n",
      "There are 5 green bottles hangling on the wall.\n",
      "5 green bottles hanging on the wall.\n",
      "And if 1 green bottle should accidentally fall,\n"
     ]
    },
    {
     "name": "stdin",
     "output_type": "stream",
     "text": [
      "How many green bottles will be hanging on the wall? 4\n"
     ]
    },
    {
     "name": "stdout",
     "output_type": "stream",
     "text": [
      "There will be 4 green bottles hanging on the wall.\n",
      "There are 4 green bottles hangling on the wall.\n",
      "4 green bottles hanging on the wall.\n",
      "And if 1 green bottle should accidentally fall,\n"
     ]
    },
    {
     "name": "stdin",
     "output_type": "stream",
     "text": [
      "How many green bottles will be hanging on the wall? 3\n"
     ]
    },
    {
     "name": "stdout",
     "output_type": "stream",
     "text": [
      "There will be 3 green bottles hanging on the wall.\n",
      "There are 3 green bottles hangling on the wall.\n",
      "3 green bottles hanging on the wall.\n",
      "And if 1 green bottle should accidentally fall,\n"
     ]
    },
    {
     "name": "stdin",
     "output_type": "stream",
     "text": [
      "How many green bottles will be hanging on the wall? 2\n"
     ]
    },
    {
     "name": "stdout",
     "output_type": "stream",
     "text": [
      "There will be 2 green bottles hanging on the wall.\n",
      "There are 2 green bottles hangling on the wall.\n",
      "2 green bottles hanging on the wall.\n",
      "And if 1 green bottle should accidentally fall,\n"
     ]
    },
    {
     "name": "stdin",
     "output_type": "stream",
     "text": [
      "How many green bottles will be hanging on the wall? 1\n"
     ]
    },
    {
     "name": "stdout",
     "output_type": "stream",
     "text": [
      "There will be 1 green bottles hanging on the wall.\n",
      "There are 1 green bottles hangling on the wall.\n",
      "1 green bottles hanging on the wall.\n",
      "And if 1 green bottle should accidentally fall,\n"
     ]
    },
    {
     "name": "stdin",
     "output_type": "stream",
     "text": [
      "How many green bottles will be hanging on the wall? 0\n"
     ]
    },
    {
     "name": "stdout",
     "output_type": "stream",
     "text": [
      "There will be 0 green bottles hanging on the wall.\n",
      "There are no more green bottles hanging on the wall.\n"
     ]
    }
   ],
   "source": [
    "num = 10\n",
    "while num > 0:\n",
    "    print(\"There are\", num, \"green bottles hangling on the wall.\")\n",
    "    print(num, \"green bottles hanging on the wall.\")\n",
    "    print(\"And if 1 green bottle should accidentally fall,\")\n",
    "    num = num - 1\n",
    "    answer = int(input(\"How many green bottles will be hanging on the wall?\"))\n",
    "    if answer == num:\n",
    "        print(\"There will be\", num, \"green bottles hanging on the wall.\")\n",
    "    else:\n",
    "        while answer != num:\n",
    "            answer = int(input(\"No, try again: \"))\n",
    "\n",
    "print(\"There are no more green bottles hanging on the wall.\")"
   ]
  },
  {
   "cell_type": "code",
   "execution_count": null,
   "metadata": {},
   "outputs": [],
   "source": []
  }
 ],
 "metadata": {
  "kernelspec": {
   "display_name": "Python 3",
   "language": "python",
   "name": "python3"
  },
  "language_info": {
   "codemirror_mode": {
    "name": "ipython",
    "version": 3
   },
   "file_extension": ".py",
   "mimetype": "text/x-python",
   "name": "python",
   "nbconvert_exporter": "python",
   "pygments_lexer": "ipython3",
   "version": "3.6.9"
  }
 },
 "nbformat": 4,
 "nbformat_minor": 4
}
