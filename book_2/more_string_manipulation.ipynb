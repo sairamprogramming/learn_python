{
 "cells": [
  {
   "cell_type": "code",
   "execution_count": 1,
   "metadata": {},
   "outputs": [
    {
     "name": "stdin",
     "output_type": "stream",
     "text": [
      "Enter your first name:  sai\n"
     ]
    },
    {
     "name": "stdout",
     "output_type": "stream",
     "text": [
      "3\n"
     ]
    },
    {
     "name": "stdin",
     "output_type": "stream",
     "text": [
      "Enter your surname:  ram\n"
     ]
    },
    {
     "name": "stdout",
     "output_type": "stream",
     "text": [
      "3\n",
      "sai ram\n",
      "7\n"
     ]
    }
   ],
   "source": [
    "# 080\n",
    "\n",
    "first_name = input(\"Enter your first name: \")\n",
    "print(len(first_name))\n",
    "\n",
    "surname = input(\"Enter your surname: \")\n",
    "print(len(surname))\n",
    "\n",
    "name = first_name + ' ' + surname\n",
    "print(name)\n",
    "print(len(name))"
   ]
  },
  {
   "cell_type": "code",
   "execution_count": 2,
   "metadata": {},
   "outputs": [
    {
     "name": "stdin",
     "output_type": "stream",
     "text": [
      "Enter your favourite school subject:  Spanish\n"
     ]
    },
    {
     "name": "stdout",
     "output_type": "stream",
     "text": [
      "S-p-a-n-i-s-h-\n"
     ]
    }
   ],
   "source": [
    "# 081\n",
    "\n",
    "subject = input(\"Enter your favourite school subject: \")\n",
    "for char in subject:\n",
    "    print(char+'-', end='')\n",
    "print()"
   ]
  },
  {
   "cell_type": "code",
   "execution_count": 3,
   "metadata": {},
   "outputs": [
    {
     "name": "stdout",
     "output_type": "stream",
     "text": [
      "Once upon a time\n"
     ]
    },
    {
     "name": "stdin",
     "output_type": "stream",
     "text": [
      "Enter the start index:  3\n",
      "Enter the end index:  9\n"
     ]
    },
    {
     "name": "stdout",
     "output_type": "stream",
     "text": [
      "e upon\n"
     ]
    }
   ],
   "source": [
    "# 082\n",
    "\n",
    "given_str = \"Once upon a time\"\n",
    "print(given_str)\n",
    "start_index = int(input(\"Enter the start index: \"))\n",
    "end_index = int(input(\"Enter the end index: \"))\n",
    "print(given_str[start_index: end_index])"
   ]
  },
  {
   "cell_type": "code",
   "execution_count": 4,
   "metadata": {},
   "outputs": [
    {
     "name": "stdin",
     "output_type": "stream",
     "text": [
      "Enter a word in uppercase:  sai\n",
      "Enter a word in uppercase:  Ram\n"
     ]
    },
    {
     "name": "stdout",
     "output_type": "stream",
     "text": [
      "Ram\n"
     ]
    }
   ],
   "source": [
    "# 083\n",
    "\n",
    "word = input(\"Enter a word in uppercase: \")\n",
    "\n",
    "while word.islower():\n",
    "    word = input(\"Enter a word in uppercase: \")\n",
    "\n",
    "print(word)"
   ]
  },
  {
   "cell_type": "code",
   "execution_count": 5,
   "metadata": {},
   "outputs": [
    {
     "name": "stdin",
     "output_type": "stream",
     "text": [
      "Enter your postcode:  sairam\n"
     ]
    },
    {
     "name": "stdout",
     "output_type": "stream",
     "text": [
      "SA\n"
     ]
    }
   ],
   "source": [
    "# 084\n",
    "\n",
    "postcode = input(\"Enter your postcode: \")\n",
    "print(postcode[:2].upper())"
   ]
  },
  {
   "cell_type": "code",
   "execution_count": 6,
   "metadata": {},
   "outputs": [
    {
     "name": "stdin",
     "output_type": "stream",
     "text": [
      "Enter your name:  sairam\n"
     ]
    },
    {
     "name": "stdout",
     "output_type": "stream",
     "text": [
      "sairam has 3 vowels\n"
     ]
    }
   ],
   "source": [
    "# 085\n",
    "\n",
    "vowels = ['a', 'e', 'i', 'o', 'u']\n",
    "\n",
    "name = input(\"Enter your name: \")\n",
    "vowel_count = 0\n",
    "\n",
    "for char in name:\n",
    "    if char in vowels:\n",
    "        vowel_count += 1\n",
    "\n",
    "print(\"{} has {} vowels\".format(name, vowel_count))"
   ]
  },
  {
   "cell_type": "code",
   "execution_count": 9,
   "metadata": {},
   "outputs": [
    {
     "name": "stdin",
     "output_type": "stream",
     "text": [
      "Enter password:  sai\n",
      "Enter password again:  1sai\n"
     ]
    },
    {
     "name": "stdout",
     "output_type": "stream",
     "text": [
      "Incorrect\n"
     ]
    }
   ],
   "source": [
    "# 086\n",
    "\n",
    "pass1 = input(\"Enter password: \")\n",
    "pass2 = input(\"Enter password again: \")\n",
    "\n",
    "if pass1 == pass2:\n",
    "    print(\"Thank you\")\n",
    "elif pass1.lower() == pass2.lower():\n",
    "    print(\"They must be in the same case\")\n",
    "else:\n",
    "    print(\"Incorrect\")"
   ]
  },
  {
   "cell_type": "code",
   "execution_count": 10,
   "metadata": {},
   "outputs": [
    {
     "name": "stdin",
     "output_type": "stream",
     "text": [
      "Enter a string:  Hello\n"
     ]
    },
    {
     "name": "stdout",
     "output_type": "stream",
     "text": [
      "o\n",
      "l\n",
      "l\n",
      "e\n",
      "H\n"
     ]
    }
   ],
   "source": [
    "# 087\n",
    "\n",
    "word = input(\"Enter a string: \")\n",
    "\n",
    "for i in range(len(word) - 1, -1, -1):\n",
    "    print(word[i])"
   ]
  },
  {
   "cell_type": "code",
   "execution_count": null,
   "metadata": {},
   "outputs": [],
   "source": []
  }
 ],
 "metadata": {
  "kernelspec": {
   "display_name": "Python 3",
   "language": "python",
   "name": "python3"
  },
  "language_info": {
   "codemirror_mode": {
    "name": "ipython",
    "version": 3
   },
   "file_extension": ".py",
   "mimetype": "text/x-python",
   "name": "python",
   "nbconvert_exporter": "python",
   "pygments_lexer": "ipython3",
   "version": "3.6.9"
  }
 },
 "nbformat": 4,
 "nbformat_minor": 4
}
