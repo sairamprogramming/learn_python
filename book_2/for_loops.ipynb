{
 "cells": [
  {
   "cell_type": "code",
   "execution_count": 1,
   "metadata": {},
   "outputs": [
    {
     "name": "stdin",
     "output_type": "stream",
     "text": [
      "Enter your name:  sai\n"
     ]
    },
    {
     "name": "stdout",
     "output_type": "stream",
     "text": [
      "sai\n",
      "sai\n",
      "sai\n"
     ]
    }
   ],
   "source": [
    "# 035\n",
    "\n",
    "name = input(\"Enter your name: \")\n",
    "for i in range(3):\n",
    "    print(name)"
   ]
  },
  {
   "cell_type": "code",
   "execution_count": 2,
   "metadata": {},
   "outputs": [
    {
     "name": "stdin",
     "output_type": "stream",
     "text": [
      "Enter your name:  sai\n",
      "Number of times you want to repeat your name:  5\n"
     ]
    },
    {
     "name": "stdout",
     "output_type": "stream",
     "text": [
      "sai\n",
      "sai\n",
      "sai\n",
      "sai\n",
      "sai\n"
     ]
    }
   ],
   "source": [
    "# 036\n",
    "\n",
    "name = input(\"Enter your name: \")\n",
    "num = int(input(\"Number of times you want to repeat your name: \"))\n",
    "for i in range(num):\n",
    "    print(name)"
   ]
  },
  {
   "cell_type": "code",
   "execution_count": 3,
   "metadata": {},
   "outputs": [
    {
     "name": "stdin",
     "output_type": "stream",
     "text": [
      "Enter you name:  sai\n"
     ]
    },
    {
     "name": "stdout",
     "output_type": "stream",
     "text": [
      "s\n",
      "a\n",
      "i\n"
     ]
    }
   ],
   "source": [
    "# 037\n",
    "\n",
    "name = input(\"Enter you name: \")\n",
    "for i in name:\n",
    "    print(i)"
   ]
  },
  {
   "cell_type": "code",
   "execution_count": 4,
   "metadata": {},
   "outputs": [
    {
     "name": "stdin",
     "output_type": "stream",
     "text": [
      "Enter you name:  sai\n",
      "Enter the number of times you want to repeat:  3\n"
     ]
    },
    {
     "name": "stdout",
     "output_type": "stream",
     "text": [
      "s\n",
      "a\n",
      "i\n",
      "s\n",
      "a\n",
      "i\n",
      "s\n",
      "a\n",
      "i\n"
     ]
    }
   ],
   "source": [
    "# 038\n",
    "\n",
    "name = input(\"Enter you name: \")\n",
    "num = int(input(\"Enter the number of times you want to repeat: \"))\n",
    "for i in range(num):\n",
    "    for j in name:\n",
    "        print(j)"
   ]
  },
  {
   "cell_type": "code",
   "execution_count": 9,
   "metadata": {},
   "outputs": [
    {
     "name": "stdin",
     "output_type": "stream",
     "text": [
      "Enter a number between 1 and 12:  12\n"
     ]
    },
    {
     "name": "stdout",
     "output_type": "stream",
     "text": [
      "12 x 1 = 12\n",
      "12 x 2 = 24\n",
      "12 x 3 = 36\n",
      "12 x 4 = 48\n",
      "12 x 5 = 60\n",
      "12 x 6 = 72\n",
      "12 x 7 = 84\n",
      "12 x 8 = 96\n",
      "12 x 9 = 108\n",
      "12 x 10 = 120\n"
     ]
    }
   ],
   "source": [
    "# 039\n",
    "\n",
    "num = int(input(\"Enter a number between 1 and 12: \"))\n",
    "if num >= 1 and num <= 12:\n",
    "    for i in range(1,11):\n",
    "        print(f\"{num} x {i} = {num * i}\")\n",
    "else:\n",
    "    print(\"Please input valid inputs!!!\")"
   ]
  },
  {
   "cell_type": "code",
   "execution_count": 12,
   "metadata": {},
   "outputs": [
    {
     "name": "stdin",
     "output_type": "stream",
     "text": [
      "Enter a number below 50:  45\n"
     ]
    },
    {
     "name": "stdout",
     "output_type": "stream",
     "text": [
      "45\n",
      "46\n",
      "47\n",
      "48\n",
      "49\n",
      "50\n"
     ]
    }
   ],
   "source": [
    "# 040\n",
    "\n",
    "num = int(input(\"Enter a number below 50: \"))\n",
    "if num < 50:\n",
    "    for i in range(num, 51):\n",
    "        print(i)\n",
    "else:\n",
    "    print(\"Please enter valid inputs!!!\")"
   ]
  },
  {
   "cell_type": "code",
   "execution_count": 14,
   "metadata": {},
   "outputs": [
    {
     "name": "stdin",
     "output_type": "stream",
     "text": [
      "Enter your name:  sai\n",
      "Enter number of times you want to repeat:  123\n"
     ]
    },
    {
     "name": "stdout",
     "output_type": "stream",
     "text": [
      "Too high\n",
      "Too high\n",
      "Too high\n"
     ]
    }
   ],
   "source": [
    "# 041\n",
    "\n",
    "name = input(\"Enter your name: \")\n",
    "num = int(input(\"Enter number of times you want to repeat: \"))\n",
    "if num < 10 and num > 0:\n",
    "    for i in range(num):\n",
    "        print(name)\n",
    "else:\n",
    "    for i in range(3):\n",
    "        print(\"Too high\")"
   ]
  },
  {
   "cell_type": "code",
   "execution_count": 15,
   "metadata": {},
   "outputs": [
    {
     "name": "stdin",
     "output_type": "stream",
     "text": [
      "Enter a number:  12\n",
      "Should i include above number (y/n):  y\n",
      "Enter a number:  2\n",
      "Should i include above number (y/n):  n\n",
      "Enter a number:  34\n",
      "Should i include above number (y/n):  n\n",
      "Enter a number:  3\n",
      "Should i include above number (y/n):  y\n",
      "Enter a number:  45\n",
      "Should i include above number (y/n):  n\n"
     ]
    },
    {
     "name": "stdout",
     "output_type": "stream",
     "text": [
      "15\n"
     ]
    }
   ],
   "source": [
    "# 042\n",
    "\n",
    "total = 0\n",
    "for i in range(5):\n",
    "    num = int(input(\"Enter a number: \"))\n",
    "    included = input(\"Should i include above number (y/n): \").lower()\n",
    "    if included == 'y':\n",
    "        total += num\n",
    "print(total)"
   ]
  },
  {
   "cell_type": "code",
   "execution_count": 21,
   "metadata": {},
   "outputs": [
    {
     "name": "stdin",
     "output_type": "stream",
     "text": [
      "Enter choice up/down:  up\n",
      "Enter a number:  5\n"
     ]
    },
    {
     "name": "stdout",
     "output_type": "stream",
     "text": [
      "1\n",
      "2\n",
      "3\n",
      "4\n",
      "5\n"
     ]
    }
   ],
   "source": [
    "# 043\n",
    "\n",
    "choice = input(\"Enter choice up/down: \").lower()\n",
    "\n",
    "if choice == 'up':\n",
    "    num = int(input(\"Enter a number: \"))\n",
    "    if num > 0:\n",
    "        for i in range(1, num + 1):\n",
    "            print(i)\n",
    "elif choice == 'down':\n",
    "    num = int(input(\"Enter a number below 20: \"))\n",
    "    if num < 20:\n",
    "        for i in range(num, 21):\n",
    "            print(i)\n",
    "else:\n",
    "    print(\"I don't understand\")"
   ]
  },
  {
   "cell_type": "code",
   "execution_count": 23,
   "metadata": {},
   "outputs": [
    {
     "name": "stdin",
     "output_type": "stream",
     "text": [
      "Enter number of people invited to the party:  2\n",
      "Enter the name of the person invited:  sai\n"
     ]
    },
    {
     "name": "stdout",
     "output_type": "stream",
     "text": [
      "sai has been invited.\n"
     ]
    },
    {
     "name": "stdin",
     "output_type": "stream",
     "text": [
      "Enter the name of the person invited:  ram\n"
     ]
    },
    {
     "name": "stdout",
     "output_type": "stream",
     "text": [
      "ram has been invited.\n"
     ]
    }
   ],
   "source": [
    "# 044\n",
    "\n",
    "num = int(input(\"Enter number of people invited to the party: \"))\n",
    "if num <= 10 and num > 0:\n",
    "    for i in range(num):\n",
    "        name = input(\"Enter the name of the person invited: \")\n",
    "        print(f\"{name} has been invited.\")\n",
    "else:\n",
    "    print(\"Too many people.\")"
   ]
  }
 ],
 "metadata": {
  "kernelspec": {
   "display_name": "Python 3",
   "language": "python",
   "name": "python3"
  },
  "language_info": {
   "codemirror_mode": {
    "name": "ipython",
    "version": 3
   },
   "file_extension": ".py",
   "mimetype": "text/x-python",
   "name": "python",
   "nbconvert_exporter": "python",
   "pygments_lexer": "ipython3",
   "version": "3.6.9"
  }
 },
 "nbformat": 4,
 "nbformat_minor": 4
}
