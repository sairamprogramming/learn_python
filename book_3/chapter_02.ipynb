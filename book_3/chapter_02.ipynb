{
 "cells": [
  {
   "cell_type": "code",
   "execution_count": 1,
   "metadata": {},
   "outputs": [
    {
     "name": "stdout",
     "output_type": "stream",
     "text": [
      "a = 1\n",
      "b = 1.5\n",
      "c = 231875677\n",
      "d = (2+9j)\n"
     ]
    }
   ],
   "source": [
    "# Number types in python.\n",
    "\n",
    "a,b,c,d = 1,1.5,231875677,2+9j\n",
    "print(\"a =\",a)\n",
    "print(\"b =\",b)\n",
    "print(\"c =\",c)\n",
    "print(\"d =\",d)"
   ]
  },
  {
   "cell_type": "code",
   "execution_count": 2,
   "metadata": {},
   "outputs": [
    {
     "name": "stdout",
     "output_type": "stream",
     "text": [
      "Absolute value of -120: 120\n",
      "Square root of 25: 5.0\n",
      "Ceiling of 12.2: 13\n",
      "Floor of 12.2: 12\n",
      "2 raised to 3: 8\n",
      "Exponential of 3: 20.085536923187668\n",
      "Absolute value of -123 123.0\n",
      "Natural logarithm of 2: 0.6931471805599453\n",
      "Logarithm to the Base 10 of 2: 0.3010299956639812\n",
      "Largest among 10, 4, 2: 10\n",
      "Smallest among 10, 4, 2: 2\n",
      "12.6789 rounded to 2 deciaml places: 12.68\n",
      "Decimal part and integer part of 12.090876 (0.09087599999999973, 12.0)\n"
     ]
    }
   ],
   "source": [
    "# Mathematical functions examples.\n",
    "\n",
    "import math\n",
    "print(\"Absolute value of -120:\", abs(-120))\n",
    "print(\"Square root of 25:\", math.sqrt(25))\n",
    "print(\"Ceiling of 12.2:\", math.ceil(12.2))\n",
    "print(\"Floor of 12.2:\", math.floor(12.2))\n",
    "print(\"2 raised to 3:\", pow(2,3))\n",
    "print(\"Exponential of 3:\", math.exp(3))\n",
    "print(\"Absolute value of -123\", math.fabs(-123))\n",
    "print(\"Natural logarithm of 2:\", math.log(2))\n",
    "print(\"Logarithm to the Base 10 of 2:\", math.log10(2))\n",
    "print(\"Largest among 10, 4, 2:\", max(10, 4, 2))\n",
    "print(\"Smallest among 10, 4, 2:\", min(10, 4, 2))\n",
    "print(\"12.6789 rounded to 2 deciaml places:\", round(12.6789, 2))\n",
    "print(\"Decimal part and integer part of 12.090876\", math.modf(12.090876))"
   ]
  },
  {
   "cell_type": "code",
   "execution_count": 5,
   "metadata": {},
   "outputs": [
    {
     "name": "stdout",
     "output_type": "stream",
     "text": [
      "sin(90): 0.8939966636005579\n",
      "cos(90): -0.4480736161291701\n",
      "tan(90): -1.995200412208242\n",
      "asin(1): 1.5707963267948966\n",
      "acos(1): 0.0\n",
      "atan(1): 0.7853981633974483\n",
      "atan2(3,2): 0.982793723247329\n",
      "Hypotenuse of 3 and 4: 5.0\n",
      "Degrees of 90: 5156.620156177409\n",
      "Radians of 90: 1.5707963267948966\n"
     ]
    }
   ],
   "source": [
    "# Trigonometric Functions examples.\n",
    "\n",
    "import math\n",
    "print(\"sin(90):\", math.sin(90))\n",
    "print(\"cos(90):\", math.cos(90))\n",
    "print(\"tan(90):\", math.tan(90))\n",
    "print(\"asin(1):\", math.asin(1))\n",
    "print(\"acos(1):\", math.acos(1))\n",
    "print(\"atan(1):\", math.atan(1))\n",
    "print(\"atan2(3,2):\", math.atan2(3,2))\n",
    "print(\"Hypotenuse of 3 and 4:\", math.hypot(3, 4))\n",
    "print(\"Degrees of 90:\", math.degrees(90))\n",
    "print(\"Radians of 90:\", math.radians(90))"
   ]
  },
  {
   "cell_type": "code",
   "execution_count": 7,
   "metadata": {},
   "outputs": [
    {
     "name": "stdout",
     "output_type": "stream",
     "text": [
      "choice('abcde'): c\n",
      "shuffle(lst): None\n",
      "[2, 8, 1, 3, 10, 19]\n",
      "random.seed(20): None\n",
      "random(): 0.9056396761745207\n",
      "uniform(): 2.6862541570267027\n",
      "randrange(2, 10, 1): 4\n"
     ]
    }
   ],
   "source": [
    "# Random Number Functions examples.\n",
    "\n",
    "import random\n",
    "s = 'abcde'\n",
    "print(\"choice('abcde'):\", random.choice(s))\n",
    "lst = [10,2,3,1,8,19]\n",
    "print(\"shuffle(lst):\", random.shuffle(lst))\n",
    "print(lst)\n",
    "print(\"random.seed(20):\", random.seed(20))\n",
    "print(\"random():\", random.random())\n",
    "print(\"uniform():\", random.uniform(2, 3))\n",
    "print(\"randrange(2, 10, 1):\", random.randrange(2, 10, 1))"
   ]
  },
  {
   "cell_type": "code",
   "execution_count": 9,
   "metadata": {},
   "outputs": [
    {
     "name": "stdout",
     "output_type": "stream",
     "text": [
      "Welcome to Python Programming\n",
      "W\n",
      "Python\n",
      "Python Programming\n",
      "Welcome to Python ProgrammingWelcome to Python Programming\n",
      "Welcome to Python ProgrammingSession\n"
     ]
    }
   ],
   "source": [
    "# Example of strings.\n",
    "\n",
    "s = \"Welcome to Python Programming\"\n",
    "print(s)  # prints the complete string\n",
    "print(s[0])  # prints only the first character.\n",
    "print(s[11:17])  # print the chracters from 11th to 16th.\n",
    "print(s[11:])  # prints the chracterf from 11th to end of the string.\n",
    "print(s * 2)  # prints the string 2 times.\n",
    "print(s + \"Session\")  # prints concatenated string."
   ]
  },
  {
   "cell_type": "code",
   "execution_count": 11,
   "metadata": {},
   "outputs": [
    {
     "name": "stdout",
     "output_type": "stream",
     "text": [
      "The first letter of apple is a \n",
      "The sum=-12\n",
      "The sum=-12\n",
      "The sum=12\n",
      "10 is the octal equivalent of 8\n",
      "a is the hexadecimal equivalent of 10\n",
      "A is the hexadeciaml equivalent of 10\n",
      "1.098765e+01 is the exponential equivalent of 10.987654\n",
      "1.098765E+01 is the exponential equivalent of 10.987654\n",
      "32.13\n"
     ]
    }
   ],
   "source": [
    "# Demo of String Formatting Operators\n",
    "print(\"The first letter of %s is %c \" % ('apple', 'a'))  # usage of %s and %c.\n",
    "print(\"The sum=%d\" % (-12))  # usage of %d.\n",
    "print(\"The sum=%i\" % (-12))  # usage of %d.\n",
    "print(\"The sum=%u\" % (12))  # usage of %u.\n",
    "print(\"%o is the octal equivalent of %d\" % (8, 8))  # usage of %o.\n",
    "print(\"%x is the hexadecimal equivalent of %d\" % (10, 10))  # usage of %x.\n",
    "print(\"%X is the hexadeciaml equivalent of %d\" % (10, 10))  # usage of %X.\n",
    "print(\"%e is the exponential equivalent of %f\" % (10.98765432, 10.98765432))  # usage of %e and %f.\n",
    "print(\"%E is the exponential equivalent of %f\" % (10.98765432, 10.98765432))  # usage of %E and %f.\n",
    "print(\"%.2f\" % (32.1274))  # usage of %f for printing upto two decimal places."
   ]
  },
  {
   "cell_type": "code",
   "execution_count": 14,
   "metadata": {},
   "outputs": [],
   "source": [
    "# String Formatting Functions\n",
    "s = 'Learning Python is fun!'\n"
   ]
  },
  {
   "cell_type": "code",
   "execution_count": 13,
   "metadata": {},
   "outputs": [
    {
     "name": "stdout",
     "output_type": "stream",
     "text": [
      "Length of Learning Python is fun! is 23\n"
     ]
    }
   ],
   "source": [
    "# len(str)\n",
    "\n",
    "s = 'Learning Python is fun!'\n",
    "print(\"Length of\", s, \"is\", len(s))"
   ]
  },
  {
   "cell_type": "code",
   "execution_count": 15,
   "metadata": {},
   "outputs": [
    {
     "name": "stdout",
     "output_type": "stream",
     "text": [
      "learning python is fun!\n"
     ]
    }
   ],
   "source": [
    "# .lower()\n",
    "\n",
    "print(s.lower())"
   ]
  },
  {
   "cell_type": "code",
   "execution_count": 16,
   "metadata": {},
   "outputs": [
    {
     "name": "stdout",
     "output_type": "stream",
     "text": [
      "LEARNING PYTHON IS FUN!\n"
     ]
    }
   ],
   "source": [
    "# .upper()\n",
    "\n",
    "print(s.upper())"
   ]
  },
  {
   "cell_type": "code",
   "execution_count": 17,
   "metadata": {},
   "outputs": [
    {
     "name": "stdout",
     "output_type": "stream",
     "text": [
      "lEARNING pYTHON IS FUN!\n"
     ]
    }
   ],
   "source": [
    "# .swapcase()\n",
    "\n",
    "print(s.swapcase())"
   ]
  },
  {
   "cell_type": "code",
   "execution_count": 18,
   "metadata": {},
   "outputs": [
    {
     "name": "stdout",
     "output_type": "stream",
     "text": [
      "Learning python is fun!\n"
     ]
    }
   ],
   "source": [
    "# .captialize()\n",
    "\n",
    "print(s.capitalize())"
   ]
  },
  {
   "cell_type": "code",
   "execution_count": 19,
   "metadata": {},
   "outputs": [
    {
     "name": "stdout",
     "output_type": "stream",
     "text": [
      "Learning Python Is Fun!\n"
     ]
    }
   ],
   "source": [
    "# .title()\n",
    "\n",
    "print(s.title())"
   ]
  },
  {
   "cell_type": "code",
   "execution_count": 20,
   "metadata": {},
   "outputs": [
    {
     "name": "stdout",
     "output_type": "stream",
     "text": [
      "learning python is fun      \n",
      "learning python is fun******\n"
     ]
    }
   ],
   "source": [
    "# .lstrip()\n",
    "\n",
    "s1 = \"    learning python is fun      \"\n",
    "s2 = \"****learning python is fun******\"\n",
    "\n",
    "print(s1.lstrip())\n",
    "print(s2.lstrip('*'))"
   ]
  },
  {
   "cell_type": "code",
   "execution_count": 22,
   "metadata": {},
   "outputs": [
    {
     "name": "stdout",
     "output_type": "stream",
     "text": [
      "    learning python is fun\n",
      "****learning python is fun\n"
     ]
    }
   ],
   "source": [
    "# .rstrip()\n",
    "\n",
    "print(s1.rstrip())\n",
    "print(s2.rstrip('*'))"
   ]
  },
  {
   "cell_type": "code",
   "execution_count": 24,
   "metadata": {},
   "outputs": [
    {
     "name": "stdout",
     "output_type": "stream",
     "text": [
      "learning python is fun\n",
      "learning python is fun\n"
     ]
    }
   ],
   "source": [
    "# .strip()\n",
    "\n",
    "print(s1.strip())\n",
    "print(s2.strip('*'))"
   ]
  },
  {
   "cell_type": "code",
   "execution_count": 25,
   "metadata": {},
   "outputs": [
    {
     "name": "stdout",
     "output_type": "stream",
     "text": [
      "y\n"
     ]
    }
   ],
   "source": [
    "# Demo of max(str)\n",
    "\n",
    "print(max(s))"
   ]
  },
  {
   "cell_type": "code",
   "execution_count": 26,
   "metadata": {},
   "outputs": [
    {
     "name": "stdout",
     "output_type": "stream",
     "text": [
      " \n"
     ]
    }
   ],
   "source": [
    "# Demo of min(str)\n",
    "\n",
    "print(min(s))"
   ]
  },
  {
   "cell_type": "code",
   "execution_count": 28,
   "metadata": {},
   "outputs": [
    {
     "name": "stdout",
     "output_type": "stream",
     "text": [
      "Thwas was very new. Thwas was good\n",
      "Thwas was very new. This is good\n"
     ]
    }
   ],
   "source": [
    "# Demo of replace(old, new[, max])\n",
    "s = \"This is very new. This is good\"\n",
    "print(s.replace('is', 'was'))\n",
    "print(s.replace('is', 'was', 2))"
   ]
  },
  {
   "cell_type": "code",
   "execution_count": 31,
   "metadata": {},
   "outputs": [
    {
     "name": "stdout",
     "output_type": "stream",
     "text": [
      "**This is Python Programming**\n",
      "  This is Python Programming  \n"
     ]
    }
   ],
   "source": [
    "# Demo of center(width, fillchar)\n",
    "s = \"This is Python Programming\"\n",
    "print(s.center(30, '*'))\n",
    "print(s.center(30))"
   ]
  },
  {
   "cell_type": "code",
   "execution_count": 32,
   "metadata": {},
   "outputs": [
    {
     "name": "stdout",
     "output_type": "stream",
     "text": [
      "This is Python Programming****\n",
      "This is Python Programming    \n"
     ]
    }
   ],
   "source": [
    "# Demo of ljust(width[, fillchar])\n",
    "print(s.ljust(30, '*'))\n",
    "print(s.ljust(30))"
   ]
  },
  {
   "cell_type": "code",
   "execution_count": 33,
   "metadata": {},
   "outputs": [
    {
     "name": "stdout",
     "output_type": "stream",
     "text": [
      "****This is Python Programming\n",
      "    This is Python Programming\n"
     ]
    }
   ],
   "source": [
    "# Demo of rjust(width[, fillchar])\n",
    "print(s.rjust(30, '*'))\n",
    "print(s.rjust(30))"
   ]
  },
  {
   "cell_type": "code",
   "execution_count": 34,
   "metadata": {},
   "outputs": [
    {
     "name": "stdout",
     "output_type": "stream",
     "text": [
      "0000This is Python Programming\n"
     ]
    }
   ],
   "source": [
    "# Demo of zfill(width)\n",
    "print(s.zfill(30))"
   ]
  },
  {
   "cell_type": "code",
   "execution_count": 35,
   "metadata": {},
   "outputs": [
    {
     "name": "stdout",
     "output_type": "stream",
     "text": [
      "2\n",
      "3\n"
     ]
    }
   ],
   "source": [
    "# Demo of .count(str, beg=0,end=len(string))\n",
    "print(s.count('i',0,10))\n",
    "print(s.count('i',0,25))"
   ]
  },
  {
   "cell_type": "code",
   "execution_count": 36,
   "metadata": {},
   "outputs": [
    {
     "name": "stdout",
     "output_type": "stream",
     "text": [
      "10\n",
      "-1\n"
     ]
    }
   ],
   "source": [
    "# Demo of .find(str,beg=0,end=len(string))\n",
    "print(s.find('thon', 0, 25))\n",
    "print(s.find('thy'))"
   ]
  },
  {
   "cell_type": "code",
   "execution_count": 37,
   "metadata": {},
   "outputs": [
    {
     "name": "stdout",
     "output_type": "stream",
     "text": [
      "10\n",
      "-1\n"
     ]
    }
   ],
   "source": [
    "# Demo of .rfind(str,beg=0,end=len(string))\n",
    "print(s.rfind('thon',0,25))\n",
    "print(s.rfind('thy'))"
   ]
  },
  {
   "cell_type": "code",
   "execution_count": null,
   "metadata": {},
   "outputs": [],
   "source": [
    "# Demo of .index(str,beg=0,end=len(string))\n"
   ]
  }
 ],
 "metadata": {
  "kernelspec": {
   "display_name": "Python 3",
   "language": "python",
   "name": "python3"
  },
  "language_info": {
   "codemirror_mode": {
    "name": "ipython",
    "version": 3
   },
   "file_extension": ".py",
   "mimetype": "text/x-python",
   "name": "python",
   "nbconvert_exporter": "python",
   "pygments_lexer": "ipython3",
   "version": "3.6.9"
  }
 },
 "nbformat": 4,
 "nbformat_minor": 4
}
