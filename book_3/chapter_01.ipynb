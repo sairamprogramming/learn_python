{
 "cells": [
  {
   "cell_type": "code",
   "execution_count": 1,
   "metadata": {},
   "outputs": [
    {
     "name": "stdout",
     "output_type": "stream",
     "text": [
      "Programming in Python!\n"
     ]
    }
   ],
   "source": [
    "# printing to screen\n",
    "\n",
    "print(\"Programming in Python!\")"
   ]
  },
  {
   "cell_type": "code",
   "execution_count": 2,
   "metadata": {},
   "outputs": [
    {
     "name": "stdout",
     "output_type": "stream",
     "text": [
      "['False', 'None', 'True', 'and', 'as', 'assert', 'break', 'class', 'continue', 'def', 'del', 'elif', 'else', 'except', 'finally', 'for', 'from', 'global', 'if', 'import', 'in', 'is', 'lambda', 'nonlocal', 'not', 'or', 'pass', 'raise', 'return', 'try', 'while', 'with', 'yield']\n"
     ]
    }
   ],
   "source": [
    "# showing all reserved keywords.\n",
    "import keyword\n",
    "print(keyword.kwlist)"
   ]
  },
  {
   "cell_type": "code",
   "execution_count": 3,
   "metadata": {},
   "outputs": [
    {
     "name": "stdout",
     "output_type": "stream",
     "text": [
      "100\n",
      "1000.0\n",
      "Sai\n"
     ]
    }
   ],
   "source": [
    "# variables examples\n",
    "a = 100  # An integer assignment.\n",
    "b = 1000.0  # A floating point.\n",
    "name = \"Sai\"  # A string.\n",
    "\n",
    "print(a)\n",
    "print(b)\n",
    "print(name)"
   ]
  },
  {
   "cell_type": "code",
   "execution_count": 5,
   "metadata": {},
   "outputs": [
    {
     "name": "stdout",
     "output_type": "stream",
     "text": [
      "1 1 1\n",
      "1 2 Tom\n"
     ]
    }
   ],
   "source": [
    "# Example of multiple variable assignment\n",
    "\n",
    "a = b = c = 1\n",
    "print(a, b, c)\n",
    "\n",
    "a, b, c = 1, 2, 'Tom'\n",
    "print(a, b, c)"
   ]
  },
  {
   "cell_type": "code",
   "execution_count": 6,
   "metadata": {},
   "outputs": [
    {
     "name": "stdout",
     "output_type": "stream",
     "text": [
      "Hello\n"
     ]
    },
    {
     "data": {
      "text/plain": [
       "'This is a very long sentence\\nand it ends after\\nThree lines'"
      ]
     },
     "execution_count": 6,
     "metadata": {},
     "output_type": "execute_result"
    }
   ],
   "source": [
    "# Example of comments in python.\n",
    "\n",
    "# This is a demo of comment \n",
    "# Display Hello\n",
    "print(\"Hello\")\n",
    "\n",
    "# Using triple quotes to comment.\n",
    "\"\"\"This is a very long sentence\n",
    "and it ends after\n",
    "Three lines\"\"\""
   ]
  },
  {
   "cell_type": "code",
   "execution_count": 9,
   "metadata": {},
   "outputs": [
    {
     "name": "stdout",
     "output_type": "stream",
     "text": [
      "6\n",
      "['Jan', 'Feb', 'Mar', 'Apr', 'May', 'Jun', 'Aug', 'Sep', 'Oct', 'Nov', 'Dec']\n",
      "1 2 3\n"
     ]
    }
   ],
   "source": [
    "# Examples of Multiline Statements.\n",
    "\n",
    "first_item = 1\n",
    "second_item = 2\n",
    "third_item = 3\n",
    "\n",
    "# Multiline statements using '\\' --> line continuation character statements.\n",
    "grand_total = first_item + \\\n",
    "                second_item + \\\n",
    "                third_item\n",
    "\n",
    "print(grand_total)\n",
    "\n",
    "# Statements contained within the [], {}, () brackets do not need to use the line continuation character.\n",
    "months = ['Jan', 'Feb', 'Mar', 'Apr',\n",
    "         'May', 'Jun', 'Aug', 'Sep',\n",
    "         'Oct', 'Nov', 'Dec']\n",
    "print(months)\n",
    "\n",
    "# line continuation with ';'\n",
    "a = 1; b = 2; c = 3\n",
    "print(a, b, c)"
   ]
  },
  {
   "cell_type": "code",
   "execution_count": 10,
   "metadata": {},
   "outputs": [
    {
     "name": "stdout",
     "output_type": "stream",
     "text": [
      "single word\n",
      "This is a short sentence.\n",
      "This is a long paragraph. It consists of\n",
      "several lines and sentences.\n"
     ]
    }
   ],
   "source": [
    "# Examples of different quotes in python.\n",
    "word = 'single word'\n",
    "sentence = \"This is a short sentence.\"\n",
    "paragraph = \"\"\"This is a long paragraph. It consists of\n",
    "several lines and sentences.\"\"\"\n",
    "\n",
    "print(word)\n",
    "print(sentence)\n",
    "print(paragraph)"
   ]
  },
  {
   "cell_type": "code",
   "execution_count": 11,
   "metadata": {},
   "outputs": [
    {
     "name": "stdout",
     "output_type": "stream",
     "text": [
      "Learning Python is fun and I'm enjoying it.\n",
      "The value of a is 2\n",
      "1 2 3 4\n",
      "1+2+3+4\n",
      "1+2+3+4%"
     ]
    }
   ],
   "source": [
    "# Displaying the Output\n",
    "print(\"Learning Python is fun and I'm enjoying it.\")\n",
    "\n",
    "a = 2\n",
    "print(\"The value of a is\", a)\n",
    "\n",
    "# print(*objects, sep=' ', end='\\n', file=sys.stdout, flush=False)\n",
    "print(1,2,3,4)\n",
    "print(1,2,3,4,sep='+')\n",
    "print(1,2,3,4,sep='+',end='%')"
   ]
  },
  {
   "cell_type": "code",
   "execution_count": 14,
   "metadata": {},
   "outputs": [
    {
     "name": "stdin",
     "output_type": "stream",
     "text": [
      "Enter a number:  3\n"
     ]
    },
    {
     "name": "stdout",
     "output_type": "stream",
     "text": [
      "The number is 3\n"
     ]
    },
    {
     "name": "stdin",
     "output_type": "stream",
     "text": [
      "Enter an expression:  5*2\n"
     ]
    },
    {
     "name": "stdout",
     "output_type": "stream",
     "text": [
      "The result is 5*2\n"
     ]
    }
   ],
   "source": [
    "# Reading the input.\n",
    "n = input(\"Enter a number: \")\n",
    "print(\"The number is\", n)\n",
    "\n",
    "n = input(\"Enter an expression: \")\n",
    "print(\"The result is\", n)"
   ]
  },
  {
   "cell_type": "code",
   "execution_count": 15,
   "metadata": {},
   "outputs": [
    {
     "name": "stdout",
     "output_type": "stream",
     "text": [
      "Sum = 15\n",
      "Difference = 5\n",
      "Product = 50\n",
      "Quotient = 2.0\n",
      "Remainder = 1\n",
      "Exponent = 25\n",
      "Floor Division = 2\n"
     ]
    }
   ],
   "source": [
    "# Arithemtic Operators.\n",
    "\n",
    "a, b, c = 10, 5, 2\n",
    "print(\"Sum =\", a + b)\n",
    "print(\"Difference =\", a - b)\n",
    "print(\"Product =\", a * b)\n",
    "print(\"Quotient =\", a / b)\n",
    "print(\"Remainder =\", b % c)\n",
    "print(\"Exponent =\", b ** 2)\n",
    "print(\"Floor Division =\", b // c)"
   ]
  },
  {
   "cell_type": "code",
   "execution_count": 16,
   "metadata": {},
   "outputs": [
    {
     "name": "stdout",
     "output_type": "stream",
     "text": [
      "10 == 5 is False\n",
      "10 != 5 is True\n",
      "10 > 5 is True\n",
      "10 < 5 is False\n",
      "10 >= 5 is True\n",
      "10 <= 5 is False\n"
     ]
    }
   ],
   "source": [
    "# Comparison Operator\n",
    "\n",
    "a,b = 10,5\n",
    "print(f\"{a} == {b} is {a == b}\")\n",
    "print(f\"{a} != {b} is {a != b}\")\n",
    "print(f\"{a} > {b} is {a > b}\")\n",
    "print(f\"{a} < {b} is {a < b}\")\n",
    "print(f\"{a} >= {b} is {a >= b}\")\n",
    "print(f\"{a} <= {b} is {a <= b}\")"
   ]
  },
  {
   "cell_type": "code",
   "execution_count": 17,
   "metadata": {},
   "outputs": [
    {
     "name": "stdout",
     "output_type": "stream",
     "text": [
      "15\n",
      "5\n",
      "15\n",
      "50\n",
      "2.0\n",
      "25\n",
      "2\n"
     ]
    }
   ],
   "source": [
    "# Assignment Operators\n",
    "\n",
    "a,b = 10,5\n",
    "a+=b\n",
    "print(a)\n",
    "\n",
    "a,b = 10,5\n",
    "a-=b\n",
    "print(a)\n",
    "\n",
    "a,b = 10,5\n",
    "a+=b\n",
    "print(a)\n",
    "\n",
    "a,b = 10,5\n",
    "a*=b\n",
    "print(a)\n",
    "\n",
    "a,b = 10,5\n",
    "a/=b\n",
    "print(a)\n",
    "\n",
    "b,c = 5,2\n",
    "b**=c\n",
    "print(b)\n",
    "\n",
    "b,c = 5,2\n",
    "b//=c\n",
    "print(b)"
   ]
  },
  {
   "cell_type": "code",
   "execution_count": 18,
   "metadata": {},
   "outputs": [
    {
     "name": "stdout",
     "output_type": "stream",
     "text": [
      "0\n",
      "62\n",
      "62\n",
      "-61\n",
      "15\n",
      "240\n"
     ]
    }
   ],
   "source": [
    "# Bitwise Operators\n",
    "\n",
    "a,b = 60,2\n",
    "print(a&b)\n",
    "print(a|b)\n",
    "print(a^b)\n",
    "print(~a)\n",
    "print(a>>b)\n",
    "print(a<<b)"
   ]
  },
  {
   "cell_type": "code",
   "execution_count": 19,
   "metadata": {},
   "outputs": [
    {
     "name": "stdout",
     "output_type": "stream",
     "text": [
      "True\n",
      "True\n",
      "False\n"
     ]
    }
   ],
   "source": [
    "# Logical Operators\n",
    "\n",
    "a,b,c,d = 10,5,2,1\n",
    "print((a>b)and(c>d))\n",
    "print((a>b)or(d<c))\n",
    "print(not(a>b))"
   ]
  },
  {
   "cell_type": "code",
   "execution_count": 20,
   "metadata": {},
   "outputs": [
    {
     "name": "stdout",
     "output_type": "stream",
     "text": [
      "True\n",
      "False\n",
      "True\n"
     ]
    }
   ],
   "source": [
    "# Membership Operators\n",
    "\n",
    "s = 'abcde'\n",
    "print('a' in s)\n",
    "print('f' in s)\n",
    "print('f' not in s)"
   ]
  },
  {
   "cell_type": "code",
   "execution_count": 21,
   "metadata": {},
   "outputs": [
    {
     "name": "stdout",
     "output_type": "stream",
     "text": [
      "True\n",
      "False\n",
      "False\n"
     ]
    }
   ],
   "source": [
    "a,b,c = 10,10,5\n",
    "print(a is b)\n",
    "print(a is c)\n",
    "print(a is not b)"
   ]
  },
  {
   "cell_type": "code",
   "execution_count": null,
   "metadata": {},
   "outputs": [],
   "source": []
  }
 ],
 "metadata": {
  "kernelspec": {
   "display_name": "Python 3",
   "language": "python",
   "name": "python3"
  },
  "language_info": {
   "codemirror_mode": {
    "name": "ipython",
    "version": 3
   },
   "file_extension": ".py",
   "mimetype": "text/x-python",
   "name": "python",
   "nbconvert_exporter": "python",
   "pygments_lexer": "ipython3",
   "version": "3.6.9"
  }
 },
 "nbformat": 4,
 "nbformat_minor": 4
}
