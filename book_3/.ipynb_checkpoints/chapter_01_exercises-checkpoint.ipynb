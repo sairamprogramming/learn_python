{
 "cells": [
  {
   "cell_type": "markdown",
   "metadata": {},
   "source": [
    "# Review Questions"
   ]
  },
  {
   "cell_type": "raw",
   "metadata": {},
   "source": [
    "1) Some features of python are as follows\n",
    "\n",
    "a) Simple and easy-to-learn.\n",
    "b) Interpreted and Interactive\n",
    "c) Object-Oriented\n",
    "d) Portable\n",
    "e) Scalable\n",
    "f) Extendable\n",
    "g) Dynamic\n",
    "h) GUI Programming and Database\n",
    "i) Broad Standard Library"
   ]
  },
  {
   "cell_type": "raw",
   "metadata": {},
   "source": [
    "2) Yes, python is a case senstive language."
   ]
  },
  {
   "cell_type": "raw",
   "metadata": {},
   "source": [
    "3) You can run python using the interactive shell.\n",
    "You can also run stand alone python programs."
   ]
  },
  {
   "cell_type": "raw",
   "metadata": {},
   "source": [
    "4) Rules for naming identifers in python.\n",
    "\n",
    "a) Identifers can be a combination of letters (both lowercase and uppercase)\n",
    "or digits (0 to 9) or an underscore (_).\n",
    "b) Reserved keywords cannot be used in an identifer.\n",
    "c) Identifiers cannot begin with a digit.\n",
    "d) Special symbols other than underscore cannot be used.\n",
    "e) Identifers can be of any length."
   ]
  },
  {
   "cell_type": "raw",
   "metadata": {},
   "source": [
    "5) They are two ways you can comment in python.\n",
    "\n",
    "a) Single line comments always start with a hash (#).\n",
    "b) Multi line comments are enclosed within a triple quotes."
   ]
  },
  {
   "cell_type": "raw",
   "metadata": {},
   "source": [
    "6) Multi-line statements are single line statements that are extended to \n",
    "multiple lines."
   ]
  },
  {
   "cell_type": "raw",
   "metadata": {},
   "source": [
    "7) Suite in python is equivalent to block of code in other programming \n",
    "languages."
   ]
  },
  {
   "cell_type": "raw",
   "metadata": {},
   "source": [
    "8) print() statement is used to print to the output.\n",
    "input() statement is used to get input from the user."
   ]
  },
  {
   "cell_type": "raw",
   "metadata": {},
   "source": [
    "9) import keyword is used to import a module to use in our program."
   ]
  },
  {
   "cell_type": "raw",
   "metadata": {},
   "source": [
    "10) // operators is the floor division operator in python."
   ]
  },
  {
   "cell_type": "raw",
   "metadata": {},
   "source": [
    "11) ** operator is the exponent operator in python."
   ]
  },
  {
   "cell_type": "raw",
   "metadata": {},
   "source": [
    "12) is operator is used to check the membership of its operands."
   ]
  },
  {
   "cell_type": "raw",
   "metadata": {},
   "source": [
    "13) not in operator checks if a given value in within a given data structure."
   ]
  },
  {
   "cell_type": "raw",
   "metadata": {},
   "source": [
    "14) The different types of operators in python are as follows\n",
    "\n",
    "a) Arithmetic Operators:\n",
    "Used to perform basic arithmetic\n",
    "\n",
    "b) Comparision Operators;\n",
    "compare the values on either sides of them and decide the \n",
    "relationship among them.\n",
    "\n",
    "c) Assignment Operators:\n",
    "Shorthand for various arithmetic operators.\n",
    "\n",
    "d) Bitwise Operators:\n",
    "works on bits and performs bit by bit operation.\n",
    "\n",
    "e) Logical Operators:\n",
    "Operators for boolean values.\n",
    "\n",
    "f) Membership Operators:\n",
    "Tests for membership in a sequence.\n",
    "\n",
    "g) Identity Operator:\n",
    "Compare the memory location of two operators."
   ]
  },
  {
   "cell_type": "raw",
   "metadata": {},
   "source": [
    "15) Operator Precedence in python is as follows:\n",
    "**,\n",
    "~,+,- (unary plus and minus)\n",
    "*,/,%.//\n",
    "+,-\n",
    ">>,<< (right and left bitwise shift)\n",
    "&\n",
    "^,|\n",
    "<=,<,>,>=\n",
    "==, !=\n",
    "=, %=, /=, //=, -=, +=, *=, **=\n",
    "is, is not\n",
    "in, not in\n",
    "not, or, and"
   ]
  },
  {
   "cell_type": "code",
   "execution_count": null,
   "metadata": {},
   "outputs": [],
   "source": []
  }
 ],
 "metadata": {
  "kernelspec": {
   "display_name": "Python 3",
   "language": "python",
   "name": "python3"
  },
  "language_info": {
   "codemirror_mode": {
    "name": "ipython",
    "version": 3
   },
   "file_extension": ".py",
   "mimetype": "text/x-python",
   "name": "python",
   "nbconvert_exporter": "python",
   "pygments_lexer": "ipython3",
   "version": "3.6.9"
  }
 },
 "nbformat": 4,
 "nbformat_minor": 4
}
