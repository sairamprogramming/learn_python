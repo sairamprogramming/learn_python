{
 "cells": [
  {
   "cell_type": "raw",
   "metadata": {},
   "source": [
    "# 1\n",
    "\n",
    "Escape characters are special characters that are used to represent character that are difficult to \n",
    "represent using standard characters."
   ]
  },
  {
   "cell_type": "raw",
   "metadata": {},
   "source": [
    "# 2\n",
    "\n",
    "\\n is newline character\n",
    "\\t is the tab character"
   ]
  },
  {
   "cell_type": "raw",
   "metadata": {},
   "source": [
    "# 3\n",
    "\n",
    "\\\\"
   ]
  },
  {
   "cell_type": "raw",
   "metadata": {},
   "source": [
    "# 4\n",
    "\n",
    "Beacuse we enclose the entire string with double quotes, so python is not conficted with the start\n",
    "and end of the string."
   ]
  },
  {
   "cell_type": "raw",
   "metadata": {},
   "source": [
    "# 5\n",
    "\n",
    "By using triple quotes."
   ]
  },
  {
   "cell_type": "raw",
   "metadata": {},
   "source": [
    "# 6\n",
    "\n",
    "e\n",
    "Hello\n",
    "Hello\n",
    "lo world!"
   ]
  },
  {
   "cell_type": "raw",
   "metadata": {},
   "source": [
    "# 7\n",
    "\n",
    "HELLO\n",
    "True\n",
    "hello"
   ]
  },
  {
   "cell_type": "raw",
   "metadata": {},
   "source": [
    "# 8\n",
    "\n",
    "['Remember,', 'remember,', 'the', 'fifth', 'of', 'November.']\n",
    "'There-can-be-only-one.'"
   ]
  },
  {
   "cell_type": "raw",
   "metadata": {},
   "source": [
    "# 9\n",
    "\n",
    ".rjust(), .ljust(), .center()"
   ]
  },
  {
   "cell_type": "raw",
   "metadata": {},
   "source": [
    "# 10\n",
    "\n",
    "By using the .strip() method."
   ]
  },
  {
   "cell_type": "markdown",
   "metadata": {},
   "source": [
    "# Practice Project"
   ]
  },
  {
   "cell_type": "code",
   "execution_count": 1,
   "metadata": {},
   "outputs": [],
   "source": [
    "tableData = [['apples', 'oranges', 'cherries', 'banana'],\n",
    "['Alice', 'Bob', 'Carol', 'David'],\n",
    "['dogs', 'cats', 'moose', 'goose']]"
   ]
  },
  {
   "cell_type": "code",
   "execution_count": 2,
   "metadata": {},
   "outputs": [
    {
     "data": {
      "text/plain": [
       "[['apples', 'oranges', 'cherries', 'banana'],\n",
       " ['Alice', 'Bob', 'Carol', 'David'],\n",
       " ['dogs', 'cats', 'moose', 'goose']]"
      ]
     },
     "execution_count": 2,
     "metadata": {},
     "output_type": "execute_result"
    }
   ],
   "source": [
    "tableData"
   ]
  },
  {
   "cell_type": "code",
   "execution_count": null,
   "metadata": {},
   "outputs": [],
   "source": []
  }
 ],
 "metadata": {
  "kernelspec": {
   "display_name": "Python 3",
   "language": "python",
   "name": "python3"
  },
  "language_info": {
   "codemirror_mode": {
    "name": "ipython",
    "version": 3
   },
   "file_extension": ".py",
   "mimetype": "text/x-python",
   "name": "python",
   "nbconvert_exporter": "python",
   "pygments_lexer": "ipython3",
   "version": "3.6.9"
  }
 },
 "nbformat": 4,
 "nbformat_minor": 4
}
