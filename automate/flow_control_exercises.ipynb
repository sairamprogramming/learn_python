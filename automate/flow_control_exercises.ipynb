{
 "cells": [
  {
   "cell_type": "raw",
   "metadata": {},
   "source": [
    "# 1\n",
    "\n",
    "They two boolean values are\n",
    "1) True\n",
    "2) False"
   ]
  },
  {
   "cell_type": "raw",
   "metadata": {},
   "source": [
    "# 2\n",
    "\n",
    "The three boolean operators are \n",
    "1) and\n",
    "2) or\n",
    "3) not"
   ]
  },
  {
   "cell_type": "code",
   "execution_count": 6,
   "metadata": {},
   "outputs": [
    {
     "name": "stdout",
     "output_type": "stream",
     "text": [
      "and operator table:\n",
      "True and True = True\n",
      "True and False = False\n",
      "False and True = False\n",
      "False and False = False\n",
      "\n",
      "or operator table:\n",
      "True or True = True\n",
      "True or False = False\n",
      "False or True = False\n",
      "False or False = False\n",
      "\n",
      "not operator table:\n",
      "not True = False\n",
      "not False = True\n"
     ]
    }
   ],
   "source": [
    "# 3\n",
    "\n",
    "bool_list1 = [True, True, False, False]\n",
    "bool_list2 = [True, False, True, False]\n",
    "\n",
    "print(\"and operator table:\")\n",
    "for i in range(4):\n",
    "    print(f\"{bool_list1[i]} and {bool_list2[i]} = {bool_list1[i] and bool_list2[i]}\")\n",
    "print()\n",
    "print(\"or operator table:\")\n",
    "for i in range(4):\n",
    "    print(f\"{bool_list1[i]} or {bool_list2[i]} = {bool_list1[i] and bool_list2[i]}\")   \n",
    "print()\n",
    "print(\"not operator table:\")\n",
    "for i in range(2):\n",
    "    print(f\"not {bool_list2[i]} = {not bool_list2[i]}\")"
   ]
  },
  {
   "cell_type": "raw",
   "metadata": {},
   "source": [
    "# 4\n",
    "\n",
    "False\n",
    "False\n",
    "True\n",
    "False\n",
    "False\n",
    "True"
   ]
  },
  {
   "cell_type": "raw",
   "metadata": {},
   "source": [
    "# 5\n",
    "\n",
    "The six comparision operators are \n",
    ">, < >=, <=, ==, !="
   ]
  },
  {
   "cell_type": "raw",
   "metadata": {},
   "source": [
    "# 6\n",
    "\n",
    "equal to (==) operator checks for equality of two operands.\n",
    "assignment operator (=) assigns a value to a variable."
   ]
  },
  {
   "cell_type": "raw",
   "metadata": {},
   "source": [
    "# 7\n",
    "\n",
    "A condition is a boolean expression.\n",
    "It is used in flow control statements."
   ]
  },
  {
   "cell_type": "raw",
   "metadata": {},
   "source": [
    "# 8\n",
    "\n",
    "spam = 0  # 1\n",
    "if spam == 10:  # 2\n",
    "    print('eggs')  # 3\n",
    "    if spam > 5:  # 4\n",
    "        print('eggs')  # 5\n",
    "    else:  # 6\n",
    "        print('ham')  # 7\n",
    "    print('spam')   # 8\n",
    "print('spam')  # 9\n",
    "\n",
    "Three code blocks:\n",
    "1) 1, 2, 9\n",
    "2) 2, 4, 6, 8\n",
    "3) 5, 7"
   ]
  },
  {
   "cell_type": "code",
   "execution_count": 11,
   "metadata": {},
   "outputs": [
    {
     "name": "stdin",
     "output_type": "stream",
     "text": [
      "Enter a number:  1\n"
     ]
    },
    {
     "name": "stdout",
     "output_type": "stream",
     "text": [
      "Hello\n"
     ]
    }
   ],
   "source": [
    "# 9\n",
    "\n",
    "spam = int(input(\"Enter a number: \"))\n",
    "\n",
    "if spam == 1:\n",
    "    print(\"Hello\")\n",
    "elif spam == 2:\n",
    "    print('Howdy')\n",
    "else:\n",
    "    print('Greetings!')"
   ]
  },
  {
   "cell_type": "raw",
   "metadata": {},
   "source": [
    "# 10\n",
    "\n",
    "ctrl + c"
   ]
  },
  {
   "cell_type": "raw",
   "metadata": {},
   "source": [
    "# 11\n",
    "\n",
    "break statement exits out of the loop.\n",
    "continue statement moves to the next iteration."
   ]
  },
  {
   "cell_type": "raw",
   "metadata": {},
   "source": [
    "# 12\n",
    "\n",
    "All the three statements are same (or equivalent)."
   ]
  },
  {
   "cell_type": "code",
   "execution_count": 15,
   "metadata": {},
   "outputs": [
    {
     "name": "stdout",
     "output_type": "stream",
     "text": [
      "Using for and range statement.\n",
      "1\n",
      "2\n",
      "3\n",
      "4\n",
      "5\n",
      "6\n",
      "7\n",
      "8\n",
      "9\n",
      "10\n",
      "\n",
      "Using while statement.\n",
      "1\n",
      "2\n",
      "3\n",
      "4\n",
      "5\n",
      "6\n",
      "7\n",
      "8\n",
      "9\n",
      "10\n"
     ]
    }
   ],
   "source": [
    "# 13\n",
    "\n",
    "# printing 1 to 10 using for loop\n",
    "print(\"Using for and range statement.\")\n",
    "for i in range(1, 11):\n",
    "    print(i)\n",
    "    \n",
    "print()\n",
    "\n",
    "# printing 1 to 10 using while loop\n",
    "print('Using while statement.')\n",
    "i = 1\n",
    "while i <= 10:\n",
    "    print(i)\n",
    "    i += 1"
   ]
  },
  {
   "cell_type": "raw",
   "metadata": {},
   "source": [
    "# 14\n",
    "\n",
    "spam.bacon()"
   ]
  },
  {
   "cell_type": "code",
   "execution_count": null,
   "metadata": {},
   "outputs": [],
   "source": []
  }
 ],
 "metadata": {
  "kernelspec": {
   "display_name": "Python 3",
   "language": "python",
   "name": "python3"
  },
  "language_info": {
   "codemirror_mode": {
    "name": "ipython",
    "version": 3
   },
   "file_extension": ".py",
   "mimetype": "text/x-python",
   "name": "python",
   "nbconvert_exporter": "python",
   "pygments_lexer": "ipython3",
   "version": "3.6.9"
  }
 },
 "nbformat": 4,
 "nbformat_minor": 4
}
