{
 "cells": [
  {
   "cell_type": "raw",
   "metadata": {},
   "source": [
    "# 1\n",
    "\n",
    "[]  is a empty list."
   ]
  },
  {
   "cell_type": "raw",
   "metadata": {},
   "source": [
    "# 2\n",
    "\n",
    "spam[2] = 'hello'"
   ]
  },
  {
   "cell_type": "raw",
   "metadata": {},
   "source": [
    "# 3\n",
    "\n",
    "'d'"
   ]
  },
  {
   "cell_type": "raw",
   "metadata": {},
   "source": [
    "# 4\n",
    "\n",
    "'d'"
   ]
  },
  {
   "cell_type": "raw",
   "metadata": {},
   "source": [
    "# 5\n",
    "\n",
    "['a', 'b']"
   ]
  },
  {
   "cell_type": "raw",
   "metadata": {},
   "source": [
    "# 6\n",
    "\n",
    "1"
   ]
  },
  {
   "cell_type": "raw",
   "metadata": {},
   "source": [
    "# 7\n",
    "\n",
    "[3.14, 'cat', 11, 'cat'. True, 99]"
   ]
  },
  {
   "cell_type": "raw",
   "metadata": {},
   "source": [
    "# 8\n",
    "\n",
    "[3.14, 11, 'cat', True, 99]"
   ]
  },
  {
   "cell_type": "raw",
   "metadata": {},
   "source": [
    "# 9\n",
    "\n",
    "list concatenation operator is +\n",
    "list replication operator is *"
   ]
  },
  {
   "cell_type": "raw",
   "metadata": {},
   "source": [
    "# 10\n",
    "\n",
    ".append() adds element at the end of the list.\n",
    ".insert() adds the element at the specifed index in the list."
   ]
  },
  {
   "cell_type": "raw",
   "metadata": {},
   "source": [
    "# 11\n",
    "\n",
    "Removing by index is done using the del statement.\n",
    "del spam[2]\n",
    "\n",
    "Removing by value is done using the .remove() method.\n",
    "spam.remove('cat)"
   ]
  },
  {
   "cell_type": "raw",
   "metadata": {},
   "source": [
    "# 12\n",
    "\n",
    "Individual elements can be accessed using indexes.\n",
    "Can traverse over all the elements using a for loop.\n",
    "Both have concatenation and replication operators"
   ]
  },
  {
   "cell_type": "raw",
   "metadata": {},
   "source": [
    "# 13\n",
    "\n",
    "Lists are mutable, tuples are immutable.\n",
    "Can modify the list after defining the list.\n",
    "Tuples can only be defined once and the values cannot be altered again."
   ]
  },
  {
   "cell_type": "raw",
   "metadata": {},
   "source": [
    "# 14\n",
    "\n",
    "tuple_example = (42,)"
   ]
  },
  {
   "cell_type": "raw",
   "metadata": {},
   "source": [
    "# 15\n",
    "\n",
    "list to tuple.\n",
    "tuple([1, 2, 3])\n",
    "\n",
    "tuple to list.\n",
    "list((1, 2, 3))"
   ]
  },
  {
   "cell_type": "raw",
   "metadata": {},
   "source": [
    "# 16\n",
    "\n",
    "References"
   ]
  },
  {
   "cell_type": "raw",
   "metadata": {},
   "source": [
    "# 17\n",
    "\n",
    "copy.copy() only copies the elements in the list, does not worry about data structures within the list.\n",
    "copy.deepcopy() copies the list and also the all the inner lists."
   ]
  },
  {
   "cell_type": "markdown",
   "metadata": {},
   "source": [
    "## Practice Projects"
   ]
  },
  {
   "cell_type": "raw",
   "metadata": {},
   "source": [
    "# Comma Code"
   ]
  },
  {
   "cell_type": "code",
   "execution_count": 3,
   "metadata": {},
   "outputs": [],
   "source": [
    "# Creating the function.\n",
    "\n",
    "def list_to_str(spam):\n",
    "    result = ''\n",
    "    for i in range(len(spam) - 1):\n",
    "        result += spam[i] + ', '\n",
    "    result += 'and ' + spam[-1]\n",
    "    return result"
   ]
  },
  {
   "cell_type": "code",
   "execution_count": 4,
   "metadata": {},
   "outputs": [
    {
     "data": {
      "text/plain": [
       "'apples, bananas, tofu, and cats'"
      ]
     },
     "execution_count": 4,
     "metadata": {},
     "output_type": "execute_result"
    }
   ],
   "source": [
    "# Using the above function\n",
    "\n",
    "list_to_str(['apples', 'bananas', 'tofu', 'cats'])"
   ]
  },
  {
   "cell_type": "code",
   "execution_count": null,
   "metadata": {},
   "outputs": [],
   "source": []
  }
 ],
 "metadata": {
  "kernelspec": {
   "display_name": "Python 3",
   "language": "python",
   "name": "python3"
  },
  "language_info": {
   "codemirror_mode": {
    "name": "ipython",
    "version": 3
   },
   "file_extension": ".py",
   "mimetype": "text/x-python",
   "name": "python",
   "nbconvert_exporter": "python",
   "pygments_lexer": "ipython3",
   "version": "3.6.9"
  }
 },
 "nbformat": 4,
 "nbformat_minor": 4
}
