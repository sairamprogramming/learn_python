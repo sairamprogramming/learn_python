{
 "cells": [
  {
   "cell_type": "raw",
   "metadata": {},
   "source": [
    "# 1\n",
    "\n",
    "operators: *, -, /, +\n",
    "values: 'hello', -88.8, 5"
   ]
  },
  {
   "cell_type": "raw",
   "metadata": {},
   "source": [
    "# 2\n",
    "\n",
    "variable: spam\n",
    "string: 'spam'"
   ]
  },
  {
   "cell_type": "raw",
   "metadata": {},
   "source": [
    "# 3\n",
    "\n",
    "The three data types are:\n",
    "1) int\n",
    "2) float\n",
    "3) str"
   ]
  },
  {
   "cell_type": "raw",
   "metadata": {},
   "source": [
    "# 4\n",
    "\n",
    "All expressions are made up of values and operators.\n",
    "All expressions evaluate down to a single value."
   ]
  },
  {
   "cell_type": "raw",
   "metadata": {},
   "source": [
    "# 5\n",
    "\n",
    "Expression always evaluate down to a single value.\n",
    "Statement is a instruction to a computer to perform an action."
   ]
  },
  {
   "cell_type": "raw",
   "metadata": {},
   "source": [
    "# 6\n",
    "\n",
    "bacon still contains 20 as int in it."
   ]
  },
  {
   "cell_type": "raw",
   "metadata": {},
   "source": [
    "# 7\n",
    "\n",
    "'spam' + 'spamspam', evaluates to 'spamspamspam'\n",
    "'spam' * 3, evaluates to 'spamspamspam'"
   ]
  },
  {
   "cell_type": "raw",
   "metadata": {},
   "source": [
    "# 8\n",
    "\n",
    "Since a variable in python must always start with an alphabet "
   ]
  },
  {
   "cell_type": "raw",
   "metadata": {},
   "source": [
    "# 9\n",
    "\n",
    "The three functions are:\n",
    "1) int()\n",
    "2) float()\n",
    "3) str()"
   ]
  },
  {
   "cell_type": "raw",
   "metadata": {},
   "source": [
    "# 10\n",
    "\n",
    "Because we cannot concatenate a string and an integer.\n",
    "To correct this we have to use a typecasting function.\n",
    "\n",
    "'I have eaten ' + str(99) + ' burritos'"
   ]
  },
  {
   "cell_type": "code",
   "execution_count": null,
   "metadata": {},
   "outputs": [],
   "source": []
  }
 ],
 "metadata": {
  "kernelspec": {
   "display_name": "Python 3",
   "language": "python",
   "name": "python3"
  },
  "language_info": {
   "codemirror_mode": {
    "name": "ipython",
    "version": 3
   },
   "file_extension": ".py",
   "mimetype": "text/x-python",
   "name": "python",
   "nbconvert_exporter": "python",
   "pygments_lexer": "ipython3",
   "version": "3.6.9"
  }
 },
 "nbformat": 4,
 "nbformat_minor": 4
}
