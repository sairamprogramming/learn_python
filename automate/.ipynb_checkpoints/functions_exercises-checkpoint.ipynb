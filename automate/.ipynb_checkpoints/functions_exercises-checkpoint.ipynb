{
 "cells": [
  {
   "cell_type": "raw",
   "metadata": {},
   "source": [
    "# 1\n",
    "\n",
    "Functions are advantageous as they \n",
    "1) allow us to reuse code \n",
    "2) write code without repetation"
   ]
  },
  {
   "cell_type": "raw",
   "metadata": {},
   "source": [
    "# 2\n",
    "\n",
    "When the function is called."
   ]
  },
  {
   "cell_type": "raw",
   "metadata": {},
   "source": [
    "# 3\n",
    "\n",
    "def statement is used to define a function."
   ]
  },
  {
   "cell_type": "raw",
   "metadata": {},
   "source": [
    "# 4\n",
    "\n",
    "Function refers to the code that is defined.\n",
    "Function call is a refernce to the function for execution."
   ]
  },
  {
   "cell_type": "raw",
   "metadata": {},
   "source": [
    "# 5\n",
    "\n",
    "In python there is a single global scope.\n",
    "We can have as many as local scopes as we want"
   ]
  },
  {
   "cell_type": "raw",
   "metadata": {},
   "source": [
    "# 6\n",
    "\n",
    "The variables in the local scope are destroyed when the function call returns."
   ]
  },
  {
   "cell_type": "raw",
   "metadata": {},
   "source": [
    "# 7\n",
    "\n",
    "Return value is the value that is returned by a function.\n",
    "Yes the return value can be part of an expression."
   ]
  },
  {
   "cell_type": "raw",
   "metadata": {},
   "source": [
    "# 8\n",
    "\n",
    "None"
   ]
  },
  {
   "cell_type": "raw",
   "metadata": {},
   "source": [
    "# 9\n",
    "\n",
    "By using the global statement."
   ]
  },
  {
   "cell_type": "raw",
   "metadata": {},
   "source": [
    "# 10\n",
    "\n",
    "NoneType"
   ]
  },
  {
   "cell_type": "raw",
   "metadata": {},
   "source": [
    "# 11\n",
    "\n",
    "It import the module."
   ]
  },
  {
   "cell_type": "raw",
   "metadata": {},
   "source": [
    "# 12\n",
    "\n",
    "spam.bacon()"
   ]
  },
  {
   "cell_type": "raw",
   "metadata": {},
   "source": [
    "# 13\n",
    "\n",
    "By using exception handling.\n",
    "In python this is done using the try/except block."
   ]
  },
  {
   "cell_type": "raw",
   "metadata": {},
   "source": [
    "# 14\n",
    "\n",
    "In the try block the code that we suspect is going th raise an error is put.\n",
    "In the except block the code that we use to handle the error is put."
   ]
  },
  {
   "cell_type": "markdown",
   "metadata": {},
   "source": [
    "# Practice Project"
   ]
  },
  {
   "cell_type": "raw",
   "metadata": {},
   "source": [
    "The Collatz sequence"
   ]
  },
  {
   "cell_type": "code",
   "execution_count": 1,
   "metadata": {},
   "outputs": [],
   "source": [
    "def collatz(number):\n",
    "    if number % 2 == 0:\n",
    "        value = number // 2\n",
    "        print(value)\n",
    "        return value\n",
    "    else:\n",
    "        value = 3 * number + 1\n",
    "        print(value)\n",
    "        return value"
   ]
  },
  {
   "cell_type": "code",
   "execution_count": 5,
   "metadata": {},
   "outputs": [
    {
     "name": "stdin",
     "output_type": "stream",
     "text": [
      "Enter a number:  3\n"
     ]
    },
    {
     "name": "stdout",
     "output_type": "stream",
     "text": [
      "10\n",
      "5\n",
      "16\n",
      "8\n",
      "4\n",
      "2\n",
      "1\n"
     ]
    }
   ],
   "source": [
    "# Main Program\n",
    "\n",
    "num = int(input('Enter a number: '))\n",
    "while num != 1:\n",
    "    num = collatz(num)"
   ]
  },
  {
   "cell_type": "raw",
   "metadata": {},
   "source": [
    "Input Validation"
   ]
  },
  {
   "cell_type": "code",
   "execution_count": 8,
   "metadata": {},
   "outputs": [
    {
     "name": "stdin",
     "output_type": "stream",
     "text": [
      "Enter a number:  puppy\n"
     ]
    },
    {
     "name": "stdout",
     "output_type": "stream",
     "text": [
      "Error: Given input is not valid!!!\n"
     ]
    }
   ],
   "source": [
    "try:\n",
    "    num = int(input('Enter a number: '))    \n",
    "    while num != 1:\n",
    "        num = collatz(num)\n",
    "except:\n",
    "    print(\"Error: Given input is not valid!!!\")"
   ]
  },
  {
   "cell_type": "code",
   "execution_count": null,
   "metadata": {},
   "outputs": [],
   "source": []
  }
 ],
 "metadata": {
  "kernelspec": {
   "display_name": "Python 3",
   "language": "python",
   "name": "python3"
  },
  "language_info": {
   "codemirror_mode": {
    "name": "ipython",
    "version": 3
   },
   "file_extension": ".py",
   "mimetype": "text/x-python",
   "name": "python",
   "nbconvert_exporter": "python",
   "pygments_lexer": "ipython3",
   "version": "3.6.9"
  }
 },
 "nbformat": 4,
 "nbformat_minor": 4
}
